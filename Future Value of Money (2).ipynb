{
 "cells": [
  {
   "cell_type": "markdown",
   "source": [
    "## Future Value of Money"
   ],
   "metadata": {}
  },
  {
   "cell_type": "markdown",
   "source": [
    "##### Anthony Buttitta Section 1"
   ],
   "metadata": {}
  },
  {
   "cell_type": "code",
   "execution_count": 1,
   "source": [
    "investment = float(input(\"What is the investment amount (in dollars)?\"))\r\n",
    "time = float(input(\"How long will the investment be held (in years)?\"))\r\n",
    "rate = float(input(\"At what interest rate (in decimals)?\"))\r\n",
    "\r\n",
    "simple = investment * (1 + rate*time)\r\n",
    "compound = investment * (1 + rate) ** time\r\n",
    "print(\"For simple interest, the future value of money is: $\",round(simple,2), \".\", sep = \"\")\r\n",
    "print(\"For continuously compounded interest, the future value of money is: $\",round(compound,2),\".\", sep=\"\")\r\n"
   ],
   "outputs": [],
   "metadata": {}
  },
  {
   "cell_type": "code",
   "execution_count": null,
   "source": [],
   "outputs": [],
   "metadata": {}
  }
 ],
 "metadata": {
  "kernelspec": {
   "name": "python3",
   "display_name": "Python 3.8.8 64-bit ('base': conda)"
  },
  "language_info": {
   "codemirror_mode": {
    "name": "ipython",
    "version": 3
   },
   "file_extension": ".py",
   "mimetype": "text/x-python",
   "name": "python",
   "nbconvert_exporter": "python",
   "pygments_lexer": "ipython3",
   "version": "3.8.8"
  },
  "interpreter": {
   "hash": "4af0225202645ca9f84bbc9dc425e9d48b6795c5de9bdb8717a2b2a6752b59bf"
  }
 },
 "nbformat": 4,
 "nbformat_minor": 5
}