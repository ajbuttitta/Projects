{
 "cells": [
  {
   "cell_type": "markdown",
   "id": "e90a3cd1-b6a8-4b7b-a9da-1b1ec18d9f35",
   "metadata": {
    "tags": []
   },
   "source": [
    "## A7: Forecasting with Neural Networks"
   ]
  },
  {
   "cell_type": "markdown",
   "id": "da643885-9bbf-4260-9441-44e9cfdd2662",
   "metadata": {
    "tags": []
   },
   "source": [
    "## Import Modules"
   ]
  },
  {
   "cell_type": "code",
   "execution_count": 1,
   "id": "ca8e1a45-355d-48ee-8842-fef28bf43b40",
   "metadata": {},
   "outputs": [],
   "source": [
    "# Common imports\n",
    "import numpy as np\n",
    "import pandas as pd\n",
    "import matplotlib.pyplot as plt\n",
    "\n",
    "#tensorflow imports\n",
    "import tensorflow as tf\n",
    "from tensorflow import keras\n",
    "\n",
    "#sklearn imports\n",
    "import sklearn\n",
    "from sklearn.preprocessing import StandardScaler, MinMaxScaler, PowerTransformer\n",
    "from sklearn.linear_model import SGDRegressor, LinearRegression, Ridge, Lasso\n",
    "from sklearn.model_selection import train_test_split, GridSearchCV, RandomizedSearchCV, cross_val_score\n",
    "from sklearn.metrics import mean_squared_error\n",
    "from sklearn.impute import SimpleImputer\n",
    "from sklearn.preprocessing import OneHotEncoder, StandardScaler, OrdinalEncoder\n",
    "from sklearn.compose import ColumnTransformer\n",
    "from sklearn.pipeline import Pipeline\n",
    "from sklearn.tree import DecisionTreeRegressor\n",
    "from sklearn.ensemble import RandomForestRegressor"
   ]
  },
  {
   "cell_type": "markdown",
   "id": "9417cc62-1f88-4c2c-ab47-acfe84449c50",
   "metadata": {},
   "source": [
    "## Function Definitions"
   ]
  },
  {
   "cell_type": "code",
   "execution_count": 2,
   "id": "47c08929-06b4-4e68-a4b0-71c5d2a98986",
   "metadata": {},
   "outputs": [],
   "source": [
    "#function to verify the existence of a file in the current working directory and download it if not\n",
    "import os,urllib, urllib.request, sys, tarfile\n",
    "def downloadDataResource(file, sourcePath, compressed=None):\n",
    "    if not os.path.isfile(file):\n",
    "        try:\n",
    "            urllib.request.urlretrieve(sourcePath+(compressed if compressed else file),(compressed if compressed else file))\n",
    "            print(\"Downloaded\", (compressed if compressed else file) )\n",
    "            if compressed:\n",
    "                ucomp = tarfile.open(compressed)\n",
    "                ucomp.extractall()\n",
    "                ucomp.close()\n",
    "                print(\"File uncompressed.\")\n",
    "        except:\n",
    "            print(\"ERROR: File\", (compressed if compressed else file), \"not found. Data source missing.\")\n",
    "    else:\n",
    "        print(\"Data resource\", file, \"already downloaded.\")"
   ]
  },
  {
   "cell_type": "code",
   "execution_count": 3,
   "id": "31fa8976-ae00-45e4-a940-43ade13e0072",
   "metadata": {},
   "outputs": [],
   "source": [
    "#function provided that plots the learning curve for neural networks\n",
    "def nn_plot_learning_curve( history ):\n",
    "    pd.DataFrame(history.history).plot(figsize=(8, 5))\n",
    "    plt.grid(True)\n",
    "    ymin, ymax = [], []\n",
    "    for x in history.history.keys():\n",
    "        ymax.append( max(history.history[x]))\n",
    "        ymin.append( min(history.history[x]))\n",
    "    plt.gca().set_ylim(min(ymin)*.95, max(ymax)*1.05)\n",
    "    plt.xlabel(\"EPOCHS\")\n",
    "    plt.show()"
   ]
  },
  {
   "cell_type": "code",
   "execution_count": 4,
   "id": "60f2afad-9d4f-4691-85ed-d500b722cebb",
   "metadata": {},
   "outputs": [],
   "source": [
    "#function that shows a learning curve for any model that has predict or fit methods\n",
    "from sklearn.model_selection import learning_curve\n",
    "\n",
    "def plot_learning_curve(estimator,X,y,ylim=None,cv=None,n_jobs=None,train_sizes=np.linspace(0.1, 1.0, 20),scoring = 'neg_root_mean_squared_error'):\n",
    "    \n",
    "    _, axes = plt.subplots(1, 1, figsize=(10, 5))    \n",
    "    axes.set_title('Learning Curve')\n",
    "    if ylim is not None:\n",
    "        axes.set_ylim(*ylim)\n",
    "    axes.set_xlabel(\"Training examples\")\n",
    "    axes.set_ylabel(scoring)\n",
    "\n",
    "    train_sizes, train_scores, test_scores= learning_curve(estimator,X,y,cv=cv,n_jobs=n_jobs,train_sizes=train_sizes,scoring = scoring)\n",
    "    train_scores_mean = np.mean(train_scores, axis=1)\n",
    "    train_scores_std = np.std(train_scores, axis=1)\n",
    "    test_scores_mean = np.mean(test_scores, axis=1)\n",
    "    test_scores_std = np.std(test_scores, axis=1)\n",
    "\n",
    "    # Plot learning curve\n",
    "    axes.grid()\n",
    "    axes.fill_between(train_sizes,train_scores_mean - train_scores_std,train_scores_mean + train_scores_std,alpha=0.1,color=\"r\")\n",
    "    axes.fill_between(train_sizes,test_scores_mean - test_scores_std,test_scores_mean + test_scores_std,alpha=0.1,color=\"g\")\n",
    "    axes.plot(train_sizes, train_scores_mean, \"o-\", color=\"r\", label=\"Training score\")\n",
    "    axes.plot(train_sizes, test_scores_mean, \"o-\", color=\"g\", label=\"Cross-validation score\")\n",
    "    axes.legend(loc=\"best\")\n",
    "    plt.show()\n",
    "    \n",
    "    return\n",
    "\n",
    "#code to prevent warnings that can occur as a result of this function\n",
    "from warnings import simplefilter\n",
    "from sklearn.exceptions import ConvergenceWarning\n",
    "simplefilter(\"ignore\", category=ConvergenceWarning)"
   ]
  },
  {
   "cell_type": "code",
   "execution_count": 5,
   "id": "bc52439b-a78c-467e-ae28-58f6297f877c",
   "metadata": {},
   "outputs": [],
   "source": [
    "#function to plot actual values vs. predicted values\n",
    "def plot_actual_pred( actual, prediction ):\n",
    "    plt.plot(actual, \".-\", alpha=.6, label=\"Actual\")\n",
    "    plt.plot(prediction, \".-\", alpha=.6, label=\"Prediction\")\n",
    "    plt.grid(True)\n",
    "    plt.legend()\n",
    "    plt.show()"
   ]
  },
  {
   "cell_type": "code",
   "execution_count": 6,
   "id": "1ef3d75b-57cd-4598-9eea-b2596002991e",
   "metadata": {},
   "outputs": [],
   "source": [
    "#function to plot a series as well as the predicted and value to be predicted (if known)\n",
    "def plot_series(series, y=None, y_pred=None):\n",
    "    plt.plot(series, \".-\")\n",
    "    if y is not None:\n",
    "        plt.plot(range(series.shape[0], series.shape[0]+y.shape[0]), y, \"bx-\", markersize=10, label=\"Actual\")\n",
    "    if y_pred is not None:\n",
    "        plt.plot(range(series.shape[0], series.shape[0]+y_pred.shape[0]), y_pred, \"ro-\", label=\"Prediction\")\n",
    "    plt.grid(True)\n",
    "    plt.legend()\n",
    "    plt.show()"
   ]
  },
  {
   "cell_type": "code",
   "execution_count": 7,
   "id": "3db47c40-b244-4168-9f66-b1801e144424",
   "metadata": {},
   "outputs": [],
   "source": [
    "#function to plot a series as well as the predicted and value to be predicted (if known)\n",
    "def plot_series2(series, y=None, y_pred=None, x_label=\"$t$\", y_label=\"$x(t)$\"):\n",
    "    plt.plot(series, \".-\")\n",
    "    if y is not None:\n",
    "        plt.plot(n_steps, y, \"bx\", markersize=10)\n",
    "    if y_pred is not None:\n",
    "        plt.plot(n_steps, y_pred, \"ro\")\n",
    "    plt.grid(True)\n",
    "    if x_label:\n",
    "        plt.xlabel(x_label, fontsize=16)\n",
    "    if y_label:\n",
    "        plt.ylabel(y_label, fontsize=16, rotation=0)\n",
    "    plt.hlines(0, 0, 100, linewidth=1)\n",
    "    plt.axis([0, n_steps + 1, -1, 1])\n"
   ]
  },
  {
   "cell_type": "markdown",
   "id": "a5bd7d87-1ea3-43f0-933e-36df28f78e4a",
   "metadata": {},
   "source": [
    "## Source Data"
   ]
  },
  {
   "cell_type": "code",
   "execution_count": 8,
   "id": "77d5d2fe-264d-42ae-ad58-02c695e5382f",
   "metadata": {},
   "outputs": [
    {
     "name": "stdout",
     "output_type": "stream",
     "text": [
      "Data resource NVDA.csv already downloaded.\n",
      "Data resource Crypto.csv already downloaded.\n"
     ]
    }
   ],
   "source": [
    "#download data files if not currently found in your datasets directory (under the current working directory)\n",
    "path = 'https://raw.githubusercontent.com/SueMcMetzger/MachineLearning/main/chpt15/'\n",
    "\n",
    "filename = \"NVDA.csv\"\n",
    "downloadDataResource(filename,path)\n",
    "#create a dataframe with the data from the CSV file\n",
    "nvidia = pd.read_csv(filename)\n",
    "\n",
    "filename = \"Crypto.csv\"\n",
    "downloadDataResource(filename,path)\n",
    "#create a dataframe with the data from the CSV file\n",
    "crypto = pd.read_csv(filename)"
   ]
  },
  {
   "cell_type": "code",
   "execution_count": 9,
   "id": "a3817637-3c7f-4df1-b1d4-766449d29f7b",
   "metadata": {},
   "outputs": [
    {
     "name": "stdout",
     "output_type": "stream",
     "text": [
      "<class 'pandas.core.frame.DataFrame'>\n",
      "RangeIndex: 2383 entries, 0 to 2382\n",
      "Data columns (total 25 columns):\n",
      " #   Column          Non-Null Count  Dtype  \n",
      "---  ------          --------------  -----  \n",
      " 0   Date            2383 non-null   object \n",
      " 1   Price_ETH       2383 non-null   float64\n",
      " 2   TrxCount_ETH    2383 non-null   int64  \n",
      " 3   MarketCap_ETH   2383 non-null   float64\n",
      " 4   TxValAdj_ETH    2383 non-null   float64\n",
      " 5   HashRate_ETH    2383 non-null   float64\n",
      " 6   Supply_ETH      2383 non-null   float64\n",
      " 7   Price_BTC       2383 non-null   float64\n",
      " 8   TrxCount_BTC    2383 non-null   int64  \n",
      " 9   MarketCap_BTC   2383 non-null   float64\n",
      " 10  TxValAdj_BTC    2383 non-null   float64\n",
      " 11  HashRate_BTC    2383 non-null   float64\n",
      " 12  Supply_BTC      2383 non-null   float64\n",
      " 13  Price_LTC       2383 non-null   float64\n",
      " 14  TrxCount_LTC    2383 non-null   int64  \n",
      " 15  MarketCap_LTC   2383 non-null   float64\n",
      " 16  TxValAdj_LTC    2383 non-null   float64\n",
      " 17  HashRate_LTC    2383 non-null   float64\n",
      " 18  Supply_LTC      2383 non-null   float64\n",
      " 19  Price_DOGE      2383 non-null   float64\n",
      " 20  TrxCount_DOGE   2383 non-null   int64  \n",
      " 21  MarketCap_DOGE  2383 non-null   float64\n",
      " 22  TxValAdj_DOGE   2383 non-null   float64\n",
      " 23  HashRate_DOGE   2383 non-null   float64\n",
      " 24  Supply_DOGE     2383 non-null   float64\n",
      "dtypes: float64(20), int64(4), object(1)\n",
      "memory usage: 465.6+ KB\n"
     ]
    }
   ],
   "source": [
    "crypto.info()"
   ]
  },
  {
   "cell_type": "code",
   "execution_count": 10,
   "id": "02489070-34a7-4bd0-9333-6ea0bb329204",
   "metadata": {},
   "outputs": [
    {
     "name": "stdout",
     "output_type": "stream",
     "text": [
      "<class 'pandas.core.frame.DataFrame'>\n",
      "RangeIndex: 5809 entries, 0 to 5808\n",
      "Data columns (total 7 columns):\n",
      " #   Column     Non-Null Count  Dtype  \n",
      "---  ------     --------------  -----  \n",
      " 0   Date       5809 non-null   object \n",
      " 1   Open       5809 non-null   float64\n",
      " 2   High       5809 non-null   float64\n",
      " 3   Low        5809 non-null   float64\n",
      " 4   Close      5809 non-null   float64\n",
      " 5   Adj Close  5809 non-null   float64\n",
      " 6   Volume     5809 non-null   int64  \n",
      "dtypes: float64(5), int64(1), object(1)\n",
      "memory usage: 317.8+ KB\n"
     ]
    }
   ],
   "source": [
    "nvidia.info()"
   ]
  },
  {
   "cell_type": "code",
   "execution_count": 11,
   "id": "2825b5c6-d107-4b42-94ec-382560202198",
   "metadata": {},
   "outputs": [],
   "source": [
    "pd.set_option('display.max_columns', None)"
   ]
  },
  {
   "cell_type": "code",
   "execution_count": 12,
   "id": "d8f2801a-7172-4bc1-a60c-39427a11e3df",
   "metadata": {},
   "outputs": [
    {
     "data": {
      "text/html": [
       "<div>\n",
       "<style scoped>\n",
       "    .dataframe tbody tr th:only-of-type {\n",
       "        vertical-align: middle;\n",
       "    }\n",
       "\n",
       "    .dataframe tbody tr th {\n",
       "        vertical-align: top;\n",
       "    }\n",
       "\n",
       "    .dataframe thead th {\n",
       "        text-align: right;\n",
       "    }\n",
       "</style>\n",
       "<table border=\"1\" class=\"dataframe\">\n",
       "  <thead>\n",
       "    <tr style=\"text-align: right;\">\n",
       "      <th></th>\n",
       "      <th>Price_ETH</th>\n",
       "      <th>TrxCount_ETH</th>\n",
       "      <th>MarketCap_ETH</th>\n",
       "      <th>TxValAdj_ETH</th>\n",
       "      <th>HashRate_ETH</th>\n",
       "      <th>Supply_ETH</th>\n",
       "      <th>Price_BTC</th>\n",
       "      <th>TrxCount_BTC</th>\n",
       "      <th>MarketCap_BTC</th>\n",
       "      <th>TxValAdj_BTC</th>\n",
       "      <th>HashRate_BTC</th>\n",
       "      <th>Supply_BTC</th>\n",
       "      <th>Price_LTC</th>\n",
       "      <th>TrxCount_LTC</th>\n",
       "      <th>MarketCap_LTC</th>\n",
       "      <th>TxValAdj_LTC</th>\n",
       "      <th>HashRate_LTC</th>\n",
       "      <th>Supply_LTC</th>\n",
       "      <th>Price_DOGE</th>\n",
       "      <th>TrxCount_DOGE</th>\n",
       "      <th>MarketCap_DOGE</th>\n",
       "      <th>TxValAdj_DOGE</th>\n",
       "      <th>HashRate_DOGE</th>\n",
       "      <th>Supply_DOGE</th>\n",
       "    </tr>\n",
       "  </thead>\n",
       "  <tbody>\n",
       "    <tr>\n",
       "      <th>count</th>\n",
       "      <td>2383.000000</td>\n",
       "      <td>2.383000e+03</td>\n",
       "      <td>2.383000e+03</td>\n",
       "      <td>2.383000e+03</td>\n",
       "      <td>2383.000000</td>\n",
       "      <td>2.383000e+03</td>\n",
       "      <td>2383.000000</td>\n",
       "      <td>2383.000000</td>\n",
       "      <td>2.383000e+03</td>\n",
       "      <td>2.383000e+03</td>\n",
       "      <td>2.383000e+03</td>\n",
       "      <td>2.383000e+03</td>\n",
       "      <td>2383.000000</td>\n",
       "      <td>2383.000000</td>\n",
       "      <td>2.383000e+03</td>\n",
       "      <td>2.383000e+03</td>\n",
       "      <td>2383.000000</td>\n",
       "      <td>2.383000e+03</td>\n",
       "      <td>2383.000000</td>\n",
       "      <td>2383.000000</td>\n",
       "      <td>2.383000e+03</td>\n",
       "      <td>2.383000e+03</td>\n",
       "      <td>2383.000000</td>\n",
       "      <td>2.383000e+03</td>\n",
       "    </tr>\n",
       "    <tr>\n",
       "      <th>mean</th>\n",
       "      <td>666.942001</td>\n",
       "      <td>6.174581e+05</td>\n",
       "      <td>7.527401e+10</td>\n",
       "      <td>2.197877e+09</td>\n",
       "      <td>201.600376</td>\n",
       "      <td>1.001719e+08</td>\n",
       "      <td>12751.086981</td>\n",
       "      <td>264843.855644</td>\n",
       "      <td>2.341219e+11</td>\n",
       "      <td>3.557249e+09</td>\n",
       "      <td>6.116127e+07</td>\n",
       "      <td>1.722628e+07</td>\n",
       "      <td>74.714412</td>\n",
       "      <td>40761.534620</td>\n",
       "      <td>4.684547e+09</td>\n",
       "      <td>8.860426e+07</td>\n",
       "      <td>167.320547</td>\n",
       "      <td>5.777176e+07</td>\n",
       "      <td>0.036051</td>\n",
       "      <td>24856.966009</td>\n",
       "      <td>4.689307e+09</td>\n",
       "      <td>1.256408e+08</td>\n",
       "      <td>152.832141</td>\n",
       "      <td>1.168617e+11</td>\n",
       "    </tr>\n",
       "    <tr>\n",
       "      <th>std</th>\n",
       "      <td>1076.946095</td>\n",
       "      <td>4.512452e+05</td>\n",
       "      <td>1.265158e+11</td>\n",
       "      <td>4.439612e+09</td>\n",
       "      <td>218.780806</td>\n",
       "      <td>1.339432e+07</td>\n",
       "      <td>16581.673740</td>\n",
       "      <td>62530.057009</td>\n",
       "      <td>3.129318e+11</td>\n",
       "      <td>5.080898e+09</td>\n",
       "      <td>5.907335e+07</td>\n",
       "      <td>1.253831e+06</td>\n",
       "      <td>71.177977</td>\n",
       "      <td>42751.009262</td>\n",
       "      <td>4.622943e+09</td>\n",
       "      <td>1.365038e+08</td>\n",
       "      <td>136.167325</td>\n",
       "      <td>8.421240e+06</td>\n",
       "      <td>0.089771</td>\n",
       "      <td>12491.256378</td>\n",
       "      <td>1.171965e+10</td>\n",
       "      <td>5.002828e+08</td>\n",
       "      <td>127.666217</td>\n",
       "      <td>9.487663e+09</td>\n",
       "    </tr>\n",
       "    <tr>\n",
       "      <th>min</th>\n",
       "      <td>0.420000</td>\n",
       "      <td>1.329000e+03</td>\n",
       "      <td>3.117112e+07</td>\n",
       "      <td>4.108459e+04</td>\n",
       "      <td>0.096483</td>\n",
       "      <td>7.230786e+07</td>\n",
       "      <td>211.955918</td>\n",
       "      <td>88144.000000</td>\n",
       "      <td>3.080698e+09</td>\n",
       "      <td>4.780058e+07</td>\n",
       "      <td>3.300851e+05</td>\n",
       "      <td>1.447544e+07</td>\n",
       "      <td>2.638043</td>\n",
       "      <td>2154.000000</td>\n",
       "      <td>1.111291e+08</td>\n",
       "      <td>9.787829e+05</td>\n",
       "      <td>0.900050</td>\n",
       "      <td>4.151851e+07</td>\n",
       "      <td>0.000113</td>\n",
       "      <td>5875.000000</td>\n",
       "      <td>1.145155e+07</td>\n",
       "      <td>6.432127e+04</td>\n",
       "      <td>0.946599</td>\n",
       "      <td>1.004700e+11</td>\n",
       "    </tr>\n",
       "    <tr>\n",
       "      <th>25%</th>\n",
       "      <td>43.953906</td>\n",
       "      <td>8.030550e+04</td>\n",
       "      <td>3.978578e+09</td>\n",
       "      <td>1.122336e+08</td>\n",
       "      <td>14.947846</td>\n",
       "      <td>9.011896e+07</td>\n",
       "      <td>1184.953306</td>\n",
       "      <td>220449.500000</td>\n",
       "      <td>1.920951e+10</td>\n",
       "      <td>5.165114e+08</td>\n",
       "      <td>3.548470e+06</td>\n",
       "      <td>1.623771e+07</td>\n",
       "      <td>5.435874</td>\n",
       "      <td>7083.500000</td>\n",
       "      <td>2.514113e+08</td>\n",
       "      <td>1.081929e+07</td>\n",
       "      <td>2.802288</td>\n",
       "      <td>5.035537e+07</td>\n",
       "      <td>0.000326</td>\n",
       "      <td>14317.500000</td>\n",
       "      <td>3.403131e+07</td>\n",
       "      <td>9.329790e+05</td>\n",
       "      <td>2.631843</td>\n",
       "      <td>1.086430e+11</td>\n",
       "    </tr>\n",
       "    <tr>\n",
       "      <th>50%</th>\n",
       "      <td>220.784826</td>\n",
       "      <td>6.269570e+05</td>\n",
       "      <td>2.314622e+10</td>\n",
       "      <td>4.592932e+08</td>\n",
       "      <td>165.076158</td>\n",
       "      <td>1.031441e+08</td>\n",
       "      <td>7110.823882</td>\n",
       "      <td>269292.000000</td>\n",
       "      <td>1.254380e+11</td>\n",
       "      <td>1.683711e+09</td>\n",
       "      <td>4.365735e+07</td>\n",
       "      <td>1.737140e+07</td>\n",
       "      <td>54.518744</td>\n",
       "      <td>24858.000000</td>\n",
       "      <td>3.223883e+09</td>\n",
       "      <td>3.389688e+07</td>\n",
       "      <td>181.487550</td>\n",
       "      <td>5.913112e+07</td>\n",
       "      <td>0.002507</td>\n",
       "      <td>24628.000000</td>\n",
       "      <td>3.010325e+08</td>\n",
       "      <td>3.627112e+06</td>\n",
       "      <td>164.405378</td>\n",
       "      <td>1.168740e+11</td>\n",
       "    </tr>\n",
       "    <tr>\n",
       "      <th>75%</th>\n",
       "      <td>548.745847</td>\n",
       "      <td>1.034910e+06</td>\n",
       "      <td>5.614904e+10</td>\n",
       "      <td>1.765596e+09</td>\n",
       "      <td>231.664012</td>\n",
       "      <td>1.115493e+08</td>\n",
       "      <td>11270.358880</td>\n",
       "      <td>311829.000000</td>\n",
       "      <td>2.019710e+11</td>\n",
       "      <td>3.425637e+09</td>\n",
       "      <td>1.127478e+08</td>\n",
       "      <td>1.841780e+07</td>\n",
       "      <td>118.284197</td>\n",
       "      <td>49473.000000</td>\n",
       "      <td>7.332080e+09</td>\n",
       "      <td>1.191878e+08</td>\n",
       "      <td>282.886332</td>\n",
       "      <td>6.534752e+07</td>\n",
       "      <td>0.004134</td>\n",
       "      <td>31322.500000</td>\n",
       "      <td>4.828818e+08</td>\n",
       "      <td>1.210203e+07</td>\n",
       "      <td>261.216548</td>\n",
       "      <td>1.250910e+11</td>\n",
       "    </tr>\n",
       "    <tr>\n",
       "      <th>max</th>\n",
       "      <td>4811.156463</td>\n",
       "      <td>1.716600e+06</td>\n",
       "      <td>5.651020e+11</td>\n",
       "      <td>1.088340e+11</td>\n",
       "      <td>977.744667</td>\n",
       "      <td>1.177476e+08</td>\n",
       "      <td>67541.755510</td>\n",
       "      <td>498142.000000</td>\n",
       "      <td>1.274350e+12</td>\n",
       "      <td>3.646588e+10</td>\n",
       "      <td>2.481103e+08</td>\n",
       "      <td>1.895816e+07</td>\n",
       "      <td>385.473617</td>\n",
       "      <td>223177.000000</td>\n",
       "      <td>2.606517e+10</td>\n",
       "      <td>1.944886e+09</td>\n",
       "      <td>502.314318</td>\n",
       "      <td>6.964091e+07</td>\n",
       "      <td>0.685335</td>\n",
       "      <td>139656.000000</td>\n",
       "      <td>8.866284e+10</td>\n",
       "      <td>8.698969e+09</td>\n",
       "      <td>448.592733</td>\n",
       "      <td>1.332190e+11</td>\n",
       "    </tr>\n",
       "  </tbody>\n",
       "</table>\n",
       "</div>"
      ],
      "text/plain": [
       "         Price_ETH  TrxCount_ETH  MarketCap_ETH  TxValAdj_ETH  HashRate_ETH  \\\n",
       "count  2383.000000  2.383000e+03   2.383000e+03  2.383000e+03   2383.000000   \n",
       "mean    666.942001  6.174581e+05   7.527401e+10  2.197877e+09    201.600376   \n",
       "std    1076.946095  4.512452e+05   1.265158e+11  4.439612e+09    218.780806   \n",
       "min       0.420000  1.329000e+03   3.117112e+07  4.108459e+04      0.096483   \n",
       "25%      43.953906  8.030550e+04   3.978578e+09  1.122336e+08     14.947846   \n",
       "50%     220.784826  6.269570e+05   2.314622e+10  4.592932e+08    165.076158   \n",
       "75%     548.745847  1.034910e+06   5.614904e+10  1.765596e+09    231.664012   \n",
       "max    4811.156463  1.716600e+06   5.651020e+11  1.088340e+11    977.744667   \n",
       "\n",
       "         Supply_ETH     Price_BTC   TrxCount_BTC  MarketCap_BTC  TxValAdj_BTC  \\\n",
       "count  2.383000e+03   2383.000000    2383.000000   2.383000e+03  2.383000e+03   \n",
       "mean   1.001719e+08  12751.086981  264843.855644   2.341219e+11  3.557249e+09   \n",
       "std    1.339432e+07  16581.673740   62530.057009   3.129318e+11  5.080898e+09   \n",
       "min    7.230786e+07    211.955918   88144.000000   3.080698e+09  4.780058e+07   \n",
       "25%    9.011896e+07   1184.953306  220449.500000   1.920951e+10  5.165114e+08   \n",
       "50%    1.031441e+08   7110.823882  269292.000000   1.254380e+11  1.683711e+09   \n",
       "75%    1.115493e+08  11270.358880  311829.000000   2.019710e+11  3.425637e+09   \n",
       "max    1.177476e+08  67541.755510  498142.000000   1.274350e+12  3.646588e+10   \n",
       "\n",
       "       HashRate_BTC    Supply_BTC    Price_LTC   TrxCount_LTC  MarketCap_LTC  \\\n",
       "count  2.383000e+03  2.383000e+03  2383.000000    2383.000000   2.383000e+03   \n",
       "mean   6.116127e+07  1.722628e+07    74.714412   40761.534620   4.684547e+09   \n",
       "std    5.907335e+07  1.253831e+06    71.177977   42751.009262   4.622943e+09   \n",
       "min    3.300851e+05  1.447544e+07     2.638043    2154.000000   1.111291e+08   \n",
       "25%    3.548470e+06  1.623771e+07     5.435874    7083.500000   2.514113e+08   \n",
       "50%    4.365735e+07  1.737140e+07    54.518744   24858.000000   3.223883e+09   \n",
       "75%    1.127478e+08  1.841780e+07   118.284197   49473.000000   7.332080e+09   \n",
       "max    2.481103e+08  1.895816e+07   385.473617  223177.000000   2.606517e+10   \n",
       "\n",
       "       TxValAdj_LTC  HashRate_LTC    Supply_LTC   Price_DOGE  TrxCount_DOGE  \\\n",
       "count  2.383000e+03   2383.000000  2.383000e+03  2383.000000    2383.000000   \n",
       "mean   8.860426e+07    167.320547  5.777176e+07     0.036051   24856.966009   \n",
       "std    1.365038e+08    136.167325  8.421240e+06     0.089771   12491.256378   \n",
       "min    9.787829e+05      0.900050  4.151851e+07     0.000113    5875.000000   \n",
       "25%    1.081929e+07      2.802288  5.035537e+07     0.000326   14317.500000   \n",
       "50%    3.389688e+07    181.487550  5.913112e+07     0.002507   24628.000000   \n",
       "75%    1.191878e+08    282.886332  6.534752e+07     0.004134   31322.500000   \n",
       "max    1.944886e+09    502.314318  6.964091e+07     0.685335  139656.000000   \n",
       "\n",
       "       MarketCap_DOGE  TxValAdj_DOGE  HashRate_DOGE   Supply_DOGE  \n",
       "count    2.383000e+03   2.383000e+03    2383.000000  2.383000e+03  \n",
       "mean     4.689307e+09   1.256408e+08     152.832141  1.168617e+11  \n",
       "std      1.171965e+10   5.002828e+08     127.666217  9.487663e+09  \n",
       "min      1.145155e+07   6.432127e+04       0.946599  1.004700e+11  \n",
       "25%      3.403131e+07   9.329790e+05       2.631843  1.086430e+11  \n",
       "50%      3.010325e+08   3.627112e+06     164.405378  1.168740e+11  \n",
       "75%      4.828818e+08   1.210203e+07     261.216548  1.250910e+11  \n",
       "max      8.866284e+10   8.698969e+09     448.592733  1.332190e+11  "
      ]
     },
     "execution_count": 12,
     "metadata": {},
     "output_type": "execute_result"
    }
   ],
   "source": [
    "crypto.describe()"
   ]
  },
  {
   "cell_type": "code",
   "execution_count": 13,
   "id": "9d28c6e5-7478-4ccc-812c-f848d8442b41",
   "metadata": {},
   "outputs": [
    {
     "data": {
      "text/html": [
       "<div>\n",
       "<style scoped>\n",
       "    .dataframe tbody tr th:only-of-type {\n",
       "        vertical-align: middle;\n",
       "    }\n",
       "\n",
       "    .dataframe tbody tr th {\n",
       "        vertical-align: top;\n",
       "    }\n",
       "\n",
       "    .dataframe thead th {\n",
       "        text-align: right;\n",
       "    }\n",
       "</style>\n",
       "<table border=\"1\" class=\"dataframe\">\n",
       "  <thead>\n",
       "    <tr style=\"text-align: right;\">\n",
       "      <th></th>\n",
       "      <th>Date</th>\n",
       "      <th>Price_ETH</th>\n",
       "      <th>TrxCount_ETH</th>\n",
       "      <th>MarketCap_ETH</th>\n",
       "      <th>TxValAdj_ETH</th>\n",
       "      <th>HashRate_ETH</th>\n",
       "      <th>Supply_ETH</th>\n",
       "      <th>Price_BTC</th>\n",
       "      <th>TrxCount_BTC</th>\n",
       "      <th>MarketCap_BTC</th>\n",
       "      <th>TxValAdj_BTC</th>\n",
       "      <th>HashRate_BTC</th>\n",
       "      <th>Supply_BTC</th>\n",
       "      <th>Price_LTC</th>\n",
       "      <th>TrxCount_LTC</th>\n",
       "      <th>MarketCap_LTC</th>\n",
       "      <th>TxValAdj_LTC</th>\n",
       "      <th>HashRate_LTC</th>\n",
       "      <th>Supply_LTC</th>\n",
       "      <th>Price_DOGE</th>\n",
       "      <th>TrxCount_DOGE</th>\n",
       "      <th>MarketCap_DOGE</th>\n",
       "      <th>TxValAdj_DOGE</th>\n",
       "      <th>HashRate_DOGE</th>\n",
       "      <th>Supply_DOGE</th>\n",
       "    </tr>\n",
       "  </thead>\n",
       "  <tbody>\n",
       "    <tr>\n",
       "      <th>0</th>\n",
       "      <td>8/8/2015</td>\n",
       "      <td>1.19999</td>\n",
       "      <td>2881</td>\n",
       "      <td>86768712.52</td>\n",
       "      <td>1.609869e+07</td>\n",
       "      <td>0.096483</td>\n",
       "      <td>72307863.00</td>\n",
       "      <td>261.450276</td>\n",
       "      <td>100950</td>\n",
       "      <td>3.784608e+09</td>\n",
       "      <td>9.071916e+07</td>\n",
       "      <td>420413.4050</td>\n",
       "      <td>14475439.77</td>\n",
       "      <td>3.883915</td>\n",
       "      <td>3502</td>\n",
       "      <td>161254362.2</td>\n",
       "      <td>4450947.229</td>\n",
       "      <td>1.373247</td>\n",
       "      <td>41518510.58</td>\n",
       "      <td>0.000158</td>\n",
       "      <td>13529</td>\n",
       "      <td>15842194.95</td>\n",
       "      <td>255789.1237</td>\n",
       "      <td>1.274322</td>\n",
       "      <td>1.004700e+11</td>\n",
       "    </tr>\n",
       "    <tr>\n",
       "      <th>1</th>\n",
       "      <td>8/9/2015</td>\n",
       "      <td>1.19999</td>\n",
       "      <td>1329</td>\n",
       "      <td>86801326.19</td>\n",
       "      <td>1.233428e+06</td>\n",
       "      <td>0.101360</td>\n",
       "      <td>72335041.28</td>\n",
       "      <td>266.342020</td>\n",
       "      <td>88144</td>\n",
       "      <td>3.856363e+09</td>\n",
       "      <td>1.870474e+08</td>\n",
       "      <td>372000.7193</td>\n",
       "      <td>14478989.77</td>\n",
       "      <td>3.933676</td>\n",
       "      <td>3250</td>\n",
       "      <td>163428350.2</td>\n",
       "      <td>5110514.149</td>\n",
       "      <td>1.283339</td>\n",
       "      <td>41545960.58</td>\n",
       "      <td>0.000165</td>\n",
       "      <td>15565</td>\n",
       "      <td>16611370.04</td>\n",
       "      <td>236901.1002</td>\n",
       "      <td>1.213870</td>\n",
       "      <td>1.004830e+11</td>\n",
       "    </tr>\n",
       "    <tr>\n",
       "      <th>2</th>\n",
       "      <td>8/10/2015</td>\n",
       "      <td>1.19999</td>\n",
       "      <td>2037</td>\n",
       "      <td>86834706.72</td>\n",
       "      <td>1.742816e+06</td>\n",
       "      <td>0.111855</td>\n",
       "      <td>72362858.62</td>\n",
       "      <td>264.928825</td>\n",
       "      <td>115928</td>\n",
       "      <td>3.837008e+09</td>\n",
       "      <td>7.485955e+07</td>\n",
       "      <td>437493.8037</td>\n",
       "      <td>14483164.77</td>\n",
       "      <td>3.955826</td>\n",
       "      <td>3622</td>\n",
       "      <td>164459746.4</td>\n",
       "      <td>4634816.727</td>\n",
       "      <td>1.303318</td>\n",
       "      <td>41574060.58</td>\n",
       "      <td>0.000163</td>\n",
       "      <td>14403</td>\n",
       "      <td>16332832.23</td>\n",
       "      <td>368072.2008</td>\n",
       "      <td>1.187068</td>\n",
       "      <td>1.004960e+11</td>\n",
       "    </tr>\n",
       "    <tr>\n",
       "      <th>3</th>\n",
       "      <td>8/11/2015</td>\n",
       "      <td>0.99000</td>\n",
       "      <td>4963</td>\n",
       "      <td>71666977.57</td>\n",
       "      <td>1.190079e+06</td>\n",
       "      <td>0.124450</td>\n",
       "      <td>72390886.44</td>\n",
       "      <td>271.421736</td>\n",
       "      <td>115981</td>\n",
       "      <td>3.932145e+09</td>\n",
       "      <td>9.045684e+07</td>\n",
       "      <td>424395.1868</td>\n",
       "      <td>14487214.77</td>\n",
       "      <td>4.146912</td>\n",
       "      <td>3419</td>\n",
       "      <td>172520481.2</td>\n",
       "      <td>4729593.083</td>\n",
       "      <td>1.303318</td>\n",
       "      <td>41602160.58</td>\n",
       "      <td>0.000165</td>\n",
       "      <td>13457</td>\n",
       "      <td>16623780.95</td>\n",
       "      <td>287029.5232</td>\n",
       "      <td>1.206818</td>\n",
       "      <td>1.005090e+11</td>\n",
       "    </tr>\n",
       "    <tr>\n",
       "      <th>4</th>\n",
       "      <td>8/12/2015</td>\n",
       "      <td>1.28800</td>\n",
       "      <td>2036</td>\n",
       "      <td>93274715.50</td>\n",
       "      <td>8.199163e+05</td>\n",
       "      <td>0.130915</td>\n",
       "      <td>72418257.37</td>\n",
       "      <td>268.143868</td>\n",
       "      <td>116970</td>\n",
       "      <td>3.885502e+09</td>\n",
       "      <td>1.213673e+08</td>\n",
       "      <td>330085.1453</td>\n",
       "      <td>14490364.77</td>\n",
       "      <td>4.053877</td>\n",
       "      <td>3501</td>\n",
       "      <td>168765370.5</td>\n",
       "      <td>3929643.067</td>\n",
       "      <td>1.318284</td>\n",
       "      <td>41630610.58</td>\n",
       "      <td>0.000161</td>\n",
       "      <td>13527</td>\n",
       "      <td>16217282.80</td>\n",
       "      <td>204588.0333</td>\n",
       "      <td>1.192014</td>\n",
       "      <td>1.005220e+11</td>\n",
       "    </tr>\n",
       "  </tbody>\n",
       "</table>\n",
       "</div>"
      ],
      "text/plain": [
       "        Date  Price_ETH  TrxCount_ETH  MarketCap_ETH  TxValAdj_ETH  \\\n",
       "0   8/8/2015    1.19999          2881    86768712.52  1.609869e+07   \n",
       "1   8/9/2015    1.19999          1329    86801326.19  1.233428e+06   \n",
       "2  8/10/2015    1.19999          2037    86834706.72  1.742816e+06   \n",
       "3  8/11/2015    0.99000          4963    71666977.57  1.190079e+06   \n",
       "4  8/12/2015    1.28800          2036    93274715.50  8.199163e+05   \n",
       "\n",
       "   HashRate_ETH   Supply_ETH   Price_BTC  TrxCount_BTC  MarketCap_BTC  \\\n",
       "0      0.096483  72307863.00  261.450276        100950   3.784608e+09   \n",
       "1      0.101360  72335041.28  266.342020         88144   3.856363e+09   \n",
       "2      0.111855  72362858.62  264.928825        115928   3.837008e+09   \n",
       "3      0.124450  72390886.44  271.421736        115981   3.932145e+09   \n",
       "4      0.130915  72418257.37  268.143868        116970   3.885502e+09   \n",
       "\n",
       "   TxValAdj_BTC  HashRate_BTC   Supply_BTC  Price_LTC  TrxCount_LTC  \\\n",
       "0  9.071916e+07   420413.4050  14475439.77   3.883915          3502   \n",
       "1  1.870474e+08   372000.7193  14478989.77   3.933676          3250   \n",
       "2  7.485955e+07   437493.8037  14483164.77   3.955826          3622   \n",
       "3  9.045684e+07   424395.1868  14487214.77   4.146912          3419   \n",
       "4  1.213673e+08   330085.1453  14490364.77   4.053877          3501   \n",
       "\n",
       "   MarketCap_LTC  TxValAdj_LTC  HashRate_LTC   Supply_LTC  Price_DOGE  \\\n",
       "0    161254362.2   4450947.229      1.373247  41518510.58    0.000158   \n",
       "1    163428350.2   5110514.149      1.283339  41545960.58    0.000165   \n",
       "2    164459746.4   4634816.727      1.303318  41574060.58    0.000163   \n",
       "3    172520481.2   4729593.083      1.303318  41602160.58    0.000165   \n",
       "4    168765370.5   3929643.067      1.318284  41630610.58    0.000161   \n",
       "\n",
       "   TrxCount_DOGE  MarketCap_DOGE  TxValAdj_DOGE  HashRate_DOGE   Supply_DOGE  \n",
       "0          13529     15842194.95    255789.1237       1.274322  1.004700e+11  \n",
       "1          15565     16611370.04    236901.1002       1.213870  1.004830e+11  \n",
       "2          14403     16332832.23    368072.2008       1.187068  1.004960e+11  \n",
       "3          13457     16623780.95    287029.5232       1.206818  1.005090e+11  \n",
       "4          13527     16217282.80    204588.0333       1.192014  1.005220e+11  "
      ]
     },
     "execution_count": 13,
     "metadata": {},
     "output_type": "execute_result"
    }
   ],
   "source": [
    "crypto.head()"
   ]
  },
  {
   "cell_type": "code",
   "execution_count": 14,
   "id": "349ca388-f0d6-4c50-8702-bcedbb6b80db",
   "metadata": {},
   "outputs": [],
   "source": [
    "# convert the 'Date' column to datetime format\n",
    "crypto['Date']= pd.to_datetime(crypto['Date'])"
   ]
  },
  {
   "cell_type": "code",
   "execution_count": 15,
   "id": "1c35faaa-982d-46ce-80b6-4d74a9288501",
   "metadata": {},
   "outputs": [
    {
     "name": "stdout",
     "output_type": "stream",
     "text": [
      "<class 'pandas.core.frame.DataFrame'>\n",
      "RangeIndex: 2383 entries, 0 to 2382\n",
      "Data columns (total 25 columns):\n",
      " #   Column          Non-Null Count  Dtype         \n",
      "---  ------          --------------  -----         \n",
      " 0   Date            2383 non-null   datetime64[ns]\n",
      " 1   Price_ETH       2383 non-null   float64       \n",
      " 2   TrxCount_ETH    2383 non-null   int64         \n",
      " 3   MarketCap_ETH   2383 non-null   float64       \n",
      " 4   TxValAdj_ETH    2383 non-null   float64       \n",
      " 5   HashRate_ETH    2383 non-null   float64       \n",
      " 6   Supply_ETH      2383 non-null   float64       \n",
      " 7   Price_BTC       2383 non-null   float64       \n",
      " 8   TrxCount_BTC    2383 non-null   int64         \n",
      " 9   MarketCap_BTC   2383 non-null   float64       \n",
      " 10  TxValAdj_BTC    2383 non-null   float64       \n",
      " 11  HashRate_BTC    2383 non-null   float64       \n",
      " 12  Supply_BTC      2383 non-null   float64       \n",
      " 13  Price_LTC       2383 non-null   float64       \n",
      " 14  TrxCount_LTC    2383 non-null   int64         \n",
      " 15  MarketCap_LTC   2383 non-null   float64       \n",
      " 16  TxValAdj_LTC    2383 non-null   float64       \n",
      " 17  HashRate_LTC    2383 non-null   float64       \n",
      " 18  Supply_LTC      2383 non-null   float64       \n",
      " 19  Price_DOGE      2383 non-null   float64       \n",
      " 20  TrxCount_DOGE   2383 non-null   int64         \n",
      " 21  MarketCap_DOGE  2383 non-null   float64       \n",
      " 22  TxValAdj_DOGE   2383 non-null   float64       \n",
      " 23  HashRate_DOGE   2383 non-null   float64       \n",
      " 24  Supply_DOGE     2383 non-null   float64       \n",
      "dtypes: datetime64[ns](1), float64(20), int64(4)\n",
      "memory usage: 465.6 KB\n"
     ]
    }
   ],
   "source": [
    "crypto.info()"
   ]
  },
  {
   "cell_type": "code",
   "execution_count": 16,
   "id": "7b66f1e9-c2d8-4bc8-a7b7-1a3de3eb92b1",
   "metadata": {},
   "outputs": [
    {
     "data": {
      "text/plain": [
       "0      2015-08-08\n",
       "1      2015-08-09\n",
       "2      2015-08-10\n",
       "3      2015-08-11\n",
       "4      2015-08-12\n",
       "          ...    \n",
       "2378   2022-02-10\n",
       "2379   2022-02-11\n",
       "2380   2022-02-12\n",
       "2381   2022-02-13\n",
       "2382   2022-02-14\n",
       "Name: Date, Length: 2383, dtype: datetime64[ns]"
      ]
     },
     "execution_count": 16,
     "metadata": {},
     "output_type": "execute_result"
    }
   ],
   "source": [
    "crypto.Date"
   ]
  },
  {
   "cell_type": "code",
   "execution_count": 17,
   "id": "e7268237-e3b3-4d27-884a-5f5a44817dac",
   "metadata": {},
   "outputs": [],
   "source": [
    "crypto[\"Year\"] = crypto.Date.dt.year\n",
    "crypto[\"Month\"] = crypto.Date.dt.month\n",
    "crypto[\"Day\"] = crypto.Date.dt.day"
   ]
  },
  {
   "cell_type": "code",
   "execution_count": 18,
   "id": "f9320bd1-15cf-4425-92a2-9b03cbd29b8d",
   "metadata": {},
   "outputs": [
    {
     "data": {
      "text/html": [
       "<div>\n",
       "<style scoped>\n",
       "    .dataframe tbody tr th:only-of-type {\n",
       "        vertical-align: middle;\n",
       "    }\n",
       "\n",
       "    .dataframe tbody tr th {\n",
       "        vertical-align: top;\n",
       "    }\n",
       "\n",
       "    .dataframe thead th {\n",
       "        text-align: right;\n",
       "    }\n",
       "</style>\n",
       "<table border=\"1\" class=\"dataframe\">\n",
       "  <thead>\n",
       "    <tr style=\"text-align: right;\">\n",
       "      <th></th>\n",
       "      <th>Date</th>\n",
       "      <th>Price_ETH</th>\n",
       "      <th>TrxCount_ETH</th>\n",
       "      <th>MarketCap_ETH</th>\n",
       "      <th>TxValAdj_ETH</th>\n",
       "      <th>HashRate_ETH</th>\n",
       "      <th>Supply_ETH</th>\n",
       "      <th>Price_BTC</th>\n",
       "      <th>TrxCount_BTC</th>\n",
       "      <th>MarketCap_BTC</th>\n",
       "      <th>TxValAdj_BTC</th>\n",
       "      <th>HashRate_BTC</th>\n",
       "      <th>Supply_BTC</th>\n",
       "      <th>Price_LTC</th>\n",
       "      <th>TrxCount_LTC</th>\n",
       "      <th>MarketCap_LTC</th>\n",
       "      <th>TxValAdj_LTC</th>\n",
       "      <th>HashRate_LTC</th>\n",
       "      <th>Supply_LTC</th>\n",
       "      <th>Price_DOGE</th>\n",
       "      <th>TrxCount_DOGE</th>\n",
       "      <th>MarketCap_DOGE</th>\n",
       "      <th>TxValAdj_DOGE</th>\n",
       "      <th>HashRate_DOGE</th>\n",
       "      <th>Supply_DOGE</th>\n",
       "      <th>Year</th>\n",
       "      <th>Month</th>\n",
       "      <th>Day</th>\n",
       "    </tr>\n",
       "  </thead>\n",
       "  <tbody>\n",
       "    <tr>\n",
       "      <th>2378</th>\n",
       "      <td>2022-02-10</td>\n",
       "      <td>3080.565482</td>\n",
       "      <td>1205676</td>\n",
       "      <td>3.626330e+11</td>\n",
       "      <td>1.108659e+10</td>\n",
       "      <td>959.092859</td>\n",
       "      <td>117716425.9</td>\n",
       "      <td>43614.34270</td>\n",
       "      <td>261192</td>\n",
       "      <td>8.266730e+11</td>\n",
       "      <td>1.967672e+10</td>\n",
       "      <td>195038601.0</td>\n",
       "      <td>18954162.54</td>\n",
       "      <td>135.482673</td>\n",
       "      <td>117692</td>\n",
       "      <td>9.431267e+09</td>\n",
       "      <td>1.424494e+08</td>\n",
       "      <td>375.571175</td>\n",
       "      <td>69612351.04</td>\n",
       "      <td>0.152084</td>\n",
       "      <td>26941</td>\n",
       "      <td>2.025214e+10</td>\n",
       "      <td>4.716203e+08</td>\n",
       "      <td>369.725593</td>\n",
       "      <td>1.331650e+11</td>\n",
       "      <td>2022</td>\n",
       "      <td>2</td>\n",
       "      <td>10</td>\n",
       "    </tr>\n",
       "    <tr>\n",
       "      <th>2379</th>\n",
       "      <td>2022-02-11</td>\n",
       "      <td>2924.080468</td>\n",
       "      <td>1183966</td>\n",
       "      <td>3.442330e+11</td>\n",
       "      <td>8.642713e+09</td>\n",
       "      <td>944.458338</td>\n",
       "      <td>117723416.8</td>\n",
       "      <td>42357.32174</td>\n",
       "      <td>258085</td>\n",
       "      <td>8.028850e+11</td>\n",
       "      <td>1.511123e+10</td>\n",
       "      <td>188404635.4</td>\n",
       "      <td>18955050.04</td>\n",
       "      <td>126.104902</td>\n",
       "      <td>118682</td>\n",
       "      <td>8.779316e+09</td>\n",
       "      <td>1.387592e+08</td>\n",
       "      <td>361.928947</td>\n",
       "      <td>69619151.04</td>\n",
       "      <td>0.144698</td>\n",
       "      <td>27541</td>\n",
       "      <td>1.927061e+10</td>\n",
       "      <td>1.196664e+08</td>\n",
       "      <td>371.323929</td>\n",
       "      <td>1.331780e+11</td>\n",
       "      <td>2022</td>\n",
       "      <td>2</td>\n",
       "      <td>11</td>\n",
       "    </tr>\n",
       "    <tr>\n",
       "      <th>2380</th>\n",
       "      <td>2022-02-12</td>\n",
       "      <td>2910.836175</td>\n",
       "      <td>1114648</td>\n",
       "      <td>3.426960e+11</td>\n",
       "      <td>4.249468e+09</td>\n",
       "      <td>955.303151</td>\n",
       "      <td>117731015.0</td>\n",
       "      <td>42173.45940</td>\n",
       "      <td>224735</td>\n",
       "      <td>7.994490e+11</td>\n",
       "      <td>4.671654e+09</td>\n",
       "      <td>248110329.8</td>\n",
       "      <td>18956215.10</td>\n",
       "      <td>126.528328</td>\n",
       "      <td>113953</td>\n",
       "      <td>8.809734e+09</td>\n",
       "      <td>1.257468e+08</td>\n",
       "      <td>401.188451</td>\n",
       "      <td>69626576.04</td>\n",
       "      <td>0.144010</td>\n",
       "      <td>27109</td>\n",
       "      <td>1.918100e+10</td>\n",
       "      <td>7.400425e+07</td>\n",
       "      <td>401.372656</td>\n",
       "      <td>1.331920e+11</td>\n",
       "      <td>2022</td>\n",
       "      <td>2</td>\n",
       "      <td>12</td>\n",
       "    </tr>\n",
       "    <tr>\n",
       "      <th>2381</th>\n",
       "      <td>2022-02-13</td>\n",
       "      <td>2880.696526</td>\n",
       "      <td>1115296</td>\n",
       "      <td>3.391720e+11</td>\n",
       "      <td>3.420227e+09</td>\n",
       "      <td>977.744667</td>\n",
       "      <td>117739513.6</td>\n",
       "      <td>42195.59475</td>\n",
       "      <td>212378</td>\n",
       "      <td>7.999100e+11</td>\n",
       "      <td>4.681686e+09</td>\n",
       "      <td>209633326.5</td>\n",
       "      <td>18957202.60</td>\n",
       "      <td>125.957593</td>\n",
       "      <td>109250</td>\n",
       "      <td>8.770865e+09</td>\n",
       "      <td>8.088977e+07</td>\n",
       "      <td>372.821589</td>\n",
       "      <td>69633475.96</td>\n",
       "      <td>0.149377</td>\n",
       "      <td>29431</td>\n",
       "      <td>1.989782e+10</td>\n",
       "      <td>9.851840e+07</td>\n",
       "      <td>381.305515</td>\n",
       "      <td>1.332050e+11</td>\n",
       "      <td>2022</td>\n",
       "      <td>2</td>\n",
       "      <td>13</td>\n",
       "    </tr>\n",
       "    <tr>\n",
       "      <th>2382</th>\n",
       "      <td>2022-02-14</td>\n",
       "      <td>2936.298260</td>\n",
       "      <td>1147522</td>\n",
       "      <td>3.457420e+11</td>\n",
       "      <td>5.935549e+09</td>\n",
       "      <td>970.124289</td>\n",
       "      <td>117747619.0</td>\n",
       "      <td>42646.16186</td>\n",
       "      <td>249689</td>\n",
       "      <td>8.084930e+11</td>\n",
       "      <td>1.717988e+10</td>\n",
       "      <td>202999360.9</td>\n",
       "      <td>18958158.85</td>\n",
       "      <td>124.882902</td>\n",
       "      <td>117087</td>\n",
       "      <td>8.696959e+09</td>\n",
       "      <td>9.221389e+07</td>\n",
       "      <td>401.863852</td>\n",
       "      <td>69640913.41</td>\n",
       "      <td>0.146049</td>\n",
       "      <td>30052</td>\n",
       "      <td>1.945652e+10</td>\n",
       "      <td>1.643299e+08</td>\n",
       "      <td>398.140869</td>\n",
       "      <td>1.332190e+11</td>\n",
       "      <td>2022</td>\n",
       "      <td>2</td>\n",
       "      <td>14</td>\n",
       "    </tr>\n",
       "  </tbody>\n",
       "</table>\n",
       "</div>"
      ],
      "text/plain": [
       "           Date    Price_ETH  TrxCount_ETH  MarketCap_ETH  TxValAdj_ETH  \\\n",
       "2378 2022-02-10  3080.565482       1205676   3.626330e+11  1.108659e+10   \n",
       "2379 2022-02-11  2924.080468       1183966   3.442330e+11  8.642713e+09   \n",
       "2380 2022-02-12  2910.836175       1114648   3.426960e+11  4.249468e+09   \n",
       "2381 2022-02-13  2880.696526       1115296   3.391720e+11  3.420227e+09   \n",
       "2382 2022-02-14  2936.298260       1147522   3.457420e+11  5.935549e+09   \n",
       "\n",
       "      HashRate_ETH   Supply_ETH    Price_BTC  TrxCount_BTC  MarketCap_BTC  \\\n",
       "2378    959.092859  117716425.9  43614.34270        261192   8.266730e+11   \n",
       "2379    944.458338  117723416.8  42357.32174        258085   8.028850e+11   \n",
       "2380    955.303151  117731015.0  42173.45940        224735   7.994490e+11   \n",
       "2381    977.744667  117739513.6  42195.59475        212378   7.999100e+11   \n",
       "2382    970.124289  117747619.0  42646.16186        249689   8.084930e+11   \n",
       "\n",
       "      TxValAdj_BTC  HashRate_BTC   Supply_BTC   Price_LTC  TrxCount_LTC  \\\n",
       "2378  1.967672e+10   195038601.0  18954162.54  135.482673        117692   \n",
       "2379  1.511123e+10   188404635.4  18955050.04  126.104902        118682   \n",
       "2380  4.671654e+09   248110329.8  18956215.10  126.528328        113953   \n",
       "2381  4.681686e+09   209633326.5  18957202.60  125.957593        109250   \n",
       "2382  1.717988e+10   202999360.9  18958158.85  124.882902        117087   \n",
       "\n",
       "      MarketCap_LTC  TxValAdj_LTC  HashRate_LTC   Supply_LTC  Price_DOGE  \\\n",
       "2378   9.431267e+09  1.424494e+08    375.571175  69612351.04    0.152084   \n",
       "2379   8.779316e+09  1.387592e+08    361.928947  69619151.04    0.144698   \n",
       "2380   8.809734e+09  1.257468e+08    401.188451  69626576.04    0.144010   \n",
       "2381   8.770865e+09  8.088977e+07    372.821589  69633475.96    0.149377   \n",
       "2382   8.696959e+09  9.221389e+07    401.863852  69640913.41    0.146049   \n",
       "\n",
       "      TrxCount_DOGE  MarketCap_DOGE  TxValAdj_DOGE  HashRate_DOGE  \\\n",
       "2378          26941    2.025214e+10   4.716203e+08     369.725593   \n",
       "2379          27541    1.927061e+10   1.196664e+08     371.323929   \n",
       "2380          27109    1.918100e+10   7.400425e+07     401.372656   \n",
       "2381          29431    1.989782e+10   9.851840e+07     381.305515   \n",
       "2382          30052    1.945652e+10   1.643299e+08     398.140869   \n",
       "\n",
       "       Supply_DOGE  Year  Month  Day  \n",
       "2378  1.331650e+11  2022      2   10  \n",
       "2379  1.331780e+11  2022      2   11  \n",
       "2380  1.331920e+11  2022      2   12  \n",
       "2381  1.332050e+11  2022      2   13  \n",
       "2382  1.332190e+11  2022      2   14  "
      ]
     },
     "execution_count": 18,
     "metadata": {},
     "output_type": "execute_result"
    }
   ],
   "source": [
    "crypto.tail()"
   ]
  },
  {
   "cell_type": "code",
   "execution_count": 19,
   "id": "181e8e69-738b-4c47-947d-dfea143daf2e",
   "metadata": {},
   "outputs": [],
   "source": [
    "#set the date field as the index\n",
    "crypto.set_index('Date',inplace = True)\n",
    "crypto.drop_duplicates(inplace=True)  #There appears to be some duplicates!"
   ]
  },
  {
   "cell_type": "code",
   "execution_count": 20,
   "id": "c94fb29d-4c85-4540-8eec-1c5bfffae9d7",
   "metadata": {},
   "outputs": [
    {
     "data": {
      "text/html": [
       "<div>\n",
       "<style scoped>\n",
       "    .dataframe tbody tr th:only-of-type {\n",
       "        vertical-align: middle;\n",
       "    }\n",
       "\n",
       "    .dataframe tbody tr th {\n",
       "        vertical-align: top;\n",
       "    }\n",
       "\n",
       "    .dataframe thead th {\n",
       "        text-align: right;\n",
       "    }\n",
       "</style>\n",
       "<table border=\"1\" class=\"dataframe\">\n",
       "  <thead>\n",
       "    <tr style=\"text-align: right;\">\n",
       "      <th></th>\n",
       "      <th>Price_ETH</th>\n",
       "      <th>TrxCount_ETH</th>\n",
       "      <th>MarketCap_ETH</th>\n",
       "      <th>TxValAdj_ETH</th>\n",
       "      <th>HashRate_ETH</th>\n",
       "      <th>Supply_ETH</th>\n",
       "      <th>Price_BTC</th>\n",
       "      <th>TrxCount_BTC</th>\n",
       "      <th>MarketCap_BTC</th>\n",
       "      <th>TxValAdj_BTC</th>\n",
       "      <th>HashRate_BTC</th>\n",
       "      <th>Supply_BTC</th>\n",
       "      <th>Price_LTC</th>\n",
       "      <th>TrxCount_LTC</th>\n",
       "      <th>MarketCap_LTC</th>\n",
       "      <th>TxValAdj_LTC</th>\n",
       "      <th>HashRate_LTC</th>\n",
       "      <th>Supply_LTC</th>\n",
       "      <th>Price_DOGE</th>\n",
       "      <th>TrxCount_DOGE</th>\n",
       "      <th>MarketCap_DOGE</th>\n",
       "      <th>TxValAdj_DOGE</th>\n",
       "      <th>HashRate_DOGE</th>\n",
       "      <th>Supply_DOGE</th>\n",
       "      <th>Year</th>\n",
       "      <th>Month</th>\n",
       "      <th>Day</th>\n",
       "    </tr>\n",
       "    <tr>\n",
       "      <th>Date</th>\n",
       "      <th></th>\n",
       "      <th></th>\n",
       "      <th></th>\n",
       "      <th></th>\n",
       "      <th></th>\n",
       "      <th></th>\n",
       "      <th></th>\n",
       "      <th></th>\n",
       "      <th></th>\n",
       "      <th></th>\n",
       "      <th></th>\n",
       "      <th></th>\n",
       "      <th></th>\n",
       "      <th></th>\n",
       "      <th></th>\n",
       "      <th></th>\n",
       "      <th></th>\n",
       "      <th></th>\n",
       "      <th></th>\n",
       "      <th></th>\n",
       "      <th></th>\n",
       "      <th></th>\n",
       "      <th></th>\n",
       "      <th></th>\n",
       "      <th></th>\n",
       "      <th></th>\n",
       "      <th></th>\n",
       "    </tr>\n",
       "  </thead>\n",
       "  <tbody>\n",
       "    <tr>\n",
       "      <th>2015-08-08</th>\n",
       "      <td>1.19999</td>\n",
       "      <td>2881</td>\n",
       "      <td>86768712.52</td>\n",
       "      <td>1.609869e+07</td>\n",
       "      <td>0.096483</td>\n",
       "      <td>72307863.00</td>\n",
       "      <td>261.450276</td>\n",
       "      <td>100950</td>\n",
       "      <td>3.784608e+09</td>\n",
       "      <td>9.071916e+07</td>\n",
       "      <td>420413.4050</td>\n",
       "      <td>14475439.77</td>\n",
       "      <td>3.883915</td>\n",
       "      <td>3502</td>\n",
       "      <td>161254362.2</td>\n",
       "      <td>4450947.229</td>\n",
       "      <td>1.373247</td>\n",
       "      <td>41518510.58</td>\n",
       "      <td>0.000158</td>\n",
       "      <td>13529</td>\n",
       "      <td>15842194.95</td>\n",
       "      <td>255789.1237</td>\n",
       "      <td>1.274322</td>\n",
       "      <td>1.004700e+11</td>\n",
       "      <td>2015</td>\n",
       "      <td>8</td>\n",
       "      <td>8</td>\n",
       "    </tr>\n",
       "    <tr>\n",
       "      <th>2015-08-09</th>\n",
       "      <td>1.19999</td>\n",
       "      <td>1329</td>\n",
       "      <td>86801326.19</td>\n",
       "      <td>1.233428e+06</td>\n",
       "      <td>0.101360</td>\n",
       "      <td>72335041.28</td>\n",
       "      <td>266.342020</td>\n",
       "      <td>88144</td>\n",
       "      <td>3.856363e+09</td>\n",
       "      <td>1.870474e+08</td>\n",
       "      <td>372000.7193</td>\n",
       "      <td>14478989.77</td>\n",
       "      <td>3.933676</td>\n",
       "      <td>3250</td>\n",
       "      <td>163428350.2</td>\n",
       "      <td>5110514.149</td>\n",
       "      <td>1.283339</td>\n",
       "      <td>41545960.58</td>\n",
       "      <td>0.000165</td>\n",
       "      <td>15565</td>\n",
       "      <td>16611370.04</td>\n",
       "      <td>236901.1002</td>\n",
       "      <td>1.213870</td>\n",
       "      <td>1.004830e+11</td>\n",
       "      <td>2015</td>\n",
       "      <td>8</td>\n",
       "      <td>9</td>\n",
       "    </tr>\n",
       "    <tr>\n",
       "      <th>2015-08-10</th>\n",
       "      <td>1.19999</td>\n",
       "      <td>2037</td>\n",
       "      <td>86834706.72</td>\n",
       "      <td>1.742816e+06</td>\n",
       "      <td>0.111855</td>\n",
       "      <td>72362858.62</td>\n",
       "      <td>264.928825</td>\n",
       "      <td>115928</td>\n",
       "      <td>3.837008e+09</td>\n",
       "      <td>7.485955e+07</td>\n",
       "      <td>437493.8037</td>\n",
       "      <td>14483164.77</td>\n",
       "      <td>3.955826</td>\n",
       "      <td>3622</td>\n",
       "      <td>164459746.4</td>\n",
       "      <td>4634816.727</td>\n",
       "      <td>1.303318</td>\n",
       "      <td>41574060.58</td>\n",
       "      <td>0.000163</td>\n",
       "      <td>14403</td>\n",
       "      <td>16332832.23</td>\n",
       "      <td>368072.2008</td>\n",
       "      <td>1.187068</td>\n",
       "      <td>1.004960e+11</td>\n",
       "      <td>2015</td>\n",
       "      <td>8</td>\n",
       "      <td>10</td>\n",
       "    </tr>\n",
       "    <tr>\n",
       "      <th>2015-08-11</th>\n",
       "      <td>0.99000</td>\n",
       "      <td>4963</td>\n",
       "      <td>71666977.57</td>\n",
       "      <td>1.190079e+06</td>\n",
       "      <td>0.124450</td>\n",
       "      <td>72390886.44</td>\n",
       "      <td>271.421736</td>\n",
       "      <td>115981</td>\n",
       "      <td>3.932145e+09</td>\n",
       "      <td>9.045684e+07</td>\n",
       "      <td>424395.1868</td>\n",
       "      <td>14487214.77</td>\n",
       "      <td>4.146912</td>\n",
       "      <td>3419</td>\n",
       "      <td>172520481.2</td>\n",
       "      <td>4729593.083</td>\n",
       "      <td>1.303318</td>\n",
       "      <td>41602160.58</td>\n",
       "      <td>0.000165</td>\n",
       "      <td>13457</td>\n",
       "      <td>16623780.95</td>\n",
       "      <td>287029.5232</td>\n",
       "      <td>1.206818</td>\n",
       "      <td>1.005090e+11</td>\n",
       "      <td>2015</td>\n",
       "      <td>8</td>\n",
       "      <td>11</td>\n",
       "    </tr>\n",
       "    <tr>\n",
       "      <th>2015-08-12</th>\n",
       "      <td>1.28800</td>\n",
       "      <td>2036</td>\n",
       "      <td>93274715.50</td>\n",
       "      <td>8.199163e+05</td>\n",
       "      <td>0.130915</td>\n",
       "      <td>72418257.37</td>\n",
       "      <td>268.143868</td>\n",
       "      <td>116970</td>\n",
       "      <td>3.885502e+09</td>\n",
       "      <td>1.213673e+08</td>\n",
       "      <td>330085.1453</td>\n",
       "      <td>14490364.77</td>\n",
       "      <td>4.053877</td>\n",
       "      <td>3501</td>\n",
       "      <td>168765370.5</td>\n",
       "      <td>3929643.067</td>\n",
       "      <td>1.318284</td>\n",
       "      <td>41630610.58</td>\n",
       "      <td>0.000161</td>\n",
       "      <td>13527</td>\n",
       "      <td>16217282.80</td>\n",
       "      <td>204588.0333</td>\n",
       "      <td>1.192014</td>\n",
       "      <td>1.005220e+11</td>\n",
       "      <td>2015</td>\n",
       "      <td>8</td>\n",
       "      <td>12</td>\n",
       "    </tr>\n",
       "  </tbody>\n",
       "</table>\n",
       "</div>"
      ],
      "text/plain": [
       "            Price_ETH  TrxCount_ETH  MarketCap_ETH  TxValAdj_ETH  \\\n",
       "Date                                                               \n",
       "2015-08-08    1.19999          2881    86768712.52  1.609869e+07   \n",
       "2015-08-09    1.19999          1329    86801326.19  1.233428e+06   \n",
       "2015-08-10    1.19999          2037    86834706.72  1.742816e+06   \n",
       "2015-08-11    0.99000          4963    71666977.57  1.190079e+06   \n",
       "2015-08-12    1.28800          2036    93274715.50  8.199163e+05   \n",
       "\n",
       "            HashRate_ETH   Supply_ETH   Price_BTC  TrxCount_BTC  \\\n",
       "Date                                                              \n",
       "2015-08-08      0.096483  72307863.00  261.450276        100950   \n",
       "2015-08-09      0.101360  72335041.28  266.342020         88144   \n",
       "2015-08-10      0.111855  72362858.62  264.928825        115928   \n",
       "2015-08-11      0.124450  72390886.44  271.421736        115981   \n",
       "2015-08-12      0.130915  72418257.37  268.143868        116970   \n",
       "\n",
       "            MarketCap_BTC  TxValAdj_BTC  HashRate_BTC   Supply_BTC  Price_LTC  \\\n",
       "Date                                                                            \n",
       "2015-08-08   3.784608e+09  9.071916e+07   420413.4050  14475439.77   3.883915   \n",
       "2015-08-09   3.856363e+09  1.870474e+08   372000.7193  14478989.77   3.933676   \n",
       "2015-08-10   3.837008e+09  7.485955e+07   437493.8037  14483164.77   3.955826   \n",
       "2015-08-11   3.932145e+09  9.045684e+07   424395.1868  14487214.77   4.146912   \n",
       "2015-08-12   3.885502e+09  1.213673e+08   330085.1453  14490364.77   4.053877   \n",
       "\n",
       "            TrxCount_LTC  MarketCap_LTC  TxValAdj_LTC  HashRate_LTC  \\\n",
       "Date                                                                  \n",
       "2015-08-08          3502    161254362.2   4450947.229      1.373247   \n",
       "2015-08-09          3250    163428350.2   5110514.149      1.283339   \n",
       "2015-08-10          3622    164459746.4   4634816.727      1.303318   \n",
       "2015-08-11          3419    172520481.2   4729593.083      1.303318   \n",
       "2015-08-12          3501    168765370.5   3929643.067      1.318284   \n",
       "\n",
       "             Supply_LTC  Price_DOGE  TrxCount_DOGE  MarketCap_DOGE  \\\n",
       "Date                                                                 \n",
       "2015-08-08  41518510.58    0.000158          13529     15842194.95   \n",
       "2015-08-09  41545960.58    0.000165          15565     16611370.04   \n",
       "2015-08-10  41574060.58    0.000163          14403     16332832.23   \n",
       "2015-08-11  41602160.58    0.000165          13457     16623780.95   \n",
       "2015-08-12  41630610.58    0.000161          13527     16217282.80   \n",
       "\n",
       "            TxValAdj_DOGE  HashRate_DOGE   Supply_DOGE  Year  Month  Day  \n",
       "Date                                                                      \n",
       "2015-08-08    255789.1237       1.274322  1.004700e+11  2015      8    8  \n",
       "2015-08-09    236901.1002       1.213870  1.004830e+11  2015      8    9  \n",
       "2015-08-10    368072.2008       1.187068  1.004960e+11  2015      8   10  \n",
       "2015-08-11    287029.5232       1.206818  1.005090e+11  2015      8   11  \n",
       "2015-08-12    204588.0333       1.192014  1.005220e+11  2015      8   12  "
      ]
     },
     "execution_count": 20,
     "metadata": {},
     "output_type": "execute_result"
    }
   ],
   "source": [
    "crypto.head()"
   ]
  },
  {
   "cell_type": "code",
   "execution_count": 21,
   "id": "8072fab7-73f5-4433-969d-42c612099b99",
   "metadata": {},
   "outputs": [
    {
     "data": {
      "text/html": [
       "<div>\n",
       "<style scoped>\n",
       "    .dataframe tbody tr th:only-of-type {\n",
       "        vertical-align: middle;\n",
       "    }\n",
       "\n",
       "    .dataframe tbody tr th {\n",
       "        vertical-align: top;\n",
       "    }\n",
       "\n",
       "    .dataframe thead th {\n",
       "        text-align: right;\n",
       "    }\n",
       "</style>\n",
       "<table border=\"1\" class=\"dataframe\">\n",
       "  <thead>\n",
       "    <tr style=\"text-align: right;\">\n",
       "      <th></th>\n",
       "      <th>Price_ETH</th>\n",
       "      <th>TrxCount_ETH</th>\n",
       "      <th>MarketCap_ETH</th>\n",
       "      <th>TxValAdj_ETH</th>\n",
       "      <th>HashRate_ETH</th>\n",
       "      <th>Supply_ETH</th>\n",
       "      <th>Price_BTC</th>\n",
       "      <th>TrxCount_BTC</th>\n",
       "      <th>MarketCap_BTC</th>\n",
       "      <th>TxValAdj_BTC</th>\n",
       "      <th>HashRate_BTC</th>\n",
       "      <th>Supply_BTC</th>\n",
       "      <th>Price_LTC</th>\n",
       "      <th>TrxCount_LTC</th>\n",
       "      <th>MarketCap_LTC</th>\n",
       "      <th>TxValAdj_LTC</th>\n",
       "      <th>HashRate_LTC</th>\n",
       "      <th>Supply_LTC</th>\n",
       "      <th>Price_DOGE</th>\n",
       "      <th>TrxCount_DOGE</th>\n",
       "      <th>MarketCap_DOGE</th>\n",
       "      <th>TxValAdj_DOGE</th>\n",
       "      <th>HashRate_DOGE</th>\n",
       "      <th>Supply_DOGE</th>\n",
       "      <th>Year</th>\n",
       "      <th>Month</th>\n",
       "      <th>Day</th>\n",
       "    </tr>\n",
       "  </thead>\n",
       "  <tbody>\n",
       "    <tr>\n",
       "      <th>Price_ETH</th>\n",
       "      <td>1.000000</td>\n",
       "      <td>0.695242</td>\n",
       "      <td>0.999462</td>\n",
       "      <td>0.762474</td>\n",
       "      <td>0.928508</td>\n",
       "      <td>0.587086</td>\n",
       "      <td>0.932598</td>\n",
       "      <td>0.008087</td>\n",
       "      <td>0.934056</td>\n",
       "      <td>0.869666</td>\n",
       "      <td>0.678996</td>\n",
       "      <td>0.587754</td>\n",
       "      <td>0.756313</td>\n",
       "      <td>0.853180</td>\n",
       "      <td>0.812136</td>\n",
       "      <td>0.612475</td>\n",
       "      <td>0.524918</td>\n",
       "      <td>0.589737</td>\n",
       "      <td>0.872517</td>\n",
       "      <td>0.240538</td>\n",
       "      <td>0.875660</td>\n",
       "      <td>0.540404</td>\n",
       "      <td>0.584872</td>\n",
       "      <td>0.672357</td>\n",
       "      <td>0.659882</td>\n",
       "      <td>0.031761</td>\n",
       "      <td>-0.019977</td>\n",
       "    </tr>\n",
       "    <tr>\n",
       "      <th>TrxCount_ETH</th>\n",
       "      <td>0.695242</td>\n",
       "      <td>1.000000</td>\n",
       "      <td>0.687852</td>\n",
       "      <td>0.614042</td>\n",
       "      <td>0.798647</td>\n",
       "      <td>0.911864</td>\n",
       "      <td>0.794048</td>\n",
       "      <td>0.378982</td>\n",
       "      <td>0.788799</td>\n",
       "      <td>0.708356</td>\n",
       "      <td>0.870216</td>\n",
       "      <td>0.908466</td>\n",
       "      <td>0.799762</td>\n",
       "      <td>0.831892</td>\n",
       "      <td>0.827806</td>\n",
       "      <td>0.586475</td>\n",
       "      <td>0.825253</td>\n",
       "      <td>0.913482</td>\n",
       "      <td>0.568720</td>\n",
       "      <td>0.726864</td>\n",
       "      <td>0.568743</td>\n",
       "      <td>0.403707</td>\n",
       "      <td>0.849137</td>\n",
       "      <td>0.925916</td>\n",
       "      <td>0.916245</td>\n",
       "      <td>-0.017596</td>\n",
       "      <td>0.001110</td>\n",
       "    </tr>\n",
       "    <tr>\n",
       "      <th>MarketCap_ETH</th>\n",
       "      <td>0.999462</td>\n",
       "      <td>0.687852</td>\n",
       "      <td>1.000000</td>\n",
       "      <td>0.759750</td>\n",
       "      <td>0.929469</td>\n",
       "      <td>0.585252</td>\n",
       "      <td>0.932660</td>\n",
       "      <td>0.008579</td>\n",
       "      <td>0.934669</td>\n",
       "      <td>0.868742</td>\n",
       "      <td>0.684423</td>\n",
       "      <td>0.587413</td>\n",
       "      <td>0.739724</td>\n",
       "      <td>0.848187</td>\n",
       "      <td>0.798939</td>\n",
       "      <td>0.599088</td>\n",
       "      <td>0.523055</td>\n",
       "      <td>0.589629</td>\n",
       "      <td>0.875309</td>\n",
       "      <td>0.235541</td>\n",
       "      <td>0.878583</td>\n",
       "      <td>0.539933</td>\n",
       "      <td>0.584895</td>\n",
       "      <td>0.673745</td>\n",
       "      <td>0.660454</td>\n",
       "      <td>0.037004</td>\n",
       "      <td>-0.019749</td>\n",
       "    </tr>\n",
       "    <tr>\n",
       "      <th>TxValAdj_ETH</th>\n",
       "      <td>0.762474</td>\n",
       "      <td>0.614042</td>\n",
       "      <td>0.759750</td>\n",
       "      <td>1.000000</td>\n",
       "      <td>0.679499</td>\n",
       "      <td>0.473771</td>\n",
       "      <td>0.769676</td>\n",
       "      <td>0.080351</td>\n",
       "      <td>0.769077</td>\n",
       "      <td>0.752893</td>\n",
       "      <td>0.566276</td>\n",
       "      <td>0.475429</td>\n",
       "      <td>0.680481</td>\n",
       "      <td>0.706046</td>\n",
       "      <td>0.726353</td>\n",
       "      <td>0.643600</td>\n",
       "      <td>0.409328</td>\n",
       "      <td>0.473684</td>\n",
       "      <td>0.778575</td>\n",
       "      <td>0.312999</td>\n",
       "      <td>0.777757</td>\n",
       "      <td>0.634455</td>\n",
       "      <td>0.459499</td>\n",
       "      <td>0.538059</td>\n",
       "      <td>0.539090</td>\n",
       "      <td>-0.047053</td>\n",
       "      <td>-0.020864</td>\n",
       "    </tr>\n",
       "    <tr>\n",
       "      <th>HashRate_ETH</th>\n",
       "      <td>0.928508</td>\n",
       "      <td>0.798647</td>\n",
       "      <td>0.929469</td>\n",
       "      <td>0.679499</td>\n",
       "      <td>1.000000</td>\n",
       "      <td>0.756362</td>\n",
       "      <td>0.899405</td>\n",
       "      <td>0.090087</td>\n",
       "      <td>0.900808</td>\n",
       "      <td>0.836652</td>\n",
       "      <td>0.816290</td>\n",
       "      <td>0.755429</td>\n",
       "      <td>0.712559</td>\n",
       "      <td>0.840161</td>\n",
       "      <td>0.770344</td>\n",
       "      <td>0.512308</td>\n",
       "      <td>0.706731</td>\n",
       "      <td>0.762910</td>\n",
       "      <td>0.772379</td>\n",
       "      <td>0.395624</td>\n",
       "      <td>0.776031</td>\n",
       "      <td>0.437064</td>\n",
       "      <td>0.754473</td>\n",
       "      <td>0.823563</td>\n",
       "      <td>0.810654</td>\n",
       "      <td>0.018589</td>\n",
       "      <td>-0.006393</td>\n",
       "    </tr>\n",
       "    <tr>\n",
       "      <th>Supply_ETH</th>\n",
       "      <td>0.587086</td>\n",
       "      <td>0.911864</td>\n",
       "      <td>0.585252</td>\n",
       "      <td>0.473771</td>\n",
       "      <td>0.756362</td>\n",
       "      <td>1.000000</td>\n",
       "      <td>0.690571</td>\n",
       "      <td>0.507039</td>\n",
       "      <td>0.687675</td>\n",
       "      <td>0.595555</td>\n",
       "      <td>0.881190</td>\n",
       "      <td>0.996333</td>\n",
       "      <td>0.629227</td>\n",
       "      <td>0.696554</td>\n",
       "      <td>0.669100</td>\n",
       "      <td>0.396231</td>\n",
       "      <td>0.842414</td>\n",
       "      <td>0.995932</td>\n",
       "      <td>0.476244</td>\n",
       "      <td>0.679519</td>\n",
       "      <td>0.477084</td>\n",
       "      <td>0.293537</td>\n",
       "      <td>0.863353</td>\n",
       "      <td>0.982711</td>\n",
       "      <td>0.972415</td>\n",
       "      <td>-0.019748</td>\n",
       "      <td>-0.002377</td>\n",
       "    </tr>\n",
       "    <tr>\n",
       "      <th>Price_BTC</th>\n",
       "      <td>0.932598</td>\n",
       "      <td>0.794048</td>\n",
       "      <td>0.932660</td>\n",
       "      <td>0.769676</td>\n",
       "      <td>0.899405</td>\n",
       "      <td>0.690571</td>\n",
       "      <td>1.000000</td>\n",
       "      <td>0.146039</td>\n",
       "      <td>0.999816</td>\n",
       "      <td>0.892017</td>\n",
       "      <td>0.795335</td>\n",
       "      <td>0.696191</td>\n",
       "      <td>0.803881</td>\n",
       "      <td>0.879233</td>\n",
       "      <td>0.866256</td>\n",
       "      <td>0.635674</td>\n",
       "      <td>0.606404</td>\n",
       "      <td>0.698163</td>\n",
       "      <td>0.798598</td>\n",
       "      <td>0.405579</td>\n",
       "      <td>0.800421</td>\n",
       "      <td>0.532098</td>\n",
       "      <td>0.666595</td>\n",
       "      <td>0.770798</td>\n",
       "      <td>0.762792</td>\n",
       "      <td>-0.008585</td>\n",
       "      <td>-0.012760</td>\n",
       "    </tr>\n",
       "    <tr>\n",
       "      <th>TrxCount_BTC</th>\n",
       "      <td>0.008087</td>\n",
       "      <td>0.378982</td>\n",
       "      <td>0.008579</td>\n",
       "      <td>0.080351</td>\n",
       "      <td>0.090087</td>\n",
       "      <td>0.507039</td>\n",
       "      <td>0.146039</td>\n",
       "      <td>1.000000</td>\n",
       "      <td>0.142007</td>\n",
       "      <td>0.185031</td>\n",
       "      <td>0.364004</td>\n",
       "      <td>0.510270</td>\n",
       "      <td>0.177138</td>\n",
       "      <td>0.191286</td>\n",
       "      <td>0.183546</td>\n",
       "      <td>0.200865</td>\n",
       "      <td>0.361749</td>\n",
       "      <td>0.497442</td>\n",
       "      <td>-0.060867</td>\n",
       "      <td>0.390796</td>\n",
       "      <td>-0.061062</td>\n",
       "      <td>-0.007000</td>\n",
       "      <td>0.363165</td>\n",
       "      <td>0.444476</td>\n",
       "      <td>0.444777</td>\n",
       "      <td>-0.042700</td>\n",
       "      <td>-0.034643</td>\n",
       "    </tr>\n",
       "    <tr>\n",
       "      <th>MarketCap_BTC</th>\n",
       "      <td>0.934056</td>\n",
       "      <td>0.788799</td>\n",
       "      <td>0.934669</td>\n",
       "      <td>0.769077</td>\n",
       "      <td>0.900808</td>\n",
       "      <td>0.687675</td>\n",
       "      <td>0.999816</td>\n",
       "      <td>0.142007</td>\n",
       "      <td>1.000000</td>\n",
       "      <td>0.891695</td>\n",
       "      <td>0.797270</td>\n",
       "      <td>0.694160</td>\n",
       "      <td>0.793921</td>\n",
       "      <td>0.876375</td>\n",
       "      <td>0.858219</td>\n",
       "      <td>0.627331</td>\n",
       "      <td>0.602944</td>\n",
       "      <td>0.696116</td>\n",
       "      <td>0.801570</td>\n",
       "      <td>0.400845</td>\n",
       "      <td>0.803482</td>\n",
       "      <td>0.532404</td>\n",
       "      <td>0.664364</td>\n",
       "      <td>0.770096</td>\n",
       "      <td>0.761967</td>\n",
       "      <td>-0.007659</td>\n",
       "      <td>-0.012568</td>\n",
       "    </tr>\n",
       "    <tr>\n",
       "      <th>TxValAdj_BTC</th>\n",
       "      <td>0.869666</td>\n",
       "      <td>0.708356</td>\n",
       "      <td>0.868742</td>\n",
       "      <td>0.752893</td>\n",
       "      <td>0.836652</td>\n",
       "      <td>0.595555</td>\n",
       "      <td>0.892017</td>\n",
       "      <td>0.185031</td>\n",
       "      <td>0.891695</td>\n",
       "      <td>1.000000</td>\n",
       "      <td>0.687104</td>\n",
       "      <td>0.598558</td>\n",
       "      <td>0.732255</td>\n",
       "      <td>0.811440</td>\n",
       "      <td>0.782392</td>\n",
       "      <td>0.669190</td>\n",
       "      <td>0.515789</td>\n",
       "      <td>0.599652</td>\n",
       "      <td>0.718875</td>\n",
       "      <td>0.329639</td>\n",
       "      <td>0.721268</td>\n",
       "      <td>0.482245</td>\n",
       "      <td>0.569570</td>\n",
       "      <td>0.669189</td>\n",
       "      <td>0.658277</td>\n",
       "      <td>0.018267</td>\n",
       "      <td>0.000285</td>\n",
       "    </tr>\n",
       "    <tr>\n",
       "      <th>HashRate_BTC</th>\n",
       "      <td>0.678996</td>\n",
       "      <td>0.870216</td>\n",
       "      <td>0.684423</td>\n",
       "      <td>0.566276</td>\n",
       "      <td>0.816290</td>\n",
       "      <td>0.881190</td>\n",
       "      <td>0.795335</td>\n",
       "      <td>0.364004</td>\n",
       "      <td>0.797270</td>\n",
       "      <td>0.687104</td>\n",
       "      <td>1.000000</td>\n",
       "      <td>0.902355</td>\n",
       "      <td>0.577401</td>\n",
       "      <td>0.730262</td>\n",
       "      <td>0.648170</td>\n",
       "      <td>0.388156</td>\n",
       "      <td>0.757566</td>\n",
       "      <td>0.907002</td>\n",
       "      <td>0.558046</td>\n",
       "      <td>0.661405</td>\n",
       "      <td>0.559965</td>\n",
       "      <td>0.367428</td>\n",
       "      <td>0.810071</td>\n",
       "      <td>0.941164</td>\n",
       "      <td>0.931260</td>\n",
       "      <td>-0.015650</td>\n",
       "      <td>-0.016243</td>\n",
       "    </tr>\n",
       "    <tr>\n",
       "      <th>Supply_BTC</th>\n",
       "      <td>0.587754</td>\n",
       "      <td>0.908466</td>\n",
       "      <td>0.587413</td>\n",
       "      <td>0.475429</td>\n",
       "      <td>0.755429</td>\n",
       "      <td>0.996333</td>\n",
       "      <td>0.696191</td>\n",
       "      <td>0.510270</td>\n",
       "      <td>0.694160</td>\n",
       "      <td>0.598558</td>\n",
       "      <td>0.902355</td>\n",
       "      <td>1.000000</td>\n",
       "      <td>0.608920</td>\n",
       "      <td>0.695254</td>\n",
       "      <td>0.654159</td>\n",
       "      <td>0.383001</td>\n",
       "      <td>0.831060</td>\n",
       "      <td>0.996710</td>\n",
       "      <td>0.479711</td>\n",
       "      <td>0.682119</td>\n",
       "      <td>0.480706</td>\n",
       "      <td>0.295590</td>\n",
       "      <td>0.857455</td>\n",
       "      <td>0.988346</td>\n",
       "      <td>0.978783</td>\n",
       "      <td>-0.024931</td>\n",
       "      <td>-0.002502</td>\n",
       "    </tr>\n",
       "    <tr>\n",
       "      <th>Price_LTC</th>\n",
       "      <td>0.756313</td>\n",
       "      <td>0.799762</td>\n",
       "      <td>0.739724</td>\n",
       "      <td>0.680481</td>\n",
       "      <td>0.712559</td>\n",
       "      <td>0.629227</td>\n",
       "      <td>0.803881</td>\n",
       "      <td>0.177138</td>\n",
       "      <td>0.793921</td>\n",
       "      <td>0.732255</td>\n",
       "      <td>0.577401</td>\n",
       "      <td>0.608920</td>\n",
       "      <td>1.000000</td>\n",
       "      <td>0.800730</td>\n",
       "      <td>0.991732</td>\n",
       "      <td>0.807571</td>\n",
       "      <td>0.624804</td>\n",
       "      <td>0.614472</td>\n",
       "      <td>0.645191</td>\n",
       "      <td>0.467189</td>\n",
       "      <td>0.643825</td>\n",
       "      <td>0.515169</td>\n",
       "      <td>0.635696</td>\n",
       "      <td>0.635913</td>\n",
       "      <td>0.642838</td>\n",
       "      <td>-0.096239</td>\n",
       "      <td>-0.019658</td>\n",
       "    </tr>\n",
       "    <tr>\n",
       "      <th>TrxCount_LTC</th>\n",
       "      <td>0.853180</td>\n",
       "      <td>0.831892</td>\n",
       "      <td>0.848187</td>\n",
       "      <td>0.706046</td>\n",
       "      <td>0.840161</td>\n",
       "      <td>0.696554</td>\n",
       "      <td>0.879233</td>\n",
       "      <td>0.191286</td>\n",
       "      <td>0.876375</td>\n",
       "      <td>0.811440</td>\n",
       "      <td>0.730262</td>\n",
       "      <td>0.695254</td>\n",
       "      <td>0.800730</td>\n",
       "      <td>1.000000</td>\n",
       "      <td>0.834804</td>\n",
       "      <td>0.690704</td>\n",
       "      <td>0.584298</td>\n",
       "      <td>0.696008</td>\n",
       "      <td>0.738423</td>\n",
       "      <td>0.444486</td>\n",
       "      <td>0.739765</td>\n",
       "      <td>0.464670</td>\n",
       "      <td>0.635875</td>\n",
       "      <td>0.757112</td>\n",
       "      <td>0.739901</td>\n",
       "      <td>0.050649</td>\n",
       "      <td>-0.001718</td>\n",
       "    </tr>\n",
       "    <tr>\n",
       "      <th>MarketCap_LTC</th>\n",
       "      <td>0.812136</td>\n",
       "      <td>0.827806</td>\n",
       "      <td>0.798939</td>\n",
       "      <td>0.726353</td>\n",
       "      <td>0.770344</td>\n",
       "      <td>0.669100</td>\n",
       "      <td>0.866256</td>\n",
       "      <td>0.183546</td>\n",
       "      <td>0.858219</td>\n",
       "      <td>0.782392</td>\n",
       "      <td>0.648170</td>\n",
       "      <td>0.654159</td>\n",
       "      <td>0.991732</td>\n",
       "      <td>0.834804</td>\n",
       "      <td>1.000000</td>\n",
       "      <td>0.795676</td>\n",
       "      <td>0.656768</td>\n",
       "      <td>0.660076</td>\n",
       "      <td>0.709502</td>\n",
       "      <td>0.480900</td>\n",
       "      <td>0.708522</td>\n",
       "      <td>0.557580</td>\n",
       "      <td>0.678018</td>\n",
       "      <td>0.690943</td>\n",
       "      <td>0.695883</td>\n",
       "      <td>-0.087570</td>\n",
       "      <td>-0.020303</td>\n",
       "    </tr>\n",
       "    <tr>\n",
       "      <th>TxValAdj_LTC</th>\n",
       "      <td>0.612475</td>\n",
       "      <td>0.586475</td>\n",
       "      <td>0.599088</td>\n",
       "      <td>0.643600</td>\n",
       "      <td>0.512308</td>\n",
       "      <td>0.396231</td>\n",
       "      <td>0.635674</td>\n",
       "      <td>0.200865</td>\n",
       "      <td>0.627331</td>\n",
       "      <td>0.669190</td>\n",
       "      <td>0.388156</td>\n",
       "      <td>0.383001</td>\n",
       "      <td>0.807571</td>\n",
       "      <td>0.690704</td>\n",
       "      <td>0.795676</td>\n",
       "      <td>1.000000</td>\n",
       "      <td>0.327914</td>\n",
       "      <td>0.381266</td>\n",
       "      <td>0.552127</td>\n",
       "      <td>0.298108</td>\n",
       "      <td>0.550524</td>\n",
       "      <td>0.496235</td>\n",
       "      <td>0.349742</td>\n",
       "      <td>0.415496</td>\n",
       "      <td>0.414644</td>\n",
       "      <td>-0.026217</td>\n",
       "      <td>-0.018800</td>\n",
       "    </tr>\n",
       "    <tr>\n",
       "      <th>HashRate_LTC</th>\n",
       "      <td>0.524918</td>\n",
       "      <td>0.825253</td>\n",
       "      <td>0.523055</td>\n",
       "      <td>0.409328</td>\n",
       "      <td>0.706731</td>\n",
       "      <td>0.842414</td>\n",
       "      <td>0.606404</td>\n",
       "      <td>0.361749</td>\n",
       "      <td>0.602944</td>\n",
       "      <td>0.515789</td>\n",
       "      <td>0.757566</td>\n",
       "      <td>0.831060</td>\n",
       "      <td>0.624804</td>\n",
       "      <td>0.584298</td>\n",
       "      <td>0.656768</td>\n",
       "      <td>0.327914</td>\n",
       "      <td>1.000000</td>\n",
       "      <td>0.855910</td>\n",
       "      <td>0.423243</td>\n",
       "      <td>0.642813</td>\n",
       "      <td>0.423938</td>\n",
       "      <td>0.268964</td>\n",
       "      <td>0.991091</td>\n",
       "      <td>0.831544</td>\n",
       "      <td>0.826085</td>\n",
       "      <td>-0.036917</td>\n",
       "      <td>-0.007656</td>\n",
       "    </tr>\n",
       "    <tr>\n",
       "      <th>Supply_LTC</th>\n",
       "      <td>0.589737</td>\n",
       "      <td>0.913482</td>\n",
       "      <td>0.589629</td>\n",
       "      <td>0.473684</td>\n",
       "      <td>0.762910</td>\n",
       "      <td>0.995932</td>\n",
       "      <td>0.698163</td>\n",
       "      <td>0.497442</td>\n",
       "      <td>0.696116</td>\n",
       "      <td>0.599652</td>\n",
       "      <td>0.907002</td>\n",
       "      <td>0.996710</td>\n",
       "      <td>0.614472</td>\n",
       "      <td>0.696008</td>\n",
       "      <td>0.660076</td>\n",
       "      <td>0.381266</td>\n",
       "      <td>0.855910</td>\n",
       "      <td>1.000000</td>\n",
       "      <td>0.481622</td>\n",
       "      <td>0.691158</td>\n",
       "      <td>0.482661</td>\n",
       "      <td>0.295247</td>\n",
       "      <td>0.880469</td>\n",
       "      <td>0.990225</td>\n",
       "      <td>0.979305</td>\n",
       "      <td>-0.016333</td>\n",
       "      <td>-0.002333</td>\n",
       "    </tr>\n",
       "    <tr>\n",
       "      <th>Price_DOGE</th>\n",
       "      <td>0.872517</td>\n",
       "      <td>0.568720</td>\n",
       "      <td>0.875309</td>\n",
       "      <td>0.778575</td>\n",
       "      <td>0.772379</td>\n",
       "      <td>0.476244</td>\n",
       "      <td>0.798598</td>\n",
       "      <td>-0.060867</td>\n",
       "      <td>0.801570</td>\n",
       "      <td>0.718875</td>\n",
       "      <td>0.558046</td>\n",
       "      <td>0.479711</td>\n",
       "      <td>0.645191</td>\n",
       "      <td>0.738423</td>\n",
       "      <td>0.709502</td>\n",
       "      <td>0.552127</td>\n",
       "      <td>0.423243</td>\n",
       "      <td>0.481622</td>\n",
       "      <td>1.000000</td>\n",
       "      <td>0.189754</td>\n",
       "      <td>0.999952</td>\n",
       "      <td>0.771815</td>\n",
       "      <td>0.488494</td>\n",
       "      <td>0.559462</td>\n",
       "      <td>0.548813</td>\n",
       "      <td>0.028923</td>\n",
       "      <td>-0.015295</td>\n",
       "    </tr>\n",
       "    <tr>\n",
       "      <th>TrxCount_DOGE</th>\n",
       "      <td>0.240538</td>\n",
       "      <td>0.726864</td>\n",
       "      <td>0.235541</td>\n",
       "      <td>0.312999</td>\n",
       "      <td>0.395624</td>\n",
       "      <td>0.679519</td>\n",
       "      <td>0.405579</td>\n",
       "      <td>0.390796</td>\n",
       "      <td>0.400845</td>\n",
       "      <td>0.329639</td>\n",
       "      <td>0.661405</td>\n",
       "      <td>0.682119</td>\n",
       "      <td>0.467189</td>\n",
       "      <td>0.444486</td>\n",
       "      <td>0.480900</td>\n",
       "      <td>0.298108</td>\n",
       "      <td>0.642813</td>\n",
       "      <td>0.691158</td>\n",
       "      <td>0.189754</td>\n",
       "      <td>1.000000</td>\n",
       "      <td>0.187787</td>\n",
       "      <td>0.316057</td>\n",
       "      <td>0.638111</td>\n",
       "      <td>0.666208</td>\n",
       "      <td>0.672152</td>\n",
       "      <td>-0.099503</td>\n",
       "      <td>-0.014544</td>\n",
       "    </tr>\n",
       "    <tr>\n",
       "      <th>MarketCap_DOGE</th>\n",
       "      <td>0.875660</td>\n",
       "      <td>0.568743</td>\n",
       "      <td>0.878583</td>\n",
       "      <td>0.777757</td>\n",
       "      <td>0.776031</td>\n",
       "      <td>0.477084</td>\n",
       "      <td>0.800421</td>\n",
       "      <td>-0.061062</td>\n",
       "      <td>0.803482</td>\n",
       "      <td>0.721268</td>\n",
       "      <td>0.559965</td>\n",
       "      <td>0.480706</td>\n",
       "      <td>0.643825</td>\n",
       "      <td>0.739765</td>\n",
       "      <td>0.708522</td>\n",
       "      <td>0.550524</td>\n",
       "      <td>0.423938</td>\n",
       "      <td>0.482661</td>\n",
       "      <td>0.999952</td>\n",
       "      <td>0.187787</td>\n",
       "      <td>1.000000</td>\n",
       "      <td>0.768289</td>\n",
       "      <td>0.489494</td>\n",
       "      <td>0.560983</td>\n",
       "      <td>0.550073</td>\n",
       "      <td>0.030527</td>\n",
       "      <td>-0.015200</td>\n",
       "    </tr>\n",
       "    <tr>\n",
       "      <th>TxValAdj_DOGE</th>\n",
       "      <td>0.540404</td>\n",
       "      <td>0.403707</td>\n",
       "      <td>0.539933</td>\n",
       "      <td>0.634455</td>\n",
       "      <td>0.437064</td>\n",
       "      <td>0.293537</td>\n",
       "      <td>0.532098</td>\n",
       "      <td>-0.007000</td>\n",
       "      <td>0.532404</td>\n",
       "      <td>0.482245</td>\n",
       "      <td>0.367428</td>\n",
       "      <td>0.295590</td>\n",
       "      <td>0.515169</td>\n",
       "      <td>0.464670</td>\n",
       "      <td>0.557580</td>\n",
       "      <td>0.496235</td>\n",
       "      <td>0.268964</td>\n",
       "      <td>0.295247</td>\n",
       "      <td>0.771815</td>\n",
       "      <td>0.316057</td>\n",
       "      <td>0.768289</td>\n",
       "      <td>1.000000</td>\n",
       "      <td>0.309089</td>\n",
       "      <td>0.338999</td>\n",
       "      <td>0.340468</td>\n",
       "      <td>-0.033882</td>\n",
       "      <td>-0.018979</td>\n",
       "    </tr>\n",
       "    <tr>\n",
       "      <th>HashRate_DOGE</th>\n",
       "      <td>0.584872</td>\n",
       "      <td>0.849137</td>\n",
       "      <td>0.584895</td>\n",
       "      <td>0.459499</td>\n",
       "      <td>0.754473</td>\n",
       "      <td>0.863353</td>\n",
       "      <td>0.666595</td>\n",
       "      <td>0.363165</td>\n",
       "      <td>0.664364</td>\n",
       "      <td>0.569570</td>\n",
       "      <td>0.810071</td>\n",
       "      <td>0.857455</td>\n",
       "      <td>0.635696</td>\n",
       "      <td>0.635875</td>\n",
       "      <td>0.678018</td>\n",
       "      <td>0.349742</td>\n",
       "      <td>0.991091</td>\n",
       "      <td>0.880469</td>\n",
       "      <td>0.488494</td>\n",
       "      <td>0.638111</td>\n",
       "      <td>0.489494</td>\n",
       "      <td>0.309089</td>\n",
       "      <td>1.000000</td>\n",
       "      <td>0.868372</td>\n",
       "      <td>0.859841</td>\n",
       "      <td>-0.019275</td>\n",
       "      <td>-0.009606</td>\n",
       "    </tr>\n",
       "    <tr>\n",
       "      <th>Supply_DOGE</th>\n",
       "      <td>0.672357</td>\n",
       "      <td>0.925916</td>\n",
       "      <td>0.673745</td>\n",
       "      <td>0.538059</td>\n",
       "      <td>0.823563</td>\n",
       "      <td>0.982711</td>\n",
       "      <td>0.770798</td>\n",
       "      <td>0.444476</td>\n",
       "      <td>0.770096</td>\n",
       "      <td>0.669189</td>\n",
       "      <td>0.941164</td>\n",
       "      <td>0.988346</td>\n",
       "      <td>0.635913</td>\n",
       "      <td>0.757112</td>\n",
       "      <td>0.690943</td>\n",
       "      <td>0.415496</td>\n",
       "      <td>0.831544</td>\n",
       "      <td>0.990225</td>\n",
       "      <td>0.559462</td>\n",
       "      <td>0.666208</td>\n",
       "      <td>0.560983</td>\n",
       "      <td>0.338999</td>\n",
       "      <td>0.868372</td>\n",
       "      <td>1.000000</td>\n",
       "      <td>0.988066</td>\n",
       "      <td>-0.009287</td>\n",
       "      <td>-0.002602</td>\n",
       "    </tr>\n",
       "    <tr>\n",
       "      <th>Year</th>\n",
       "      <td>0.659882</td>\n",
       "      <td>0.916245</td>\n",
       "      <td>0.660454</td>\n",
       "      <td>0.539090</td>\n",
       "      <td>0.810654</td>\n",
       "      <td>0.972415</td>\n",
       "      <td>0.762792</td>\n",
       "      <td>0.444777</td>\n",
       "      <td>0.761967</td>\n",
       "      <td>0.658277</td>\n",
       "      <td>0.931260</td>\n",
       "      <td>0.978783</td>\n",
       "      <td>0.642838</td>\n",
       "      <td>0.739901</td>\n",
       "      <td>0.695883</td>\n",
       "      <td>0.414644</td>\n",
       "      <td>0.826085</td>\n",
       "      <td>0.979305</td>\n",
       "      <td>0.548813</td>\n",
       "      <td>0.672152</td>\n",
       "      <td>0.550073</td>\n",
       "      <td>0.340468</td>\n",
       "      <td>0.859841</td>\n",
       "      <td>0.988066</td>\n",
       "      <td>1.000000</td>\n",
       "      <td>-0.162670</td>\n",
       "      <td>-0.017877</td>\n",
       "    </tr>\n",
       "    <tr>\n",
       "      <th>Month</th>\n",
       "      <td>0.031761</td>\n",
       "      <td>-0.017596</td>\n",
       "      <td>0.037004</td>\n",
       "      <td>-0.047053</td>\n",
       "      <td>0.018589</td>\n",
       "      <td>-0.019748</td>\n",
       "      <td>-0.008585</td>\n",
       "      <td>-0.042700</td>\n",
       "      <td>-0.007659</td>\n",
       "      <td>0.018267</td>\n",
       "      <td>-0.015650</td>\n",
       "      <td>-0.024931</td>\n",
       "      <td>-0.096239</td>\n",
       "      <td>0.050649</td>\n",
       "      <td>-0.087570</td>\n",
       "      <td>-0.026217</td>\n",
       "      <td>-0.036917</td>\n",
       "      <td>-0.016333</td>\n",
       "      <td>0.028923</td>\n",
       "      <td>-0.099503</td>\n",
       "      <td>0.030527</td>\n",
       "      <td>-0.033882</td>\n",
       "      <td>-0.019275</td>\n",
       "      <td>-0.009287</td>\n",
       "      <td>-0.162670</td>\n",
       "      <td>1.000000</td>\n",
       "      <td>0.017735</td>\n",
       "    </tr>\n",
       "    <tr>\n",
       "      <th>Day</th>\n",
       "      <td>-0.019977</td>\n",
       "      <td>0.001110</td>\n",
       "      <td>-0.019749</td>\n",
       "      <td>-0.020864</td>\n",
       "      <td>-0.006393</td>\n",
       "      <td>-0.002377</td>\n",
       "      <td>-0.012760</td>\n",
       "      <td>-0.034643</td>\n",
       "      <td>-0.012568</td>\n",
       "      <td>0.000285</td>\n",
       "      <td>-0.016243</td>\n",
       "      <td>-0.002502</td>\n",
       "      <td>-0.019658</td>\n",
       "      <td>-0.001718</td>\n",
       "      <td>-0.020303</td>\n",
       "      <td>-0.018800</td>\n",
       "      <td>-0.007656</td>\n",
       "      <td>-0.002333</td>\n",
       "      <td>-0.015295</td>\n",
       "      <td>-0.014544</td>\n",
       "      <td>-0.015200</td>\n",
       "      <td>-0.018979</td>\n",
       "      <td>-0.009606</td>\n",
       "      <td>-0.002602</td>\n",
       "      <td>-0.017877</td>\n",
       "      <td>0.017735</td>\n",
       "      <td>1.000000</td>\n",
       "    </tr>\n",
       "  </tbody>\n",
       "</table>\n",
       "</div>"
      ],
      "text/plain": [
       "                Price_ETH  TrxCount_ETH  MarketCap_ETH  TxValAdj_ETH  \\\n",
       "Price_ETH        1.000000      0.695242       0.999462      0.762474   \n",
       "TrxCount_ETH     0.695242      1.000000       0.687852      0.614042   \n",
       "MarketCap_ETH    0.999462      0.687852       1.000000      0.759750   \n",
       "TxValAdj_ETH     0.762474      0.614042       0.759750      1.000000   \n",
       "HashRate_ETH     0.928508      0.798647       0.929469      0.679499   \n",
       "Supply_ETH       0.587086      0.911864       0.585252      0.473771   \n",
       "Price_BTC        0.932598      0.794048       0.932660      0.769676   \n",
       "TrxCount_BTC     0.008087      0.378982       0.008579      0.080351   \n",
       "MarketCap_BTC    0.934056      0.788799       0.934669      0.769077   \n",
       "TxValAdj_BTC     0.869666      0.708356       0.868742      0.752893   \n",
       "HashRate_BTC     0.678996      0.870216       0.684423      0.566276   \n",
       "Supply_BTC       0.587754      0.908466       0.587413      0.475429   \n",
       "Price_LTC        0.756313      0.799762       0.739724      0.680481   \n",
       "TrxCount_LTC     0.853180      0.831892       0.848187      0.706046   \n",
       "MarketCap_LTC    0.812136      0.827806       0.798939      0.726353   \n",
       "TxValAdj_LTC     0.612475      0.586475       0.599088      0.643600   \n",
       "HashRate_LTC     0.524918      0.825253       0.523055      0.409328   \n",
       "Supply_LTC       0.589737      0.913482       0.589629      0.473684   \n",
       "Price_DOGE       0.872517      0.568720       0.875309      0.778575   \n",
       "TrxCount_DOGE    0.240538      0.726864       0.235541      0.312999   \n",
       "MarketCap_DOGE   0.875660      0.568743       0.878583      0.777757   \n",
       "TxValAdj_DOGE    0.540404      0.403707       0.539933      0.634455   \n",
       "HashRate_DOGE    0.584872      0.849137       0.584895      0.459499   \n",
       "Supply_DOGE      0.672357      0.925916       0.673745      0.538059   \n",
       "Year             0.659882      0.916245       0.660454      0.539090   \n",
       "Month            0.031761     -0.017596       0.037004     -0.047053   \n",
       "Day             -0.019977      0.001110      -0.019749     -0.020864   \n",
       "\n",
       "                HashRate_ETH  Supply_ETH  Price_BTC  TrxCount_BTC  \\\n",
       "Price_ETH           0.928508    0.587086   0.932598      0.008087   \n",
       "TrxCount_ETH        0.798647    0.911864   0.794048      0.378982   \n",
       "MarketCap_ETH       0.929469    0.585252   0.932660      0.008579   \n",
       "TxValAdj_ETH        0.679499    0.473771   0.769676      0.080351   \n",
       "HashRate_ETH        1.000000    0.756362   0.899405      0.090087   \n",
       "Supply_ETH          0.756362    1.000000   0.690571      0.507039   \n",
       "Price_BTC           0.899405    0.690571   1.000000      0.146039   \n",
       "TrxCount_BTC        0.090087    0.507039   0.146039      1.000000   \n",
       "MarketCap_BTC       0.900808    0.687675   0.999816      0.142007   \n",
       "TxValAdj_BTC        0.836652    0.595555   0.892017      0.185031   \n",
       "HashRate_BTC        0.816290    0.881190   0.795335      0.364004   \n",
       "Supply_BTC          0.755429    0.996333   0.696191      0.510270   \n",
       "Price_LTC           0.712559    0.629227   0.803881      0.177138   \n",
       "TrxCount_LTC        0.840161    0.696554   0.879233      0.191286   \n",
       "MarketCap_LTC       0.770344    0.669100   0.866256      0.183546   \n",
       "TxValAdj_LTC        0.512308    0.396231   0.635674      0.200865   \n",
       "HashRate_LTC        0.706731    0.842414   0.606404      0.361749   \n",
       "Supply_LTC          0.762910    0.995932   0.698163      0.497442   \n",
       "Price_DOGE          0.772379    0.476244   0.798598     -0.060867   \n",
       "TrxCount_DOGE       0.395624    0.679519   0.405579      0.390796   \n",
       "MarketCap_DOGE      0.776031    0.477084   0.800421     -0.061062   \n",
       "TxValAdj_DOGE       0.437064    0.293537   0.532098     -0.007000   \n",
       "HashRate_DOGE       0.754473    0.863353   0.666595      0.363165   \n",
       "Supply_DOGE         0.823563    0.982711   0.770798      0.444476   \n",
       "Year                0.810654    0.972415   0.762792      0.444777   \n",
       "Month               0.018589   -0.019748  -0.008585     -0.042700   \n",
       "Day                -0.006393   -0.002377  -0.012760     -0.034643   \n",
       "\n",
       "                MarketCap_BTC  TxValAdj_BTC  HashRate_BTC  Supply_BTC  \\\n",
       "Price_ETH            0.934056      0.869666      0.678996    0.587754   \n",
       "TrxCount_ETH         0.788799      0.708356      0.870216    0.908466   \n",
       "MarketCap_ETH        0.934669      0.868742      0.684423    0.587413   \n",
       "TxValAdj_ETH         0.769077      0.752893      0.566276    0.475429   \n",
       "HashRate_ETH         0.900808      0.836652      0.816290    0.755429   \n",
       "Supply_ETH           0.687675      0.595555      0.881190    0.996333   \n",
       "Price_BTC            0.999816      0.892017      0.795335    0.696191   \n",
       "TrxCount_BTC         0.142007      0.185031      0.364004    0.510270   \n",
       "MarketCap_BTC        1.000000      0.891695      0.797270    0.694160   \n",
       "TxValAdj_BTC         0.891695      1.000000      0.687104    0.598558   \n",
       "HashRate_BTC         0.797270      0.687104      1.000000    0.902355   \n",
       "Supply_BTC           0.694160      0.598558      0.902355    1.000000   \n",
       "Price_LTC            0.793921      0.732255      0.577401    0.608920   \n",
       "TrxCount_LTC         0.876375      0.811440      0.730262    0.695254   \n",
       "MarketCap_LTC        0.858219      0.782392      0.648170    0.654159   \n",
       "TxValAdj_LTC         0.627331      0.669190      0.388156    0.383001   \n",
       "HashRate_LTC         0.602944      0.515789      0.757566    0.831060   \n",
       "Supply_LTC           0.696116      0.599652      0.907002    0.996710   \n",
       "Price_DOGE           0.801570      0.718875      0.558046    0.479711   \n",
       "TrxCount_DOGE        0.400845      0.329639      0.661405    0.682119   \n",
       "MarketCap_DOGE       0.803482      0.721268      0.559965    0.480706   \n",
       "TxValAdj_DOGE        0.532404      0.482245      0.367428    0.295590   \n",
       "HashRate_DOGE        0.664364      0.569570      0.810071    0.857455   \n",
       "Supply_DOGE          0.770096      0.669189      0.941164    0.988346   \n",
       "Year                 0.761967      0.658277      0.931260    0.978783   \n",
       "Month               -0.007659      0.018267     -0.015650   -0.024931   \n",
       "Day                 -0.012568      0.000285     -0.016243   -0.002502   \n",
       "\n",
       "                Price_LTC  TrxCount_LTC  MarketCap_LTC  TxValAdj_LTC  \\\n",
       "Price_ETH        0.756313      0.853180       0.812136      0.612475   \n",
       "TrxCount_ETH     0.799762      0.831892       0.827806      0.586475   \n",
       "MarketCap_ETH    0.739724      0.848187       0.798939      0.599088   \n",
       "TxValAdj_ETH     0.680481      0.706046       0.726353      0.643600   \n",
       "HashRate_ETH     0.712559      0.840161       0.770344      0.512308   \n",
       "Supply_ETH       0.629227      0.696554       0.669100      0.396231   \n",
       "Price_BTC        0.803881      0.879233       0.866256      0.635674   \n",
       "TrxCount_BTC     0.177138      0.191286       0.183546      0.200865   \n",
       "MarketCap_BTC    0.793921      0.876375       0.858219      0.627331   \n",
       "TxValAdj_BTC     0.732255      0.811440       0.782392      0.669190   \n",
       "HashRate_BTC     0.577401      0.730262       0.648170      0.388156   \n",
       "Supply_BTC       0.608920      0.695254       0.654159      0.383001   \n",
       "Price_LTC        1.000000      0.800730       0.991732      0.807571   \n",
       "TrxCount_LTC     0.800730      1.000000       0.834804      0.690704   \n",
       "MarketCap_LTC    0.991732      0.834804       1.000000      0.795676   \n",
       "TxValAdj_LTC     0.807571      0.690704       0.795676      1.000000   \n",
       "HashRate_LTC     0.624804      0.584298       0.656768      0.327914   \n",
       "Supply_LTC       0.614472      0.696008       0.660076      0.381266   \n",
       "Price_DOGE       0.645191      0.738423       0.709502      0.552127   \n",
       "TrxCount_DOGE    0.467189      0.444486       0.480900      0.298108   \n",
       "MarketCap_DOGE   0.643825      0.739765       0.708522      0.550524   \n",
       "TxValAdj_DOGE    0.515169      0.464670       0.557580      0.496235   \n",
       "HashRate_DOGE    0.635696      0.635875       0.678018      0.349742   \n",
       "Supply_DOGE      0.635913      0.757112       0.690943      0.415496   \n",
       "Year             0.642838      0.739901       0.695883      0.414644   \n",
       "Month           -0.096239      0.050649      -0.087570     -0.026217   \n",
       "Day             -0.019658     -0.001718      -0.020303     -0.018800   \n",
       "\n",
       "                HashRate_LTC  Supply_LTC  Price_DOGE  TrxCount_DOGE  \\\n",
       "Price_ETH           0.524918    0.589737    0.872517       0.240538   \n",
       "TrxCount_ETH        0.825253    0.913482    0.568720       0.726864   \n",
       "MarketCap_ETH       0.523055    0.589629    0.875309       0.235541   \n",
       "TxValAdj_ETH        0.409328    0.473684    0.778575       0.312999   \n",
       "HashRate_ETH        0.706731    0.762910    0.772379       0.395624   \n",
       "Supply_ETH          0.842414    0.995932    0.476244       0.679519   \n",
       "Price_BTC           0.606404    0.698163    0.798598       0.405579   \n",
       "TrxCount_BTC        0.361749    0.497442   -0.060867       0.390796   \n",
       "MarketCap_BTC       0.602944    0.696116    0.801570       0.400845   \n",
       "TxValAdj_BTC        0.515789    0.599652    0.718875       0.329639   \n",
       "HashRate_BTC        0.757566    0.907002    0.558046       0.661405   \n",
       "Supply_BTC          0.831060    0.996710    0.479711       0.682119   \n",
       "Price_LTC           0.624804    0.614472    0.645191       0.467189   \n",
       "TrxCount_LTC        0.584298    0.696008    0.738423       0.444486   \n",
       "MarketCap_LTC       0.656768    0.660076    0.709502       0.480900   \n",
       "TxValAdj_LTC        0.327914    0.381266    0.552127       0.298108   \n",
       "HashRate_LTC        1.000000    0.855910    0.423243       0.642813   \n",
       "Supply_LTC          0.855910    1.000000    0.481622       0.691158   \n",
       "Price_DOGE          0.423243    0.481622    1.000000       0.189754   \n",
       "TrxCount_DOGE       0.642813    0.691158    0.189754       1.000000   \n",
       "MarketCap_DOGE      0.423938    0.482661    0.999952       0.187787   \n",
       "TxValAdj_DOGE       0.268964    0.295247    0.771815       0.316057   \n",
       "HashRate_DOGE       0.991091    0.880469    0.488494       0.638111   \n",
       "Supply_DOGE         0.831544    0.990225    0.559462       0.666208   \n",
       "Year                0.826085    0.979305    0.548813       0.672152   \n",
       "Month              -0.036917   -0.016333    0.028923      -0.099503   \n",
       "Day                -0.007656   -0.002333   -0.015295      -0.014544   \n",
       "\n",
       "                MarketCap_DOGE  TxValAdj_DOGE  HashRate_DOGE  Supply_DOGE  \\\n",
       "Price_ETH             0.875660       0.540404       0.584872     0.672357   \n",
       "TrxCount_ETH          0.568743       0.403707       0.849137     0.925916   \n",
       "MarketCap_ETH         0.878583       0.539933       0.584895     0.673745   \n",
       "TxValAdj_ETH          0.777757       0.634455       0.459499     0.538059   \n",
       "HashRate_ETH          0.776031       0.437064       0.754473     0.823563   \n",
       "Supply_ETH            0.477084       0.293537       0.863353     0.982711   \n",
       "Price_BTC             0.800421       0.532098       0.666595     0.770798   \n",
       "TrxCount_BTC         -0.061062      -0.007000       0.363165     0.444476   \n",
       "MarketCap_BTC         0.803482       0.532404       0.664364     0.770096   \n",
       "TxValAdj_BTC          0.721268       0.482245       0.569570     0.669189   \n",
       "HashRate_BTC          0.559965       0.367428       0.810071     0.941164   \n",
       "Supply_BTC            0.480706       0.295590       0.857455     0.988346   \n",
       "Price_LTC             0.643825       0.515169       0.635696     0.635913   \n",
       "TrxCount_LTC          0.739765       0.464670       0.635875     0.757112   \n",
       "MarketCap_LTC         0.708522       0.557580       0.678018     0.690943   \n",
       "TxValAdj_LTC          0.550524       0.496235       0.349742     0.415496   \n",
       "HashRate_LTC          0.423938       0.268964       0.991091     0.831544   \n",
       "Supply_LTC            0.482661       0.295247       0.880469     0.990225   \n",
       "Price_DOGE            0.999952       0.771815       0.488494     0.559462   \n",
       "TrxCount_DOGE         0.187787       0.316057       0.638111     0.666208   \n",
       "MarketCap_DOGE        1.000000       0.768289       0.489494     0.560983   \n",
       "TxValAdj_DOGE         0.768289       1.000000       0.309089     0.338999   \n",
       "HashRate_DOGE         0.489494       0.309089       1.000000     0.868372   \n",
       "Supply_DOGE           0.560983       0.338999       0.868372     1.000000   \n",
       "Year                  0.550073       0.340468       0.859841     0.988066   \n",
       "Month                 0.030527      -0.033882      -0.019275    -0.009287   \n",
       "Day                  -0.015200      -0.018979      -0.009606    -0.002602   \n",
       "\n",
       "                    Year     Month       Day  \n",
       "Price_ETH       0.659882  0.031761 -0.019977  \n",
       "TrxCount_ETH    0.916245 -0.017596  0.001110  \n",
       "MarketCap_ETH   0.660454  0.037004 -0.019749  \n",
       "TxValAdj_ETH    0.539090 -0.047053 -0.020864  \n",
       "HashRate_ETH    0.810654  0.018589 -0.006393  \n",
       "Supply_ETH      0.972415 -0.019748 -0.002377  \n",
       "Price_BTC       0.762792 -0.008585 -0.012760  \n",
       "TrxCount_BTC    0.444777 -0.042700 -0.034643  \n",
       "MarketCap_BTC   0.761967 -0.007659 -0.012568  \n",
       "TxValAdj_BTC    0.658277  0.018267  0.000285  \n",
       "HashRate_BTC    0.931260 -0.015650 -0.016243  \n",
       "Supply_BTC      0.978783 -0.024931 -0.002502  \n",
       "Price_LTC       0.642838 -0.096239 -0.019658  \n",
       "TrxCount_LTC    0.739901  0.050649 -0.001718  \n",
       "MarketCap_LTC   0.695883 -0.087570 -0.020303  \n",
       "TxValAdj_LTC    0.414644 -0.026217 -0.018800  \n",
       "HashRate_LTC    0.826085 -0.036917 -0.007656  \n",
       "Supply_LTC      0.979305 -0.016333 -0.002333  \n",
       "Price_DOGE      0.548813  0.028923 -0.015295  \n",
       "TrxCount_DOGE   0.672152 -0.099503 -0.014544  \n",
       "MarketCap_DOGE  0.550073  0.030527 -0.015200  \n",
       "TxValAdj_DOGE   0.340468 -0.033882 -0.018979  \n",
       "HashRate_DOGE   0.859841 -0.019275 -0.009606  \n",
       "Supply_DOGE     0.988066 -0.009287 -0.002602  \n",
       "Year            1.000000 -0.162670 -0.017877  \n",
       "Month          -0.162670  1.000000  0.017735  \n",
       "Day            -0.017877  0.017735  1.000000  "
      ]
     },
     "execution_count": 21,
     "metadata": {},
     "output_type": "execute_result"
    }
   ],
   "source": [
    "crypto.corr()"
   ]
  },
  {
   "cell_type": "markdown",
   "id": "055b07c4-ac11-4cc2-a567-4f99ab27b1e2",
   "metadata": {
    "tags": []
   },
   "source": [
    "## Prepare the Data"
   ]
  },
  {
   "cell_type": "code",
   "execution_count": 22,
   "id": "e2e4014a-2261-4e10-9028-948b7f7789ff",
   "metadata": {
    "tags": []
   },
   "outputs": [],
   "source": [
    "crypto.drop(columns=\"MarketCap_ETH\", inplace = True)"
   ]
  },
  {
   "cell_type": "markdown",
   "id": "b5b856f4-430b-4ffd-9810-16c1d9da9658",
   "metadata": {
    "tags": []
   },
   "source": [
    "### Save FUTURE data points to predict"
   ]
  },
  {
   "cell_type": "code",
   "execution_count": 23,
   "id": "1d01ed99-555f-4fbd-9c91-61a4f6a1761d",
   "metadata": {
    "tags": []
   },
   "outputs": [],
   "source": [
    "FUTURE = 1 #a constant number should be represented with all CAPS\n",
    "\n",
    "#For demonstrations purposes, keep the predictions aside so you can evaluate the results\n",
    "toPredict = crypto[-FUTURE:].copy()\n",
    "y_predict = list(toPredict.Price_ETH)\n",
    "\n",
    "crypto = crypto[:-FUTURE].copy()"
   ]
  },
  {
   "cell_type": "markdown",
   "id": "e437f8b9-689b-4b73-9f3e-92a4b3d97805",
   "metadata": {},
   "source": [
    "## Regression Prep"
   ]
  },
  {
   "cell_type": "code",
   "execution_count": 24,
   "id": "44e077f0-7cb1-41bb-8ebc-2e564b33ad57",
   "metadata": {},
   "outputs": [],
   "source": [
    "#create test and training data sets from housing.data and housing.target\n",
    "X_train, X_test, y_train, y_test = train_test_split(crypto.drop(columns=['Price_ETH']), \n",
    "                                                    crypto.Price_ETH,\n",
    "                                                    test_size=0.2,\n",
    "                                                    random_state=42)"
   ]
  },
  {
   "cell_type": "code",
   "execution_count": 25,
   "id": "5a7f91f0-7d9b-42c0-a627-e9e4353a2036",
   "metadata": {},
   "outputs": [
    {
     "data": {
      "text/plain": [
       "((1905, 25), (1905,), (477, 25), (477,))"
      ]
     },
     "execution_count": 25,
     "metadata": {},
     "output_type": "execute_result"
    }
   ],
   "source": [
    "X_train.shape, y_train.shape, X_test.shape, y_test.shape"
   ]
  },
  {
   "cell_type": "code",
   "execution_count": 26,
   "id": "ffb954af-47d9-4164-ab14-b0074cbe6091",
   "metadata": {},
   "outputs": [],
   "source": [
    "cat_attribs = []\n",
    "\n",
    "#set the numerical attributes\n",
    "num_attribs = list( X_train.drop(columns=cat_attribs, axis=1) )\n",
    "\n",
    "#define pipeline for numeric attributes (this code is just a definition)\n",
    "#each numeric attribute will be imputated using the Median strategy\n",
    "#each numeric attribute will be scaled \n",
    "num_pipeline = Pipeline( [\n",
    "    ('imputer', SimpleImputer(strategy=\"median\")), \n",
    "    ('std_scaler', StandardScaler()),   \n",
    "] )\n",
    "\n",
    "#define the pipeline process for the data set\n",
    "full_pipeline = ColumnTransformer( [\n",
    "    ('num', num_pipeline, num_attribs),\n",
    "    ('cat', OneHotEncoder(sparse=False), cat_attribs)    \n",
    "])"
   ]
  },
  {
   "cell_type": "code",
   "execution_count": 27,
   "id": "62536a76-7c28-40e4-9b0f-741b408fd0e3",
   "metadata": {},
   "outputs": [],
   "source": [
    "from sklearn import set_config\n",
    "set_config(display='diagram')\n",
    "#should put with imports"
   ]
  },
  {
   "cell_type": "code",
   "execution_count": 28,
   "id": "c673c644-012f-465d-b589-8566cb6918f4",
   "metadata": {},
   "outputs": [
    {
     "data": {
      "text/html": [
       "<style>#sk-eefb9acb-a727-40e9-bb82-9cc64f8801d6 {color: black;background-color: white;}#sk-eefb9acb-a727-40e9-bb82-9cc64f8801d6 pre{padding: 0;}#sk-eefb9acb-a727-40e9-bb82-9cc64f8801d6 div.sk-toggleable {background-color: white;}#sk-eefb9acb-a727-40e9-bb82-9cc64f8801d6 label.sk-toggleable__label {cursor: pointer;display: block;width: 100%;margin-bottom: 0;padding: 0.2em 0.3em;box-sizing: border-box;text-align: center;}#sk-eefb9acb-a727-40e9-bb82-9cc64f8801d6 div.sk-toggleable__content {max-height: 0;max-width: 0;overflow: hidden;text-align: left;background-color: #f0f8ff;}#sk-eefb9acb-a727-40e9-bb82-9cc64f8801d6 div.sk-toggleable__content pre {margin: 0.2em;color: black;border-radius: 0.25em;background-color: #f0f8ff;}#sk-eefb9acb-a727-40e9-bb82-9cc64f8801d6 input.sk-toggleable__control:checked~div.sk-toggleable__content {max-height: 200px;max-width: 100%;overflow: auto;}#sk-eefb9acb-a727-40e9-bb82-9cc64f8801d6 div.sk-estimator input.sk-toggleable__control:checked~label.sk-toggleable__label {background-color: #d4ebff;}#sk-eefb9acb-a727-40e9-bb82-9cc64f8801d6 div.sk-label input.sk-toggleable__control:checked~label.sk-toggleable__label {background-color: #d4ebff;}#sk-eefb9acb-a727-40e9-bb82-9cc64f8801d6 input.sk-hidden--visually {border: 0;clip: rect(1px 1px 1px 1px);clip: rect(1px, 1px, 1px, 1px);height: 1px;margin: -1px;overflow: hidden;padding: 0;position: absolute;width: 1px;}#sk-eefb9acb-a727-40e9-bb82-9cc64f8801d6 div.sk-estimator {font-family: monospace;background-color: #f0f8ff;margin: 0.25em 0.25em;border: 1px dotted black;border-radius: 0.25em;box-sizing: border-box;}#sk-eefb9acb-a727-40e9-bb82-9cc64f8801d6 div.sk-estimator:hover {background-color: #d4ebff;}#sk-eefb9acb-a727-40e9-bb82-9cc64f8801d6 div.sk-parallel-item::after {content: \"\";width: 100%;border-bottom: 1px solid gray;flex-grow: 1;}#sk-eefb9acb-a727-40e9-bb82-9cc64f8801d6 div.sk-label:hover label.sk-toggleable__label {background-color: #d4ebff;}#sk-eefb9acb-a727-40e9-bb82-9cc64f8801d6 div.sk-serial::before {content: \"\";position: absolute;border-left: 1px solid gray;box-sizing: border-box;top: 2em;bottom: 0;left: 50%;}#sk-eefb9acb-a727-40e9-bb82-9cc64f8801d6 div.sk-serial {display: flex;flex-direction: column;align-items: center;background-color: white;}#sk-eefb9acb-a727-40e9-bb82-9cc64f8801d6 div.sk-item {z-index: 1;}#sk-eefb9acb-a727-40e9-bb82-9cc64f8801d6 div.sk-parallel {display: flex;align-items: stretch;justify-content: center;background-color: white;}#sk-eefb9acb-a727-40e9-bb82-9cc64f8801d6 div.sk-parallel-item {display: flex;flex-direction: column;position: relative;background-color: white;}#sk-eefb9acb-a727-40e9-bb82-9cc64f8801d6 div.sk-parallel-item:first-child::after {align-self: flex-end;width: 50%;}#sk-eefb9acb-a727-40e9-bb82-9cc64f8801d6 div.sk-parallel-item:last-child::after {align-self: flex-start;width: 50%;}#sk-eefb9acb-a727-40e9-bb82-9cc64f8801d6 div.sk-parallel-item:only-child::after {width: 0;}#sk-eefb9acb-a727-40e9-bb82-9cc64f8801d6 div.sk-dashed-wrapped {border: 1px dashed gray;margin: 0.2em;box-sizing: border-box;padding-bottom: 0.1em;background-color: white;position: relative;}#sk-eefb9acb-a727-40e9-bb82-9cc64f8801d6 div.sk-label label {font-family: monospace;font-weight: bold;background-color: white;display: inline-block;line-height: 1.2em;}#sk-eefb9acb-a727-40e9-bb82-9cc64f8801d6 div.sk-label-container {position: relative;z-index: 2;text-align: center;}#sk-eefb9acb-a727-40e9-bb82-9cc64f8801d6 div.sk-container {display: inline-block;position: relative;}</style><div id=\"sk-eefb9acb-a727-40e9-bb82-9cc64f8801d6\" class\"sk-top-container\"><div class=\"sk-container\"><div class=\"sk-item sk-dashed-wrapped\"><div class=\"sk-label-container\"><div class=\"sk-label sk-toggleable\"><input class=\"sk-toggleable__control sk-hidden--visually\" id=\"0e383d74-a0d4-4a87-9abd-85df6e03a56b\" type=\"checkbox\" ><label class=\"sk-toggleable__label\" for=\"0e383d74-a0d4-4a87-9abd-85df6e03a56b\">ColumnTransformer</label><div class=\"sk-toggleable__content\"><pre>ColumnTransformer(transformers=[('num',\n",
       "                                 Pipeline(steps=[('imputer',\n",
       "                                                  SimpleImputer(strategy='median')),\n",
       "                                                 ('std_scaler',\n",
       "                                                  StandardScaler())]),\n",
       "                                 ['TrxCount_ETH', 'TxValAdj_ETH',\n",
       "                                  'HashRate_ETH', 'Supply_ETH', 'Price_BTC',\n",
       "                                  'TrxCount_BTC', 'MarketCap_BTC',\n",
       "                                  'TxValAdj_BTC', 'HashRate_BTC', 'Supply_BTC',\n",
       "                                  'Price_LTC', 'TrxCount_LTC', 'MarketCap_LTC',\n",
       "                                  'TxValAdj_LTC', 'HashRate_LTC', 'Supply_LTC',\n",
       "                                  'Price_DOGE', 'TrxCount_DOGE',\n",
       "                                  'MarketCap_DOGE', 'TxValAdj_DOGE',\n",
       "                                  'HashRate_DOGE', 'Supply_DOGE', 'Year',\n",
       "                                  'Month', 'Day']),\n",
       "                                ('cat', OneHotEncoder(sparse=False), [])])</pre></div></div></div><div class=\"sk-parallel\"><div class=\"sk-parallel-item\"><div class=\"sk-item\"><div class=\"sk-label-container\"><div class=\"sk-label sk-toggleable\"><input class=\"sk-toggleable__control sk-hidden--visually\" id=\"5b5bdf2d-0dd1-4c05-8e3e-d9414ffe1629\" type=\"checkbox\" ><label class=\"sk-toggleable__label\" for=\"5b5bdf2d-0dd1-4c05-8e3e-d9414ffe1629\">num</label><div class=\"sk-toggleable__content\"><pre>['TrxCount_ETH', 'TxValAdj_ETH', 'HashRate_ETH', 'Supply_ETH', 'Price_BTC', 'TrxCount_BTC', 'MarketCap_BTC', 'TxValAdj_BTC', 'HashRate_BTC', 'Supply_BTC', 'Price_LTC', 'TrxCount_LTC', 'MarketCap_LTC', 'TxValAdj_LTC', 'HashRate_LTC', 'Supply_LTC', 'Price_DOGE', 'TrxCount_DOGE', 'MarketCap_DOGE', 'TxValAdj_DOGE', 'HashRate_DOGE', 'Supply_DOGE', 'Year', 'Month', 'Day']</pre></div></div></div><div class=\"sk-serial\"><div class=\"sk-item\"><div class=\"sk-serial\"><div class=\"sk-item\"><div class=\"sk-estimator sk-toggleable\"><input class=\"sk-toggleable__control sk-hidden--visually\" id=\"f945e247-fe88-474d-bb14-07f7042b8b33\" type=\"checkbox\" ><label class=\"sk-toggleable__label\" for=\"f945e247-fe88-474d-bb14-07f7042b8b33\">SimpleImputer</label><div class=\"sk-toggleable__content\"><pre>SimpleImputer(strategy='median')</pre></div></div></div><div class=\"sk-item\"><div class=\"sk-estimator sk-toggleable\"><input class=\"sk-toggleable__control sk-hidden--visually\" id=\"5b2ab299-5206-43b7-a3a0-ad1f1a4a08b7\" type=\"checkbox\" ><label class=\"sk-toggleable__label\" for=\"5b2ab299-5206-43b7-a3a0-ad1f1a4a08b7\">StandardScaler</label><div class=\"sk-toggleable__content\"><pre>StandardScaler()</pre></div></div></div></div></div></div></div></div><div class=\"sk-parallel-item\"><div class=\"sk-item\"><div class=\"sk-label-container\"><div class=\"sk-label sk-toggleable\"><input class=\"sk-toggleable__control sk-hidden--visually\" id=\"3980323a-5e3f-4fab-aad7-a10a0e108822\" type=\"checkbox\" ><label class=\"sk-toggleable__label\" for=\"3980323a-5e3f-4fab-aad7-a10a0e108822\">cat</label><div class=\"sk-toggleable__content\"><pre>[]</pre></div></div></div><div class=\"sk-serial\"><div class=\"sk-item\"><div class=\"sk-estimator sk-toggleable\"><input class=\"sk-toggleable__control sk-hidden--visually\" id=\"6e12f84d-148f-4856-b0e7-e08f2519528c\" type=\"checkbox\" ><label class=\"sk-toggleable__label\" for=\"6e12f84d-148f-4856-b0e7-e08f2519528c\">OneHotEncoder</label><div class=\"sk-toggleable__content\"><pre>OneHotEncoder(sparse=False)</pre></div></div></div></div></div></div></div></div></div></div>"
      ],
      "text/plain": [
       "ColumnTransformer(transformers=[('num',\n",
       "                                 Pipeline(steps=[('imputer',\n",
       "                                                  SimpleImputer(strategy='median')),\n",
       "                                                 ('std_scaler',\n",
       "                                                  StandardScaler())]),\n",
       "                                 ['TrxCount_ETH', 'TxValAdj_ETH',\n",
       "                                  'HashRate_ETH', 'Supply_ETH', 'Price_BTC',\n",
       "                                  'TrxCount_BTC', 'MarketCap_BTC',\n",
       "                                  'TxValAdj_BTC', 'HashRate_BTC', 'Supply_BTC',\n",
       "                                  'Price_LTC', 'TrxCount_LTC', 'MarketCap_LTC',\n",
       "                                  'TxValAdj_LTC', 'HashRate_LTC', 'Supply_LTC',\n",
       "                                  'Price_DOGE', 'TrxCount_DOGE',\n",
       "                                  'MarketCap_DOGE', 'TxValAdj_DOGE',\n",
       "                                  'HashRate_DOGE', 'Supply_DOGE', 'Year',\n",
       "                                  'Month', 'Day']),\n",
       "                                ('cat', OneHotEncoder(sparse=False), [])])"
      ]
     },
     "execution_count": 28,
     "metadata": {},
     "output_type": "execute_result"
    }
   ],
   "source": [
    "full_pipeline"
   ]
  },
  {
   "cell_type": "code",
   "execution_count": 29,
   "id": "a12a2b75-5904-4e23-824f-8fbb29d9737c",
   "metadata": {},
   "outputs": [],
   "source": [
    "#take the training data set and create an array of prepared data\n",
    "X_train = full_pipeline.fit_transform(X_train)"
   ]
  },
  {
   "cell_type": "code",
   "execution_count": 30,
   "id": "9b185c18-451c-4be9-b9eb-91581a12706e",
   "metadata": {},
   "outputs": [],
   "source": [
    "X_test = full_pipeline.transform(X_test)"
   ]
  },
  {
   "cell_type": "code",
   "execution_count": 31,
   "id": "b1abbb94-cbf9-4f3e-89a9-7eaadd11f033",
   "metadata": {},
   "outputs": [
    {
     "data": {
      "text/plain": [
       "(477, 25)"
      ]
     },
     "execution_count": 31,
     "metadata": {},
     "output_type": "execute_result"
    }
   ],
   "source": [
    "X_test.shape"
   ]
  },
  {
   "cell_type": "code",
   "execution_count": 32,
   "id": "df16a4bc-dfc5-4bb0-9ed3-06cdc46e1089",
   "metadata": {},
   "outputs": [
    {
     "data": {
      "text/plain": [
       "(1905, 25)"
      ]
     },
     "execution_count": 32,
     "metadata": {},
     "output_type": "execute_result"
    }
   ],
   "source": [
    "X_train.shape"
   ]
  },
  {
   "cell_type": "code",
   "execution_count": 33,
   "id": "21585e23-4a16-4de4-8faa-7018d50dd3f1",
   "metadata": {},
   "outputs": [
    {
     "data": {
      "text/plain": [
       "(1, 25)"
      ]
     },
     "execution_count": 33,
     "metadata": {},
     "output_type": "execute_result"
    }
   ],
   "source": [
    "X_predict = full_pipeline.transform( toPredict.drop(columns=[\"Price_ETH\"]) )\n",
    "X_predict.shape"
   ]
  },
  {
   "cell_type": "markdown",
   "id": "d0395a3f-175a-471d-a42c-c86ad8e9d5bb",
   "metadata": {
    "tags": []
   },
   "source": [
    "## <font color=blue>Determine a Baseline"
   ]
  },
  {
   "cell_type": "code",
   "execution_count": 34,
   "id": "ec70648d-4281-4418-bfaa-eb1bda974561",
   "metadata": {},
   "outputs": [
    {
     "name": "stdout",
     "output_type": "stream",
     "text": [
      "Baseline temp: 664.35\n",
      "Baseline Performance (of this guess): 1,073.92\n"
     ]
    }
   ],
   "source": [
    "#calculate the average home value\n",
    "baseline_prediction = y_train.mean()\n",
    "\n",
    "#populate an array with the average home value\n",
    "predictions = np.full(shape=len(X_train), fill_value = baseline_prediction)\n",
    "\n",
    "#determine the Root Mean Squared Error based on the actual vs. the baseline prediction\n",
    "baseline_rmse = mean_squared_error(y_train, predictions, squared=False)\n",
    "print(\"Baseline temp: {:,.2f}\".format(baseline_prediction))\n",
    "print(\"Baseline Performance (of this guess): {:,.2f}\".format(baseline_rmse))"
   ]
  },
  {
   "cell_type": "markdown",
   "id": "c6b5aad7-4d09-4387-b6d9-4a4f5b7e6f6b",
   "metadata": {},
   "source": [
    "## <font color=blue>Linear Regression"
   ]
  },
  {
   "cell_type": "markdown",
   "id": "307812c8-a5a6-409b-8f27-20673173f7b8",
   "metadata": {},
   "source": [
    "### Train and Evaluate Model"
   ]
  },
  {
   "cell_type": "code",
   "execution_count": 35,
   "id": "6c5628d6-2219-44e0-bb3c-01fd90741645",
   "metadata": {},
   "outputs": [
    {
     "name": "stdout",
     "output_type": "stream",
     "text": [
      "Predition Error (RMSE): 118.2453\n"
     ]
    }
   ],
   "source": [
    "#create a linear regression model\n",
    "lin_reg=LinearRegression()\n",
    "\n",
    "#fit the model to the training data set\n",
    "lin_reg.fit(X_train, y_train)\n",
    "\n",
    "#calculated the predicted values for the training data set\n",
    "predictions = lin_reg.predict(X_train)\n",
    "\n",
    "#compare the predicted to the actuals\n",
    "rmse = mean_squared_error(y_train,predictions, squared=False)\n",
    "print(\"Predition Error (RMSE): {:,.4f}\".format(rmse))"
   ]
  },
  {
   "cell_type": "markdown",
   "id": "10a9f4e2-26a3-43e8-904b-5fecf0abf99a",
   "metadata": {},
   "source": [
    "### Use Cross Validation to Evaluate Model"
   ]
  },
  {
   "cell_type": "code",
   "execution_count": 36,
   "id": "bce67654-05fc-4fb7-ab84-6e3862531712",
   "metadata": {
    "tags": []
   },
   "outputs": [
    {
     "name": "stdout",
     "output_type": "stream",
     "text": [
      "RMSE: 127.0024\n"
     ]
    }
   ],
   "source": [
    "#run cross validation\n",
    "scores = cross_val_score(lin_reg, X_train, y_train, scoring=\"neg_root_mean_squared_error\", cv=10)\n",
    "\n",
    "#report the results\n",
    "print(\"RMSE: {:,.4f}\".format( -scores.mean() ) )"
   ]
  },
  {
   "cell_type": "markdown",
   "id": "bd72db15-e807-4f0f-9415-64c2b40bc9b6",
   "metadata": {
    "tags": []
   },
   "source": [
    "### Evaluate Model on Test Set"
   ]
  },
  {
   "cell_type": "code",
   "execution_count": 37,
   "id": "a2509eed-e61c-4609-b6be-182b4bf12e63",
   "metadata": {},
   "outputs": [
    {
     "name": "stdout",
     "output_type": "stream",
     "text": [
      "Predition Error (RMSE): 110.8964\n"
     ]
    }
   ],
   "source": [
    "#use the linear regression model and evaluate the test data set\n",
    "predictions = lin_reg.predict(X_test)\n",
    "\n",
    "#compare the predicted to the actuals\n",
    "rmse = mean_squared_error(y_test,predictions, squared=False)\n",
    "print(\"Predition Error (RMSE): {:,.4f}\".format(rmse))"
   ]
  },
  {
   "cell_type": "markdown",
   "id": "ab799303-a0cf-4769-b581-fa3a66eb7cc9",
   "metadata": {},
   "source": [
    "### Review this model's Learning Curve"
   ]
  },
  {
   "cell_type": "code",
   "execution_count": 38,
   "id": "a4b47c92-c1c7-4830-a78c-5fc3760b9176",
   "metadata": {
    "tags": []
   },
   "outputs": [
    {
     "data": {
      "image/png": "[encoded data removed]",
      "text/plain": [
       "<Figure size 720x360 with 1 Axes>"
      ]
     },
     "metadata": {
      "needs_background": "light"
     },
     "output_type": "display_data"
    }
   ],
   "source": [
    "plot_learning_curve(lin_reg, X_train, y_train)"
   ]
  },
  {
   "cell_type": "code",
   "execution_count": 40,
   "id": "cf57a8b7-7b1a-497e-9ecc-4670dcb7f47f",
   "metadata": {},
   "outputs": [
    {
     "name": "stdout",
     "output_type": "stream",
     "text": [
      "Test Prediction Error (RMSE): 384.0854\n"
     ]
    }
   ],
   "source": [
    "#calculate the predicted values for Test\n",
    "y_pred = lin_reg.predict(X_predict)\n",
    "\n",
    "rmse = mean_squared_error(y_predict, y_pred, squared=False)\n",
    "print(\"Test Prediction Error (RMSE): {:,.4f}\".format(rmse))"
   ]
  },
  {
   "cell_type": "code",
   "execution_count": 41,
   "id": "b0a62125-48a8-4dc9-991b-402461b85141",
   "metadata": {},
   "outputs": [
    {
     "data": {
      "image/png": "[encoded data removed]",
      "text/plain": [
       "<Figure size 432x288 with 1 Axes>"
      ]
     },
     "metadata": {
      "needs_background": "light"
     },
     "output_type": "display_data"
    }
   ],
   "source": [
    "plot_actual_pred(y_predict, y_pred)"
   ]
  },
  {
   "cell_type": "code",
   "execution_count": 42,
   "id": "ddd24aa5-b7b4-4120-8c56-3bc19b2e3151",
   "metadata": {},
   "outputs": [
    {
     "data": {
      "text/plain": [
       "([2936.29826], array([3320.38367553]))"
      ]
     },
     "execution_count": 42,
     "metadata": {},
     "output_type": "execute_result"
    }
   ],
   "source": [
    "y_predict, y_pred"
   ]
  },
  {
   "cell_type": "markdown",
   "id": "1083b3c8-f243-4ad4-872b-11ff08dc5be5",
   "metadata": {},
   "source": [
    "## SGD Regressor"
   ]
  },
  {
   "cell_type": "code",
   "execution_count": 43,
   "id": "009aa73b-511c-452e-8860-af923f5563a4",
   "metadata": {},
   "outputs": [
    {
     "name": "stdout",
     "output_type": "stream",
     "text": [
      "Predition Error (RMSE): 176.0754\n"
     ]
    }
   ],
   "source": [
    "#create a Stocahstic Gradiant Descent Regressor object\n",
    "model = SGDRegressor(max_iter=1000, tol=.01, penalty=\"l2\", eta0=.001)\n",
    "\n",
    "#fit the model to the training data\n",
    "model.fit(X_train, y_train)\n",
    "\n",
    "#calcualte the predicted values\n",
    "predictions = model.predict(X_train)\n",
    "\n",
    "#compare the predicted to the actuals to evaluate the model\n",
    "rmse = mean_squared_error(y_train,predictions,squared=False)\n",
    "print(\"Predition Error (RMSE): {:,.4f}\".format(rmse))"
   ]
  },
  {
   "cell_type": "code",
   "execution_count": 45,
   "id": "5d42a17b-6658-4c00-8397-8e140492e75e",
   "metadata": {},
   "outputs": [
    {
     "name": "stdout",
     "output_type": "stream",
     "text": [
      "Test Prediction Error (RMSE): 173.3889\n"
     ]
    }
   ],
   "source": [
    "#calculate the predicted values for Test\n",
    "y_pred =model.predict(X_test)\n",
    "\n",
    "rmse = mean_squared_error(y_test, y_pred, squared=False)\n",
    "print(\"Test Prediction Error (RMSE): {:,.4f}\".format(rmse))"
   ]
  },
  {
   "cell_type": "code",
   "execution_count": 44,
   "id": "52e7f6e1-d0d4-4dfc-af9c-a2adba4d20c9",
   "metadata": {
    "tags": []
   },
   "outputs": [
    {
     "data": {
      "image/png": "[encoded data removed]",
      "text/plain": [
       "<Figure size 720x360 with 1 Axes>"
      ]
     },
     "metadata": {
      "needs_background": "light"
     },
     "output_type": "display_data"
    }
   ],
   "source": [
    "plot_learning_curve(model, X_train, y_train)"
   ]
  },
  {
   "cell_type": "code",
   "execution_count": 46,
   "id": "da4ef178-62f5-4e43-bcda-4042e2721e8c",
   "metadata": {},
   "outputs": [
    {
     "name": "stdout",
     "output_type": "stream",
     "text": [
      "Test Prediction Error (RMSE): 496.9353\n"
     ]
    }
   ],
   "source": [
    "#calculate the predicted values for Test\n",
    "y_pred = model.predict(X_predict)\n",
    "\n",
    "rmse = mean_squared_error(y_predict, y_pred, squared=False)\n",
    "print(\"Test Prediction Error (RMSE): {:,.4f}\".format(rmse))"
   ]
  },
  {
   "cell_type": "code",
   "execution_count": 47,
   "id": "060b1fb6-f6ec-4e6c-ae48-e986339451f5",
   "metadata": {},
   "outputs": [
    {
     "data": {
      "image/png": "[encoded data removed]",
      "text/plain": [
       "<Figure size 432x288 with 1 Axes>"
      ]
     },
     "metadata": {
      "needs_background": "light"
     },
     "output_type": "display_data"
    }
   ],
   "source": [
    "plot_actual_pred(y_predict, y_pred)"
   ]
  },
  {
   "cell_type": "code",
   "execution_count": 48,
   "id": "7c1084dc-d37e-45c3-aa32-c203d7e57b3d",
   "metadata": {},
   "outputs": [
    {
     "data": {
      "text/plain": [
       "([2936.29826], array([3433.23352936]))"
      ]
     },
     "execution_count": 48,
     "metadata": {},
     "output_type": "execute_result"
    }
   ],
   "source": [
    "y_predict, y_pred"
   ]
  },
  {
   "cell_type": "markdown",
   "id": "fca55e5d-bc81-422b-bfd8-e69e8afa371c",
   "metadata": {},
   "source": [
    "### Decision Tree"
   ]
  },
  {
   "cell_type": "code",
   "execution_count": 49,
   "id": "a95a9ecf-2482-4991-9660-02e3134c66c3",
   "metadata": {},
   "outputs": [
    {
     "name": "stdout",
     "output_type": "stream",
     "text": [
      "Predition Error (RMSE): 0.00000\n"
     ]
    }
   ],
   "source": [
    "#create a Ridge Regression model =\n",
    "tree_reg=DecisionTreeRegressor()\n",
    "\n",
    "#fit the model to the training data set\n",
    "tree_reg.fit(X_train, y_train)\n",
    "\n",
    "#calculated the predicted values for the training data set\n",
    "predictions = tree_reg.predict(X_train)\n",
    "\n",
    "#compare the predicted to the actuals\n",
    "rmse = mean_squared_error(y_train,predictions, squared=False)\n",
    "print(\"Predition Error (RMSE): {:.5f}\".format(rmse))"
   ]
  },
  {
   "cell_type": "code",
   "execution_count": 50,
   "id": "6867f4c7-9a1a-4e2f-b1fd-d9db58254da2",
   "metadata": {},
   "outputs": [
    {
     "name": "stdout",
     "output_type": "stream",
     "text": [
      "RMSE: 70.93881\n"
     ]
    }
   ],
   "source": [
    "#run cross validation\n",
    "scores = cross_val_score(tree_reg, X_train, y_train, scoring=\"neg_root_mean_squared_error\", cv=10)\n",
    "\n",
    "#report the results\n",
    "print(\"RMSE: {:.5f}\".format( -scores.mean() ) )"
   ]
  },
  {
   "cell_type": "code",
   "execution_count": 51,
   "id": "89a272e4-29ba-48b2-baae-dbdb31eba66e",
   "metadata": {},
   "outputs": [
    {
     "name": "stdout",
     "output_type": "stream",
     "text": [
      "Predition Error (RMSE): 98.86858\n"
     ]
    }
   ],
   "source": [
    "#use the linear regression model and evaluate the test data set\n",
    "predictions = tree_reg.predict(X_test)\n",
    "\n",
    "#compare the predicted to the actuals\n",
    "rmse = mean_squared_error(y_test,predictions, squared=False)\n",
    "print(\"Predition Error (RMSE): {:.5f}\".format(rmse))"
   ]
  },
  {
   "cell_type": "code",
   "execution_count": 52,
   "id": "ca8274b0-8c3c-43c9-b549-b1cda4b2b5ed",
   "metadata": {},
   "outputs": [
    {
     "data": {
      "image/png": "[encoded data removed]",
      "text/plain": [
       "<Figure size 720x360 with 1 Axes>"
      ]
     },
     "metadata": {
      "needs_background": "light"
     },
     "output_type": "display_data"
    }
   ],
   "source": [
    "plot_learning_curve(tree_reg, X_train, y_train)"
   ]
  },
  {
   "cell_type": "code",
   "execution_count": 54,
   "id": "35843d8b-ba30-43b7-a0af-0efff3f35e1b",
   "metadata": {},
   "outputs": [
    {
     "name": "stdout",
     "output_type": "stream",
     "text": [
      "Test Prediction Error (RMSE): 384.0854\n"
     ]
    }
   ],
   "source": [
    "#calculate the predicted values for Test\n",
    "y_pred = lin_reg.predict(X_predict)\n",
    "\n",
    "rmse = mean_squared_error(y_predict, y_pred, squared=False)\n",
    "print(\"Test Prediction Error (RMSE): {:,.4f}\".format(rmse))"
   ]
  },
  {
   "cell_type": "code",
   "execution_count": 55,
   "id": "d38cb144-579f-45bb-98d3-4878f37e1b01",
   "metadata": {},
   "outputs": [
    {
     "data": {
      "image/png": "[encoded data removed]",
      "text/plain": [
       "<Figure size 432x288 with 1 Axes>"
      ]
     },
     "metadata": {
      "needs_background": "light"
     },
     "output_type": "display_data"
    }
   ],
   "source": [
    "plot_actual_pred(y_predict, y_pred)"
   ]
  },
  {
   "cell_type": "markdown",
   "id": "8dd50b6a-bdeb-47ef-b5be-86c8758c4b96",
   "metadata": {},
   "source": [
    "## <font color=blue>Linear Regression - 5 Day Prediction"
   ]
  },
  {
   "cell_type": "markdown",
   "id": "928e03d5-4efc-4ac8-90d8-ff85543dd0a6",
   "metadata": {
    "tags": []
   },
   "source": [
    "### Save FUTURE data points to predict"
   ]
  },
  {
   "cell_type": "code",
   "execution_count": 56,
   "id": "035ad93e-27db-4353-a736-6240f7b45885",
   "metadata": {
    "tags": []
   },
   "outputs": [],
   "source": [
    "FUTURE = 5 #a constant number should be represented with all CAPS\n",
    "\n",
    "#For demonstrations purposes, keep the predictions aside so you can evaluate the results\n",
    "toPredict = crypto[-FUTURE:].copy()\n",
    "y_predict = list(toPredict.Price_ETH)\n",
    "\n",
    "crypto = crypto[:-FUTURE].copy()"
   ]
  },
  {
   "cell_type": "markdown",
   "id": "6d833ed4-cb95-4cb2-a1eb-8ecca329e542",
   "metadata": {},
   "source": [
    "#### Use the columns to create both the test and the training data sets"
   ]
  },
  {
   "cell_type": "code",
   "execution_count": 57,
   "id": "1e24da2f-30b2-4515-bd30-93d78189f813",
   "metadata": {},
   "outputs": [
    {
     "data": {
      "text/plain": [
       "((1901, 25), (1901,), (476, 25), (476,))"
      ]
     },
     "execution_count": 57,
     "metadata": {},
     "output_type": "execute_result"
    }
   ],
   "source": [
    "#split into train and test sets\n",
    "X_train, X_test, y_train, y_test = train_test_split(\n",
    "    crypto.drop(columns=['Price_ETH']), \n",
    "    crypto.Price_ETH,\n",
    "    test_size=0.2,\n",
    "    random_state=42,\n",
    ")\n",
    "X_train.shape,  y_train.shape, X_test.shape,  y_test.shape"
   ]
  },
  {
   "cell_type": "code",
   "execution_count": 58,
   "id": "c51d1aec-c612-4604-819d-b2ca335ee76a",
   "metadata": {},
   "outputs": [],
   "source": [
    "#no categorical attributes for this data set (nice to have in case data changes)\n",
    "cat_attribs = []\n",
    "\n",
    "#set the numerical attributes\n",
    "num_attribs = list( crypto.drop(columns=['Price_ETH']) )\n",
    "\n",
    "#define pipeline for numeric attributes (this code is just a definition)\n",
    "#each numeric attribute will be imputated using the Median strategy\n",
    "#each numeric attribute will be scaled \n",
    "num_pipeline = Pipeline( [\n",
    "    ('imputer', SimpleImputer(strategy=\"median\")), #because no missing values, not used\n",
    "    ('std_scaler', StandardScaler()),   \n",
    "] )\n",
    "\n",
    "#define the pipeline process for the data set\n",
    "full_pipeline = ColumnTransformer( [\n",
    "    ('num', num_pipeline, num_attribs),\n",
    "    ('cat', OneHotEncoder(sparse=False), cat_attribs)      #because no categorical attributes, not used \n",
    "])"
   ]
  },
  {
   "cell_type": "code",
   "execution_count": 59,
   "id": "2c30ee36-f2ad-444c-ad7f-d6309d67c8c9",
   "metadata": {},
   "outputs": [
    {
     "data": {
      "text/plain": [
       "(1901, 25)"
      ]
     },
     "execution_count": 59,
     "metadata": {},
     "output_type": "execute_result"
    }
   ],
   "source": [
    "#create an array of prepared data based on the training data set\n",
    "X_train = full_pipeline.fit_transform( X_train)\n",
    "X_train.shape"
   ]
  },
  {
   "cell_type": "code",
   "execution_count": 60,
   "id": "08f15c1c-71a2-4b62-9ab0-4c9500f46435",
   "metadata": {},
   "outputs": [
    {
     "data": {
      "text/plain": [
       "(476, 25)"
      ]
     },
     "execution_count": 60,
     "metadata": {},
     "output_type": "execute_result"
    }
   ],
   "source": [
    "#create an array of prepared data based on the test data set\n",
    "X_test = full_pipeline.transform( X_test)\n",
    "X_test.shape"
   ]
  },
  {
   "cell_type": "code",
   "execution_count": 61,
   "id": "23f71861-3a9a-474b-a851-853065fc313c",
   "metadata": {},
   "outputs": [
    {
     "data": {
      "text/plain": [
       "(5, 25)"
      ]
     },
     "execution_count": 61,
     "metadata": {},
     "output_type": "execute_result"
    }
   ],
   "source": [
    "X_predict = full_pipeline.transform( toPredict.drop(columns=[\"Price_ETH\"]) )\n",
    "X_predict.shape"
   ]
  },
  {
   "cell_type": "markdown",
   "id": "0db0c8c8-41ab-4a54-a0ac-4ff78e41ab76",
   "metadata": {},
   "source": [
    "## Computing Some Baselines"
   ]
  },
  {
   "cell_type": "markdown",
   "id": "d35cdb34-7718-4b12-83ee-241ad7c93818",
   "metadata": {},
   "source": [
    "<font color=blue>Naive Forecasting</font>: just use the last observed value in the series to predict the next value in the series"
   ]
  },
  {
   "cell_type": "code",
   "execution_count": 62,
   "id": "7c8a97b3-4aed-4b52-b35f-fdd736bffdb1",
   "metadata": {},
   "outputs": [
    {
     "name": "stdout",
     "output_type": "stream",
     "text": [
      "Baseline temp: 671.21\n",
      "Baseline Performance (of this guess): 1,082.55\n"
     ]
    }
   ],
   "source": [
    "#calculate the average home value\n",
    "baseline_prediction = y_train.mean()\n",
    "\n",
    "#populate an array with the average home value\n",
    "predictions = np.full(shape=len(X_train), fill_value = baseline_prediction)\n",
    "\n",
    "#determine the Root Mean Squared Error based on the actual vs. the baseline prediction\n",
    "baseline_rmse = mean_squared_error(y_train, predictions, squared=False)\n",
    "print(\"Baseline temp: {:,.2f}\".format(baseline_prediction))\n",
    "print(\"Baseline Performance (of this guess): {:,.2f}\".format(baseline_rmse))"
   ]
  },
  {
   "cell_type": "code",
   "execution_count": 63,
   "id": "09d1d313-063e-427d-8cf4-502364d5b892",
   "metadata": {},
   "outputs": [
    {
     "name": "stdout",
     "output_type": "stream",
     "text": [
      "Predition Error (RMSE): 116.1120\n"
     ]
    }
   ],
   "source": [
    "#create a linear regression model\n",
    "lin_reg=LinearRegression()\n",
    "\n",
    "#fit the model to the training data set\n",
    "lin_reg.fit(X_train, y_train)\n",
    "\n",
    "#calculated the predicted values for the training data set\n",
    "predictions = lin_reg.predict(X_train)\n",
    "\n",
    "#compare the predicted to the actuals\n",
    "rmse = mean_squared_error(y_train,predictions, squared=False)\n",
    "print(\"Predition Error (RMSE): {:,.4f}\".format(rmse))"
   ]
  },
  {
   "cell_type": "markdown",
   "id": "e2fb5f49-1fd4-4e6d-b8e5-5fdfbee3a3c4",
   "metadata": {},
   "source": [
    "### Use Cross Validation to Evaluate Model"
   ]
  },
  {
   "cell_type": "code",
   "execution_count": 64,
   "id": "c7759e29-707f-413e-892b-d94bfcdf38a3",
   "metadata": {
    "tags": []
   },
   "outputs": [
    {
     "name": "stdout",
     "output_type": "stream",
     "text": [
      "RMSE: 125.6745\n"
     ]
    }
   ],
   "source": [
    "#run cross validation\n",
    "scores = cross_val_score(lin_reg,  X_train, y_train, scoring=\"neg_root_mean_squared_error\", cv=10)\n",
    "\n",
    "#report the results\n",
    "print(\"RMSE: {:,.4f}\".format( -scores.mean() ) )"
   ]
  },
  {
   "cell_type": "markdown",
   "id": "01d53e1d-1a59-424b-ac09-a5916bb68438",
   "metadata": {
    "tags": []
   },
   "source": [
    "### Evaluate Model on Test Set"
   ]
  },
  {
   "cell_type": "code",
   "execution_count": 65,
   "id": "7c19ba67-b633-4d61-8669-3d96262055fd",
   "metadata": {
    "tags": []
   },
   "outputs": [
    {
     "name": "stdout",
     "output_type": "stream",
     "text": [
      "Predition Error (RMSE): 111.7023\n"
     ]
    }
   ],
   "source": [
    "#use the linear regression model and evaluate the test data set\n",
    "predictions = lin_reg.predict(X_test)\n",
    "\n",
    "#compare the predicted to the actuals\n",
    "rmse = mean_squared_error(y_test,predictions, squared=False)\n",
    "print(\"Predition Error (RMSE): {:,.4f}\".format(rmse))"
   ]
  },
  {
   "cell_type": "markdown",
   "id": "45b4bcd0-5bb9-48a6-8c12-96c4ee0c2345",
   "metadata": {},
   "source": [
    "### Review this model's Learning Curve"
   ]
  },
  {
   "cell_type": "code",
   "execution_count": 66,
   "id": "fa8a7f2d-47df-4da5-b582-33668806322d",
   "metadata": {
    "tags": []
   },
   "outputs": [
    {
     "data": {
      "image/png": "[encoded data removed]",
      "text/plain": [
       "<Figure size 720x360 with 1 Axes>"
      ]
     },
     "metadata": {
      "needs_background": "light"
     },
     "output_type": "display_data"
    }
   ],
   "source": [
    "plot_learning_curve(lin_reg, X_train, y_train)"
   ]
  },
  {
   "cell_type": "code",
   "execution_count": 68,
   "id": "6f5f1142-b5ce-4891-a836-99f6c840007f",
   "metadata": {},
   "outputs": [
    {
     "name": "stdout",
     "output_type": "stream",
     "text": [
      "Test Prediction Error (RMSE): 443.9098\n"
     ]
    }
   ],
   "source": [
    "#calculate the predicted values for Test\n",
    "y_pred = lin_reg.predict(X_predict)\n",
    "\n",
    "rmse = mean_squared_error(y_predict, y_pred, squared=False)\n",
    "print(\"Test Prediction Error (RMSE): {:,.4f}\".format(rmse))"
   ]
  },
  {
   "cell_type": "code",
   "execution_count": 69,
   "id": "36814897-918f-44c1-8332-37de0496bc39",
   "metadata": {},
   "outputs": [
    {
     "data": {
      "image/png": "[encoded data removed]",
      "text/plain": [
       "<Figure size 432x288 with 1 Axes>"
      ]
     },
     "metadata": {
      "needs_background": "light"
     },
     "output_type": "display_data"
    }
   ],
   "source": [
    "plot_actual_pred(y_predict, y_pred)"
   ]
  },
  {
   "cell_type": "markdown",
   "id": "2f9e201b-7cea-4451-acfa-627cd6a4e300",
   "metadata": {},
   "source": [
    "### Ridge Model"
   ]
  },
  {
   "cell_type": "code",
   "execution_count": 70,
   "id": "5a45a78c-bb85-4d82-ac79-da90e62b90bd",
   "metadata": {},
   "outputs": [
    {
     "name": "stdout",
     "output_type": "stream",
     "text": [
      "Predition Error (RMSE): 171.06545\n"
     ]
    }
   ],
   "source": [
    "#create a Ridge Regression model =\n",
    "ridge_reg=Ridge(alpha=1, solver='auto')\n",
    "\n",
    "#fit the model to the training data set\n",
    "ridge_reg.fit(X_train, y_train)\n",
    "\n",
    "#calculated the predicted values for the training data set\n",
    "predictions = ridge_reg.predict(X_train)\n",
    "\n",
    "#compare the predicted to the actuals\n",
    "rmse = mean_squared_error(y_train,predictions, squared=False)\n",
    "print(\"Predition Error (RMSE): {:.5f}\".format(rmse))"
   ]
  },
  {
   "cell_type": "code",
   "execution_count": 71,
   "id": "9bb8809e-5704-4fe5-ada8-2cc69045fb57",
   "metadata": {},
   "outputs": [
    {
     "name": "stdout",
     "output_type": "stream",
     "text": [
      "RMSE: 176.66066\n"
     ]
    }
   ],
   "source": [
    "#run cross validation\n",
    "scores = cross_val_score(ridge_reg, X_train, y_train, scoring=\"neg_root_mean_squared_error\", cv=10)\n",
    "\n",
    "#report the results\n",
    "print(\"RMSE: {:.5f}\".format( -scores.mean() ) )"
   ]
  },
  {
   "cell_type": "code",
   "execution_count": 72,
   "id": "cb724bd6-3ae1-4e0c-b4fa-286793da08c0",
   "metadata": {},
   "outputs": [
    {
     "name": "stdout",
     "output_type": "stream",
     "text": [
      "Predition Error (RMSE): 158.23651\n"
     ]
    }
   ],
   "source": [
    "#use the linear regression model and evaluate the test data set\n",
    "predictions = ridge_reg.predict(X_test)\n",
    "\n",
    "#compare the predicted to the actuals\n",
    "rmse = mean_squared_error(y_test,predictions, squared=False)\n",
    "print(\"Predition Error (RMSE): {:.5f}\".format(rmse))"
   ]
  },
  {
   "cell_type": "code",
   "execution_count": 73,
   "id": "5be3746f-d506-4256-bfc0-60624e9d782c",
   "metadata": {},
   "outputs": [
    {
     "data": {
      "image/png": "[encoded data removed]",
      "text/plain": [
       "<Figure size 720x360 with 1 Axes>"
      ]
     },
     "metadata": {
      "needs_background": "light"
     },
     "output_type": "display_data"
    }
   ],
   "source": [
    "plot_learning_curve(ridge_reg, X_train, y_train)"
   ]
  },
  {
   "cell_type": "code",
   "execution_count": 75,
   "id": "41f0e04d-6dba-40eb-9e82-e31eb2798031",
   "metadata": {},
   "outputs": [
    {
     "name": "stdout",
     "output_type": "stream",
     "text": [
      "Test Prediction Error (RMSE): 511.2202\n"
     ]
    }
   ],
   "source": [
    "#calculate the predicted values for Test\n",
    "y_pred = ridge_reg.predict(X_predict)\n",
    "\n",
    "rmse = mean_squared_error(y_predict, y_pred, squared=False)\n",
    "print(\"Test Prediction Error (RMSE): {:,.4f}\".format(rmse))"
   ]
  },
  {
   "cell_type": "code",
   "execution_count": 76,
   "id": "f56da63d-cebd-46d9-a49b-1dd9dee9762b",
   "metadata": {},
   "outputs": [
    {
     "data": {
      "image/png": "[encoded data removed]",
      "text/plain": [
       "<Figure size 432x288 with 1 Axes>"
      ]
     },
     "metadata": {
      "needs_background": "light"
     },
     "output_type": "display_data"
    }
   ],
   "source": [
    "plot_actual_pred(y_predict, y_pred)"
   ]
  },
  {
   "cell_type": "markdown",
   "id": "67f99d67-e3c3-4600-ba36-32c8c10fcdca",
   "metadata": {},
   "source": [
    "### Decision Tree"
   ]
  },
  {
   "cell_type": "code",
   "execution_count": 77,
   "id": "13023f4e-4c89-4972-a191-04bb674a6b2d",
   "metadata": {},
   "outputs": [
    {
     "name": "stdout",
     "output_type": "stream",
     "text": [
      "Predition Error (RMSE): 0.00000\n"
     ]
    }
   ],
   "source": [
    "#create a Ridge Regression model =\n",
    "tree_reg=DecisionTreeRegressor()\n",
    "\n",
    "#fit the model to the training data set\n",
    "tree_reg.fit(X_train, y_train)\n",
    "\n",
    "#calculated the predicted values for the training data set\n",
    "predictions = tree_reg.predict(X_train)\n",
    "\n",
    "#compare the predicted to the actuals\n",
    "rmse = mean_squared_error(y_train,predictions, squared=False)\n",
    "print(\"Predition Error (RMSE): {:.5f}\".format(rmse))"
   ]
  },
  {
   "cell_type": "code",
   "execution_count": 78,
   "id": "5e082220-17cd-44b4-a97f-f910d9587cd0",
   "metadata": {},
   "outputs": [
    {
     "name": "stdout",
     "output_type": "stream",
     "text": [
      "RMSE: 77.01338\n"
     ]
    }
   ],
   "source": [
    "#run cross validation\n",
    "scores = cross_val_score(tree_reg, X_train, y_train, scoring=\"neg_root_mean_squared_error\", cv=10)\n",
    "\n",
    "#report the results\n",
    "print(\"RMSE: {:.5f}\".format( -scores.mean() ) )"
   ]
  },
  {
   "cell_type": "code",
   "execution_count": 79,
   "id": "bd8f0f9d-5f37-429d-89bf-604dd25a5163",
   "metadata": {},
   "outputs": [
    {
     "name": "stdout",
     "output_type": "stream",
     "text": [
      "Predition Error (RMSE): 81.47360\n"
     ]
    }
   ],
   "source": [
    "#use the linear regression model and evaluate the test data set\n",
    "predictions = tree_reg.predict(X_test)\n",
    "\n",
    "#compare the predicted to the actuals\n",
    "rmse = mean_squared_error(y_test,predictions, squared=False)\n",
    "print(\"Predition Error (RMSE): {:.5f}\".format(rmse))"
   ]
  },
  {
   "cell_type": "code",
   "execution_count": 80,
   "id": "df7e53b7-8608-4bc4-acca-5a40f8424897",
   "metadata": {},
   "outputs": [
    {
     "data": {
      "image/png": "[encoded data removed]",
      "text/plain": [
       "<Figure size 720x360 with 1 Axes>"
      ]
     },
     "metadata": {
      "needs_background": "light"
     },
     "output_type": "display_data"
    }
   ],
   "source": [
    "plot_learning_curve(tree_reg, X_train, y_train)"
   ]
  },
  {
   "cell_type": "code",
   "execution_count": 94,
   "id": "1560db08-97b8-4208-8e09-d32dd3053bb1",
   "metadata": {},
   "outputs": [
    {
     "name": "stdout",
     "output_type": "stream",
     "text": [
      "Test Prediction Error (RMSE): 443.9098\n"
     ]
    }
   ],
   "source": [
    "#calculate the predicted values for Test\n",
    "y_pred = lin_reg.predict(X_predict)\n",
    "\n",
    "rmse = mean_squared_error(y_predict, y_pred, squared=False)\n",
    "print(\"Test Prediction Error (RMSE): {:,.4f}\".format(rmse))"
   ]
  },
  {
   "cell_type": "code",
   "execution_count": 83,
   "id": "5d0ffa3f-de56-40ff-b83c-9ea6106cd49d",
   "metadata": {},
   "outputs": [
    {
     "data": {
      "image/png": "[encoded data removed]",
      "text/plain": [
       "<Figure size 432x288 with 1 Axes>"
      ]
     },
     "metadata": {
      "needs_background": "light"
     },
     "output_type": "display_data"
    }
   ],
   "source": [
    "plot_actual_pred(y_predict, y_pred)"
   ]
  },
  {
   "cell_type": "markdown",
   "id": "9488b8b1-ee4c-4501-83ea-53989ad4a208",
   "metadata": {
    "tags": []
   },
   "source": [
    "### Use Grid Search CV to find the best Hyperparameters"
   ]
  },
  {
   "cell_type": "code",
   "execution_count": 84,
   "id": "707ee78b-e22e-428a-ad2d-fcbb3b8c58b6",
   "metadata": {},
   "outputs": [
    {
     "data": {
      "text/html": [
       "<style>#sk-a724df18-122a-42d5-94a4-883a48514b7c {color: black;background-color: white;}#sk-a724df18-122a-42d5-94a4-883a48514b7c pre{padding: 0;}#sk-a724df18-122a-42d5-94a4-883a48514b7c div.sk-toggleable {background-color: white;}#sk-a724df18-122a-42d5-94a4-883a48514b7c label.sk-toggleable__label {cursor: pointer;display: block;width: 100%;margin-bottom: 0;padding: 0.2em 0.3em;box-sizing: border-box;text-align: center;}#sk-a724df18-122a-42d5-94a4-883a48514b7c div.sk-toggleable__content {max-height: 0;max-width: 0;overflow: hidden;text-align: left;background-color: #f0f8ff;}#sk-a724df18-122a-42d5-94a4-883a48514b7c div.sk-toggleable__content pre {margin: 0.2em;color: black;border-radius: 0.25em;background-color: #f0f8ff;}#sk-a724df18-122a-42d5-94a4-883a48514b7c input.sk-toggleable__control:checked~div.sk-toggleable__content {max-height: 200px;max-width: 100%;overflow: auto;}#sk-a724df18-122a-42d5-94a4-883a48514b7c div.sk-estimator input.sk-toggleable__control:checked~label.sk-toggleable__label {background-color: #d4ebff;}#sk-a724df18-122a-42d5-94a4-883a48514b7c div.sk-label input.sk-toggleable__control:checked~label.sk-toggleable__label {background-color: #d4ebff;}#sk-a724df18-122a-42d5-94a4-883a48514b7c input.sk-hidden--visually {border: 0;clip: rect(1px 1px 1px 1px);clip: rect(1px, 1px, 1px, 1px);height: 1px;margin: -1px;overflow: hidden;padding: 0;position: absolute;width: 1px;}#sk-a724df18-122a-42d5-94a4-883a48514b7c div.sk-estimator {font-family: monospace;background-color: #f0f8ff;margin: 0.25em 0.25em;border: 1px dotted black;border-radius: 0.25em;box-sizing: border-box;}#sk-a724df18-122a-42d5-94a4-883a48514b7c div.sk-estimator:hover {background-color: #d4ebff;}#sk-a724df18-122a-42d5-94a4-883a48514b7c div.sk-parallel-item::after {content: \"\";width: 100%;border-bottom: 1px solid gray;flex-grow: 1;}#sk-a724df18-122a-42d5-94a4-883a48514b7c div.sk-label:hover label.sk-toggleable__label {background-color: #d4ebff;}#sk-a724df18-122a-42d5-94a4-883a48514b7c div.sk-serial::before {content: \"\";position: absolute;border-left: 1px solid gray;box-sizing: border-box;top: 2em;bottom: 0;left: 50%;}#sk-a724df18-122a-42d5-94a4-883a48514b7c div.sk-serial {display: flex;flex-direction: column;align-items: center;background-color: white;}#sk-a724df18-122a-42d5-94a4-883a48514b7c div.sk-item {z-index: 1;}#sk-a724df18-122a-42d5-94a4-883a48514b7c div.sk-parallel {display: flex;align-items: stretch;justify-content: center;background-color: white;}#sk-a724df18-122a-42d5-94a4-883a48514b7c div.sk-parallel-item {display: flex;flex-direction: column;position: relative;background-color: white;}#sk-a724df18-122a-42d5-94a4-883a48514b7c div.sk-parallel-item:first-child::after {align-self: flex-end;width: 50%;}#sk-a724df18-122a-42d5-94a4-883a48514b7c div.sk-parallel-item:last-child::after {align-self: flex-start;width: 50%;}#sk-a724df18-122a-42d5-94a4-883a48514b7c div.sk-parallel-item:only-child::after {width: 0;}#sk-a724df18-122a-42d5-94a4-883a48514b7c div.sk-dashed-wrapped {border: 1px dashed gray;margin: 0.2em;box-sizing: border-box;padding-bottom: 0.1em;background-color: white;position: relative;}#sk-a724df18-122a-42d5-94a4-883a48514b7c div.sk-label label {font-family: monospace;font-weight: bold;background-color: white;display: inline-block;line-height: 1.2em;}#sk-a724df18-122a-42d5-94a4-883a48514b7c div.sk-label-container {position: relative;z-index: 2;text-align: center;}#sk-a724df18-122a-42d5-94a4-883a48514b7c div.sk-container {display: inline-block;position: relative;}</style><div id=\"sk-a724df18-122a-42d5-94a4-883a48514b7c\" class\"sk-top-container\"><div class=\"sk-container\"><div class=\"sk-item sk-dashed-wrapped\"><div class=\"sk-label-container\"><div class=\"sk-label sk-toggleable\"><input class=\"sk-toggleable__control sk-hidden--visually\" id=\"84e30a9a-c558-4720-ac42-7bde709a563e\" type=\"checkbox\" ><label class=\"sk-toggleable__label\" for=\"84e30a9a-c558-4720-ac42-7bde709a563e\">GridSearchCV</label><div class=\"sk-toggleable__content\"><pre>GridSearchCV(cv=10, estimator=SGDRegressor(),\n",
       "             param_grid=[{'eta0': [0.01, 0.001, 0.0001],\n",
       "                          'max_iter': [1000, 2000, 5000],\n",
       "                          'tol': [0.0001, 0.001, 0.01]}],\n",
       "             return_train_score=True, scoring='neg_root_mean_squared_error')</pre></div></div></div><div class=\"sk-parallel\"><div class=\"sk-parallel-item\"><div class=\"sk-item\"><div class=\"sk-serial\"><div class=\"sk-item\"><div class=\"sk-estimator sk-toggleable\"><input class=\"sk-toggleable__control sk-hidden--visually\" id=\"eebb939c-1a9e-446a-b571-07176bf256f1\" type=\"checkbox\" ><label class=\"sk-toggleable__label\" for=\"eebb939c-1a9e-446a-b571-07176bf256f1\">SGDRegressor</label><div class=\"sk-toggleable__content\"><pre>SGDRegressor()</pre></div></div></div></div></div></div></div></div></div></div>"
      ],
      "text/plain": [
       "GridSearchCV(cv=10, estimator=SGDRegressor(),\n",
       "             param_grid=[{'eta0': [0.01, 0.001, 0.0001],\n",
       "                          'max_iter': [1000, 2000, 5000],\n",
       "                          'tol': [0.0001, 0.001, 0.01]}],\n",
       "             return_train_score=True, scoring='neg_root_mean_squared_error')"
      ]
     },
     "execution_count": 84,
     "metadata": {},
     "output_type": "execute_result"
    }
   ],
   "source": [
    "#create a parameter grid that determines the variable hyperparameters\n",
    "param_grid = [\n",
    "    {'max_iter': [1000, 2000, 5000], 'eta0': [ .01, .001, .0001],\n",
    "     'tol': [.0001, .001, .01] },\n",
    "  ]\n",
    "\n",
    "# train across 10 folds, that's a total of (2*3*3*2)*10=360 rounds of training \n",
    "grid_search = GridSearchCV(SGDRegressor(), param_grid, cv=10,\n",
    "                           scoring='neg_root_mean_squared_error',\n",
    "                           return_train_score=True)\n",
    "\n",
    "#fit the data to the model\n",
    "grid_search.fit(X_train, y_train)"
   ]
  },
  {
   "cell_type": "code",
   "execution_count": 85,
   "id": "ed02b767-a9ec-4674-9ca5-b0709d37b532",
   "metadata": {},
   "outputs": [
    {
     "name": "stdout",
     "output_type": "stream",
     "text": [
      "RMSE: 180.0246 - {'eta0': 0.01, 'max_iter': 1000, 'tol': 0.0001}\n",
      "RMSE: 180.7572 - {'eta0': 0.01, 'max_iter': 1000, 'tol': 0.001}\n",
      "RMSE: 182.0060 - {'eta0': 0.01, 'max_iter': 1000, 'tol': 0.01}\n",
      "RMSE: 181.4871 - {'eta0': 0.01, 'max_iter': 2000, 'tol': 0.0001}\n",
      "RMSE: 179.1222 - {'eta0': 0.01, 'max_iter': 2000, 'tol': 0.001}\n",
      "RMSE: 182.5924 - {'eta0': 0.01, 'max_iter': 2000, 'tol': 0.01}\n",
      "RMSE: 183.3628 - {'eta0': 0.01, 'max_iter': 5000, 'tol': 0.0001}\n",
      "RMSE: 182.0052 - {'eta0': 0.01, 'max_iter': 5000, 'tol': 0.001}\n",
      "RMSE: 182.8838 - {'eta0': 0.01, 'max_iter': 5000, 'tol': 0.01}\n",
      "RMSE: 182.4891 - {'eta0': 0.001, 'max_iter': 1000, 'tol': 0.0001}\n",
      "RMSE: 182.1945 - {'eta0': 0.001, 'max_iter': 1000, 'tol': 0.001}\n",
      "RMSE: 182.1998 - {'eta0': 0.001, 'max_iter': 1000, 'tol': 0.01}\n",
      "RMSE: 181.5108 - {'eta0': 0.001, 'max_iter': 2000, 'tol': 0.0001}\n",
      "RMSE: 181.4487 - {'eta0': 0.001, 'max_iter': 2000, 'tol': 0.001}\n",
      "RMSE: 181.6434 - {'eta0': 0.001, 'max_iter': 2000, 'tol': 0.01}\n",
      "RMSE: 181.7119 - {'eta0': 0.001, 'max_iter': 5000, 'tol': 0.0001}\n",
      "RMSE: 182.1613 - {'eta0': 0.001, 'max_iter': 5000, 'tol': 0.001}\n",
      "RMSE: 181.8932 - {'eta0': 0.001, 'max_iter': 5000, 'tol': 0.01}\n",
      "RMSE: 206.6320 - {'eta0': 0.0001, 'max_iter': 1000, 'tol': 0.0001}\n",
      "RMSE: 206.6023 - {'eta0': 0.0001, 'max_iter': 1000, 'tol': 0.001}\n",
      "RMSE: 206.6255 - {'eta0': 0.0001, 'max_iter': 1000, 'tol': 0.01}\n",
      "RMSE: 195.4713 - {'eta0': 0.0001, 'max_iter': 2000, 'tol': 0.0001}\n",
      "RMSE: 195.4622 - {'eta0': 0.0001, 'max_iter': 2000, 'tol': 0.001}\n",
      "RMSE: 195.4675 - {'eta0': 0.0001, 'max_iter': 2000, 'tol': 0.01}\n",
      "RMSE: 184.6931 - {'eta0': 0.0001, 'max_iter': 5000, 'tol': 0.0001}\n",
      "RMSE: 184.6922 - {'eta0': 0.0001, 'max_iter': 5000, 'tol': 0.001}\n",
      "RMSE: 184.6960 - {'eta0': 0.0001, 'max_iter': 5000, 'tol': 0.01}\n"
     ]
    }
   ],
   "source": [
    "cvres = grid_search.cv_results_\n",
    "for mean_score, params in zip(cvres[\"mean_test_score\"], cvres[\"params\"]):\n",
    "    print(\"RMSE: {:,.4f} - {}\".format( -mean_score, params) )"
   ]
  },
  {
   "cell_type": "code",
   "execution_count": 86,
   "id": "58da0f49-7545-47c5-9d4b-2695b07b6234",
   "metadata": {},
   "outputs": [
    {
     "data": {
      "text/plain": [
       "{'eta0': 0.01, 'max_iter': 2000, 'tol': 0.001}"
      ]
     },
     "execution_count": 86,
     "metadata": {},
     "output_type": "execute_result"
    }
   ],
   "source": [
    "grid_search.best_params_"
   ]
  },
  {
   "cell_type": "markdown",
   "id": "6365228c-e00e-478c-81cb-7ce4ab397247",
   "metadata": {},
   "source": [
    "### Evaluate Best Model"
   ]
  },
  {
   "cell_type": "code",
   "execution_count": 87,
   "id": "08ebfc0f-5995-42f4-bad5-6f9940301b20",
   "metadata": {
    "tags": []
   },
   "outputs": [
    {
     "name": "stdout",
     "output_type": "stream",
     "text": [
      "Predition Error (RMSE): 176.5119\n"
     ]
    }
   ],
   "source": [
    "sgd_model = SGDRegressor(**grid_search.best_params_)\n",
    "sgd_model.fit(X_train, y_train)\n",
    "\n",
    "#calcualte the predicted values\n",
    "predictions = sgd_model.predict(X_train)\n",
    "\n",
    "#compare the predicted (housing_predictions) to the actuals(housing_labels)\n",
    "rmse = mean_squared_error( y_train, predictions,squared=False)\n",
    "print(\"Predition Error (RMSE): {:,.4f}\".format(rmse))"
   ]
  },
  {
   "cell_type": "code",
   "execution_count": 88,
   "id": "a987f249-0b7a-445b-bf50-be07d4d0e1d7",
   "metadata": {
    "tags": []
   },
   "outputs": [
    {
     "name": "stdout",
     "output_type": "stream",
     "text": [
      "RMSE: 182.7423\n"
     ]
    }
   ],
   "source": [
    "#run cross validation\n",
    "scores = cross_val_score(sgd_model, X_train, y_train, scoring=\"neg_root_mean_squared_error\", cv=10)\n",
    "\n",
    "#report the results\n",
    "print(\"RMSE: {:,.4f}\".format( -scores.mean() ) )"
   ]
  },
  {
   "cell_type": "markdown",
   "id": "27604369-7717-4676-8a44-e542e7603901",
   "metadata": {
    "tags": []
   },
   "source": [
    "### Evaluate Best Model on Test Set"
   ]
  },
  {
   "cell_type": "code",
   "execution_count": 89,
   "id": "529c5a1d-1628-45ff-b285-62305b64b703",
   "metadata": {
    "tags": []
   },
   "outputs": [
    {
     "name": "stdout",
     "output_type": "stream",
     "text": [
      "Predition Error (RMSE): 164.2857\n"
     ]
    }
   ],
   "source": [
    "#calcualte the predicted values\n",
    "predictions = sgd_model.predict(X_test)\n",
    "\n",
    "#compare the predicted (housing_predictions) to the actuals(housing_labels)\n",
    "rmse = mean_squared_error( y_test, predictions,squared=False)\n",
    "print(\"Predition Error (RMSE): {:,.4f}\".format(rmse))"
   ]
  },
  {
   "cell_type": "markdown",
   "id": "610faf91-681b-4997-8f7a-8c5137a083d2",
   "metadata": {},
   "source": [
    "## Plot Learning Curve"
   ]
  },
  {
   "cell_type": "code",
   "execution_count": 90,
   "id": "547f3bd1-019f-472e-97c9-99ec91c9610e",
   "metadata": {
    "tags": []
   },
   "outputs": [
    {
     "data": {
      "image/png": "[encoded data removed]",
      "text/plain": [
       "<Figure size 720x360 with 1 Axes>"
      ]
     },
     "metadata": {
      "needs_background": "light"
     },
     "output_type": "display_data"
    }
   ],
   "source": [
    "plot_learning_curve(sgd_model,X_train,y_train)"
   ]
  },
  {
   "cell_type": "code",
   "execution_count": 92,
   "id": "dc0d227a-4bd7-4653-a83f-15664e8b486b",
   "metadata": {},
   "outputs": [
    {
     "name": "stdout",
     "output_type": "stream",
     "text": [
      "Test Prediction Error (RMSE): 500.2726\n"
     ]
    }
   ],
   "source": [
    "#calculate the predicted values for Test\n",
    "y_pred = sgd_model.predict(X_predict)\n",
    "\n",
    "rmse = mean_squared_error(y_predict, y_pred, squared=False)\n",
    "print(\"Test Prediction Error (RMSE): {:,.4f}\".format(rmse))"
   ]
  },
  {
   "cell_type": "code",
   "execution_count": 93,
   "id": "0c01facb-dcbe-4abd-8092-1bb34cc76e91",
   "metadata": {},
   "outputs": [
    {
     "data": {
      "image/png": "[encoded data removed]",
      "text/plain": [
       "<Figure size 432x288 with 1 Axes>"
      ]
     },
     "metadata": {
      "needs_background": "light"
     },
     "output_type": "display_data"
    }
   ],
   "source": [
    "plot_actual_pred(y_predict, y_pred)"
   ]
  },
  {
   "cell_type": "markdown",
   "id": "65e91a4c-4cb3-44d7-8f5c-7a56155bca29",
   "metadata": {},
   "source": [
    "## Neural Network Data Prep"
   ]
  },
  {
   "cell_type": "markdown",
   "id": "749a43e1-a1bf-4f6e-b10b-d14fa904301d",
   "metadata": {},
   "source": [
    "#### This code assumes that the data is in chronological order (i.e. ascending)."
   ]
  },
  {
   "cell_type": "code",
   "execution_count": 100,
   "id": "aca9c610-b67c-4257-873e-b9d1ae83a680",
   "metadata": {},
   "outputs": [],
   "source": [
    "crypto.drop(columns=\"Year\", inplace=True)\n",
    "crypto.drop(columns=\"Month\", inplace=True)\n",
    "crypto.drop(columns=\"Day\", inplace= True)"
   ]
  },
  {
   "cell_type": "code",
   "execution_count": 101,
   "id": "bd229a17-7696-42ab-9cb8-71cd31761a0e",
   "metadata": {},
   "outputs": [
    {
     "data": {
      "text/plain": [
       "((2377, 22), (2377, 1))"
      ]
     },
     "execution_count": 101,
     "metadata": {},
     "output_type": "execute_result"
    }
   ],
   "source": [
    "#scale the data using MinMaxScaler\n",
    "#challenge here is that we need to preserve the scaler used on the labeled data for future predictions\n",
    "\n",
    "#scaler used for X features\n",
    "xScaler = MinMaxScaler()\n",
    "xScaled = xScaler.fit_transform(crypto.drop(columns=['Price_ETH']))\n",
    "\n",
    "#scaler for Y feature\n",
    "yScaler = MinMaxScaler()\n",
    "yScaled = yScaler.fit_transform(crypto[['Price_ETH']])\n",
    "\n",
    "\n",
    "#let's se what we now have\n",
    "xScaled.shape, yScaled.shape"
   ]
  },
  {
   "cell_type": "code",
   "execution_count": 102,
   "id": "a6f1c7af-4e59-440e-8b26-e652d480e30a",
   "metadata": {},
   "outputs": [
    {
     "data": {
      "text/plain": [
       "(2377, 23)"
      ]
     },
     "execution_count": 102,
     "metadata": {},
     "output_type": "execute_result"
    }
   ],
   "source": [
    "#NOTE that we want to include Y as part of X to use it to predisct the next Y\n",
    "scaled_data = np.concatenate( [ yScaled, xScaled], axis=1)\n",
    "scaled_data.shape"
   ]
  },
  {
   "cell_type": "code",
   "execution_count": 103,
   "id": "0a43eeff-d964-4816-b84f-b8a04ddd1c88",
   "metadata": {},
   "outputs": [
    {
     "data": {
      "text/plain": [
       "array([[1.62135258e-04, 9.04813292e-04, 1.47542221e-04, 0.00000000e+00,\n",
       "        0.00000000e+00, 7.35103302e-04, 3.12342987e-02, 5.53706524e-04,\n",
       "        1.17849650e-03, 4.17154653e-04, 0.00000000e+00, 3.25432718e-03,\n",
       "        6.09891278e-03, 1.93130855e-03, 1.78617803e-03, 9.43724194e-04,\n",
       "        0.00000000e+00, 6.54649272e-05, 5.72129077e-02, 4.95270382e-05,\n",
       "        2.20105708e-05, 7.32102261e-04, 0.00000000e+00],\n",
       "       [1.62135258e-04, 0.00000000e+00, 1.09556161e-05, 5.01599918e-06,\n",
       "        5.98665543e-04, 8.07756792e-04, 0.00000000e+00, 6.10150640e-04,\n",
       "        3.82356222e-03, 1.93574821e-04, 7.92954274e-04, 3.38430764e-03,\n",
       "        4.95875995e-03, 2.01507152e-03, 2.12547762e-03, 7.64415062e-04,\n",
       "        9.77600120e-04, 7.66058441e-05, 7.24318102e-02, 5.82034400e-05,\n",
       "        1.98392602e-05, 5.97058003e-04, 3.97955123e-04],\n",
       "       [1.62135258e-04, 4.12762765e-04, 1.56360362e-05, 1.58119083e-05,\n",
       "        1.21140789e-03, 7.86767641e-04, 6.77661842e-02, 5.94925258e-04,\n",
       "        7.43009115e-04, 4.96035479e-04, 1.72551317e-03, 3.44216503e-03,\n",
       "        6.64184270e-03, 2.05481085e-03, 1.88076562e-03, 8.04262227e-04,\n",
       "        1.97834924e-03, 7.25297921e-05, 6.37459729e-02, 5.50614948e-05,\n",
       "        3.49182972e-05, 5.37184239e-04, 7.95910246e-04],\n",
       "       [1.18484977e-04, 2.11861566e-03, 1.05573154e-05, 2.87664295e-05,\n",
       "        1.82878655e-03, 8.83202072e-04, 6.78954531e-02, 6.69761609e-04,\n",
       "        1.17129330e-03, 4.35543348e-04, 2.63015115e-03, 3.94129747e-03,\n",
       "        5.72338625e-03, 2.36538805e-03, 1.92952122e-03, 8.04262227e-04,\n",
       "        2.97909836e-03, 7.67240540e-05, 5.66747146e-02, 5.83434368e-05,\n",
       "        2.56018736e-05, 5.81303883e-04, 1.19386537e-03],\n",
       "       [1.80429755e-04, 4.12179766e-04, 7.15614624e-06, 3.54164123e-05,\n",
       "        2.43169566e-03, 8.34518315e-04, 7.03076600e-02, 6.33071886e-04,\n",
       "        2.02006125e-03, 0.00000000e+00, 3.33375846e-03, 3.69828276e-03,\n",
       "        6.09438837e-03, 2.22070499e-03, 1.51800465e-03, 8.34108929e-04,\n",
       "        3.99231233e-03, 7.07916690e-05, 5.71979579e-02, 5.37580812e-05,\n",
       "        1.61246468e-05, 5.48232879e-04, 1.59182049e-03]])"
      ]
     },
     "execution_count": 103,
     "metadata": {},
     "output_type": "execute_result"
    }
   ],
   "source": [
    "#added during class\n",
    "scaled_data[0:5]"
   ]
  },
  {
   "cell_type": "code",
   "execution_count": 104,
   "id": "fe5f5a0f-8c67-4159-af36-f443b7f2c83b",
   "metadata": {},
   "outputs": [],
   "source": [
    "#As required for LSTM networks, we require to reshape an input data into n_samples x timesteps x n_features. \n",
    "#The samples are the number of rows. Timestep is how many previous predictions are to be used to calculate future predictions.\n",
    "#Features is simply the number of columns/features in the training dataset.\n",
    "\n",
    "FEATURES = scaled_data.shape[1]  #the number of features/dimensions in the data set\n",
    "STEPS =  10        #Should be 10               #the timestep used to predict   #use the past 5 days to predict 1 day in the future\n",
    "FUTURE = 1        #Should be 5               #how many days in the future to predict\n",
    "\n",
    "#steps should be greater than or equal to future"
   ]
  },
  {
   "cell_type": "code",
   "execution_count": 105,
   "id": "ee613658-0f67-49bc-9083-deb99b8c6d64",
   "metadata": {},
   "outputs": [
    {
     "data": {
      "text/plain": [
       "((2367, 10, 23), (2367, 1))"
      ]
     },
     "execution_count": 105,
     "metadata": {},
     "output_type": "execute_result"
    }
   ],
   "source": [
    "#Empty lists to be populated using formatted training data\n",
    "trainX = []\n",
    "trainY = []\n",
    "\n",
    "#Reformat input data into a shape: (n_samples x timesteps x features)\n",
    "for i in range(STEPS, len(scaled_data) - FUTURE + 1):\n",
    "    trainX.append(scaled_data[i - STEPS     :i         , 0:scaled_data.shape[1] ] )\n",
    "    trainY.append(scaled_data[i + FUTURE - 1:i + FUTURE, 0])\n",
    "\n",
    "trainX, trainY = np.array(trainX), np.array(trainY)\n",
    "\n",
    "trainX.shape, trainY.shape"
   ]
  },
  {
   "cell_type": "code",
   "execution_count": 106,
   "id": "39a4fb44-5ae0-4f9f-ba0a-74356b460b6a",
   "metadata": {
    "tags": []
   },
   "outputs": [
    {
     "data": {
      "text/plain": [
       "array([[1.62135258e-04, 9.04813292e-04, 1.47542221e-04, 0.00000000e+00,\n",
       "        0.00000000e+00, 7.35103302e-04, 3.12342987e-02, 5.53706524e-04,\n",
       "        1.17849650e-03, 4.17154653e-04, 0.00000000e+00, 3.25432718e-03,\n",
       "        6.09891278e-03, 1.93130855e-03, 1.78617803e-03, 9.43724194e-04,\n",
       "        0.00000000e+00, 6.54649272e-05, 5.72129077e-02, 4.95270382e-05,\n",
       "        2.20105708e-05, 7.32102261e-04, 0.00000000e+00],\n",
       "       [1.62135258e-04, 0.00000000e+00, 1.09556161e-05, 5.01599918e-06,\n",
       "        5.98665543e-04, 8.07756792e-04, 0.00000000e+00, 6.10150640e-04,\n",
       "        3.82356222e-03, 1.93574821e-04, 7.92954274e-04, 3.38430764e-03,\n",
       "        4.95875995e-03, 2.01507152e-03, 2.12547762e-03, 7.64415062e-04,\n",
       "        9.77600120e-04, 7.66058441e-05, 7.24318102e-02, 5.82034400e-05,\n",
       "        1.98392602e-05, 5.97058003e-04, 3.97955123e-04],\n",
       "       [1.62135258e-04, 4.12762765e-04, 1.56360362e-05, 1.58119083e-05,\n",
       "        1.21140789e-03, 7.86767641e-04, 6.77661842e-02, 5.94925258e-04,\n",
       "        7.43009115e-04, 4.96035479e-04, 1.72551317e-03, 3.44216503e-03,\n",
       "        6.64184270e-03, 2.05481085e-03, 1.88076562e-03, 8.04262227e-04,\n",
       "        1.97834924e-03, 7.25297921e-05, 6.37459729e-02, 5.50614948e-05,\n",
       "        3.49182972e-05, 5.37184239e-04, 7.95910246e-04],\n",
       "       [1.18484977e-04, 2.11861566e-03, 1.05573154e-05, 2.87664295e-05,\n",
       "        1.82878655e-03, 8.83202072e-04, 6.78954531e-02, 6.69761609e-04,\n",
       "        1.17129330e-03, 4.35543348e-04, 2.63015115e-03, 3.94129747e-03,\n",
       "        5.72338625e-03, 2.36538805e-03, 1.92952122e-03, 8.04262227e-04,\n",
       "        2.97909836e-03, 7.67240540e-05, 5.66747146e-02, 5.83434368e-05,\n",
       "        2.56018736e-05, 5.81303883e-04, 1.19386537e-03],\n",
       "       [1.80429755e-04, 4.12179766e-04, 7.15614624e-06, 3.54164123e-05,\n",
       "        2.43169566e-03, 8.34518315e-04, 7.03076600e-02, 6.33071886e-04,\n",
       "        2.02006125e-03, 0.00000000e+00, 3.33375846e-03, 3.69828276e-03,\n",
       "        6.09438837e-03, 2.22070499e-03, 1.51800465e-03, 8.34108929e-04,\n",
       "        3.99231233e-03, 7.07916690e-05, 5.71979579e-02, 5.37580812e-05,\n",
       "        1.61246468e-05, 5.48232879e-04, 1.59182049e-03],\n",
       "       [3.04485604e-04, 8.82076360e-04, 2.63521883e-05, 4.79051725e-05,\n",
       "        3.05436771e-03, 7.83244726e-04, 6.74734999e-02, 5.94487235e-04,\n",
       "        1.64100093e-03, 2.54066953e-04, 4.15463366e-03, 3.28982019e-03,\n",
       "        4.41130561e-03, 1.97416648e-03, 7.91507230e-04, 8.02133090e-04,\n",
       "        5.00908768e-03, 6.50271128e-05, 5.52096337e-02, 4.93017873e-05,\n",
       "        9.71100719e-06, 4.65582888e-04, 1.98977561e-03],\n",
       "       [2.85828204e-04, 1.07563178e-03, 3.19872083e-05, 8.54878351e-05,\n",
       "        3.73956639e-03, 8.07963551e-04, 5.45709979e-02, 6.14206259e-04,\n",
       "        2.01731800e-03, 1.93574821e-04, 4.94758793e-03, 3.63459856e-03,\n",
       "        4.69181940e-03, 2.19030029e-03, 1.37114492e-03, 7.06615983e-04,\n",
       "        5.98846849e-03, 6.65331943e-05, 4.32796884e-02, 5.04952136e-05,\n",
       "        8.91441194e-06, 4.27319620e-04, 2.35711880e-03],\n",
       "       [2.83162974e-04, 5.56763334e-04, 1.23263547e-04, 1.17307882e-04,\n",
       "        4.36762457e-03, 7.42329835e-04, 2.01537568e-02, 5.64516366e-04,\n",
       "        2.14211743e-03, 1.33082690e-04, 5.71262128e-03, 3.40711524e-03,\n",
       "        3.25305511e-03, 2.05469682e-03, 1.30689033e-03, 7.65745621e-04,\n",
       "        6.99099831e-03, 5.81052672e-05, 1.01269986e-01, 4.39673051e-05,\n",
       "        1.32959969e-05, 5.04818536e-04, 2.75507393e-03],\n",
       "       [2.31372844e-04, 6.47711061e-04, 2.10739650e-05, 1.22643709e-04,\n",
       "        4.96444554e-03, 6.97683642e-04, 1.15366416e-03, 5.30930234e-04,\n",
       "        2.07595777e-03, 1.45181116e-04, 6.48323882e-03, 3.49074797e-03,\n",
       "        4.41130561e-03, 2.11026891e-03, 1.68308199e-03, 6.23038866e-04,\n",
       "        7.94723012e-03, 5.24268145e-05, 1.63109859e-01, 3.95751347e-05,\n",
       "        1.54645479e-05, 4.71176608e-04, 3.15302905e-03],\n",
       "       [1.82171692e-04, 6.89686936e-04, 2.55306338e-05, 1.49596282e-04,\n",
       "        5.58383045e-03, 6.83998482e-04, 7.92369719e-02, 5.21163219e-04,\n",
       "        3.04686653e-03, 2.54066953e-04, 7.30411402e-03, 3.55854769e-03,\n",
       "        7.49243291e-03, 2.15652235e-03, 2.13695752e-03, 8.05719665e-04,\n",
       "        8.98893516e-03, 5.47238807e-05, 5.68316876e-02, 4.13811244e-05,\n",
       "        4.91559951e-06, 4.61858475e-04, 3.52037224e-03]])"
      ]
     },
     "execution_count": 106,
     "metadata": {},
     "output_type": "execute_result"
    }
   ],
   "source": [
    "#added from class\n",
    "trainX[0]"
   ]
  },
  {
   "cell_type": "code",
   "execution_count": 107,
   "id": "5af5540a-a5d5-4ce6-b02f-a4c9898e0850",
   "metadata": {},
   "outputs": [
    {
     "data": {
      "text/plain": [
       "array([0.00013806])"
      ]
     },
     "execution_count": 107,
     "metadata": {},
     "output_type": "execute_result"
    }
   ],
   "source": [
    "#added from class\n",
    "trainY[0]"
   ]
  },
  {
   "cell_type": "markdown",
   "id": "e0374e04-48d0-49f7-85d3-d3d786258c68",
   "metadata": {
    "tags": []
   },
   "source": [
    "### Save FUTURE data points to predict"
   ]
  },
  {
   "cell_type": "code",
   "execution_count": 108,
   "id": "f7a3e878-cee4-4ddd-872a-fec47ffa491b",
   "metadata": {
    "tags": []
   },
   "outputs": [
    {
     "data": {
      "text/plain": [
       "((2366, 10, 23), (2366, 1), (1, 10, 23), (1, 1))"
      ]
     },
     "execution_count": 108,
     "metadata": {},
     "output_type": "execute_result"
    }
   ],
   "source": [
    "#For demonstrations purposes, keep the predictions aside so you can evaluate the results\n",
    "toPredict = trainX[-FUTURE:].copy()\n",
    "prediction = trainY[-FUTURE:].copy()\n",
    "prediction = yScaler.inverse_transform( prediction )\n",
    "\n",
    "#remove future predictions from dataset\n",
    "trainX = trainX[:-FUTURE].copy()\n",
    "trainY = trainY[:-FUTURE].copy()\n",
    "\n",
    "trainX.shape, trainY.shape, toPredict.shape, prediction.shape\n",
    "#726 rows, 5 by 6 (its going to learn from 5 sets of 6 features, 5 sequential examples that has 6 features)"
   ]
  },
  {
   "cell_type": "markdown",
   "id": "b1eee123-a8ec-45c4-a7bd-7a3c2fcad44d",
   "metadata": {},
   "source": [
    "#### Create Test by splitting the training data sets"
   ]
  },
  {
   "cell_type": "code",
   "execution_count": 109,
   "id": "e101bb3a-4d02-4339-bba7-5f5eae85759d",
   "metadata": {
    "tags": []
   },
   "outputs": [
    {
     "data": {
      "text/plain": [
       "((1892, 10, 23), (1892, 1), (474, 10, 23), (474, 1))"
      ]
     },
     "execution_count": 109,
     "metadata": {},
     "output_type": "execute_result"
    }
   ],
   "source": [
    "#split into train and test sets\n",
    "X_train, X_test, y_train, y_test = train_test_split(trainX, \n",
    "                                                    trainY, \n",
    "                                                    test_size=0.2, \n",
    "                                                    shuffle = False)\n",
    "X_train.shape,  y_train.shape, X_test.shape,  y_test.shape"
   ]
  },
  {
   "cell_type": "code",
   "execution_count": 110,
   "id": "783ecad1-8e0d-41a2-9872-44cde567947d",
   "metadata": {
    "tags": []
   },
   "outputs": [
    {
     "name": "stdout",
     "output_type": "stream",
     "text": [
      "[[1.62135258e-04 9.04813292e-04 1.47542221e-04 0.00000000e+00\n",
      "  0.00000000e+00 7.35103302e-04 3.12342987e-02 5.53706524e-04\n",
      "  1.17849650e-03 4.17154653e-04 0.00000000e+00 3.25432718e-03\n",
      "  6.09891278e-03 1.93130855e-03 1.78617803e-03 9.43724194e-04\n",
      "  0.00000000e+00 6.54649272e-05 5.72129077e-02 4.95270382e-05\n",
      "  2.20105708e-05 7.32102261e-04 0.00000000e+00]\n",
      " [1.62135258e-04 0.00000000e+00 1.09556161e-05 5.01599918e-06\n",
      "  5.98665543e-04 8.07756792e-04 0.00000000e+00 6.10150640e-04\n",
      "  3.82356222e-03 1.93574821e-04 7.92954274e-04 3.38430764e-03\n",
      "  4.95875995e-03 2.01507152e-03 2.12547762e-03 7.64415062e-04\n",
      "  9.77600120e-04 7.66058441e-05 7.24318102e-02 5.82034400e-05\n",
      "  1.98392602e-05 5.97058003e-04 3.97955123e-04]\n",
      " [1.62135258e-04 4.12762765e-04 1.56360362e-05 1.58119083e-05\n",
      "  1.21140789e-03 7.86767641e-04 6.77661842e-02 5.94925258e-04\n",
      "  7.43009115e-04 4.96035479e-04 1.72551317e-03 3.44216503e-03\n",
      "  6.64184270e-03 2.05481085e-03 1.88076562e-03 8.04262227e-04\n",
      "  1.97834924e-03 7.25297921e-05 6.37459729e-02 5.50614948e-05\n",
      "  3.49182972e-05 5.37184239e-04 7.95910246e-04]\n",
      " [1.18484977e-04 2.11861566e-03 1.05573154e-05 2.87664295e-05\n",
      "  1.82878655e-03 8.83202072e-04 6.78954531e-02 6.69761609e-04\n",
      "  1.17129330e-03 4.35543348e-04 2.63015115e-03 3.94129747e-03\n",
      "  5.72338625e-03 2.36538805e-03 1.92952122e-03 8.04262227e-04\n",
      "  2.97909836e-03 7.67240540e-05 5.66747146e-02 5.83434368e-05\n",
      "  2.56018736e-05 5.81303883e-04 1.19386537e-03]\n",
      " [1.80429755e-04 4.12179766e-04 7.15614624e-06 3.54164123e-05\n",
      "  2.43169566e-03 8.34518315e-04 7.03076600e-02 6.33071886e-04\n",
      "  2.02006125e-03 0.00000000e+00 3.33375846e-03 3.69828276e-03\n",
      "  6.09438837e-03 2.22070499e-03 1.51800465e-03 8.34108929e-04\n",
      "  3.99231233e-03 7.07916690e-05 5.71979579e-02 5.37580812e-05\n",
      "  1.61246468e-05 5.48232879e-04 1.59182049e-03]\n",
      " [3.04485604e-04 8.82076360e-04 2.63521883e-05 4.79051725e-05\n",
      "  3.05436771e-03 7.83244726e-04 6.74734999e-02 5.94487235e-04\n",
      "  1.64100093e-03 2.54066953e-04 4.15463366e-03 3.28982019e-03\n",
      "  4.41130561e-03 1.97416648e-03 7.91507230e-04 8.02133090e-04\n",
      "  5.00908768e-03 6.50271128e-05 5.52096337e-02 4.93017873e-05\n",
      "  9.71100719e-06 4.65582888e-04 1.98977561e-03]\n",
      " [2.85828204e-04 1.07563178e-03 3.19872083e-05 8.54878351e-05\n",
      "  3.73956639e-03 8.07963551e-04 5.45709979e-02 6.14206259e-04\n",
      "  2.01731800e-03 1.93574821e-04 4.94758793e-03 3.63459856e-03\n",
      "  4.69181940e-03 2.19030029e-03 1.37114492e-03 7.06615983e-04\n",
      "  5.98846849e-03 6.65331943e-05 4.32796884e-02 5.04952136e-05\n",
      "  8.91441194e-06 4.27319620e-04 2.35711880e-03]\n",
      " [2.83162974e-04 5.56763334e-04 1.23263547e-04 1.17307882e-04\n",
      "  4.36762457e-03 7.42329835e-04 2.01537568e-02 5.64516366e-04\n",
      "  2.14211743e-03 1.33082690e-04 5.71262128e-03 3.40711524e-03\n",
      "  3.25305511e-03 2.05469682e-03 1.30689033e-03 7.65745621e-04\n",
      "  6.99099831e-03 5.81052672e-05 1.01269986e-01 4.39673051e-05\n",
      "  1.32959969e-05 5.04818536e-04 2.75507393e-03]\n",
      " [2.31372844e-04 6.47711061e-04 2.10739650e-05 1.22643709e-04\n",
      "  4.96444554e-03 6.97683642e-04 1.15366416e-03 5.30930234e-04\n",
      "  2.07595777e-03 1.45181116e-04 6.48323882e-03 3.49074797e-03\n",
      "  4.41130561e-03 2.11026891e-03 1.68308199e-03 6.23038866e-04\n",
      "  7.94723012e-03 5.24268145e-05 1.63109859e-01 3.95751347e-05\n",
      "  1.54645479e-05 4.71176608e-04 3.15302905e-03]\n",
      " [1.82171692e-04 6.89686936e-04 2.55306338e-05 1.49596282e-04\n",
      "  5.58383045e-03 6.83998482e-04 7.92369719e-02 5.21163219e-04\n",
      "  3.04686653e-03 2.54066953e-04 7.30411402e-03 3.55854769e-03\n",
      "  7.49243291e-03 2.15652235e-03 2.13695752e-03 8.05719665e-04\n",
      "  8.98893516e-03 5.47238807e-05 5.68316876e-02 4.13811244e-05\n",
      "  4.91559951e-06 4.61858475e-04 3.52037224e-03]] => [0.00013806]\n",
      "[[1.62135258e-04 0.00000000e+00 1.09556161e-05 5.01599918e-06\n",
      "  5.98665543e-04 8.07756792e-04 0.00000000e+00 6.10150640e-04\n",
      "  3.82356222e-03 1.93574821e-04 7.92954274e-04 3.38430764e-03\n",
      "  4.95875995e-03 2.01507152e-03 2.12547762e-03 7.64415062e-04\n",
      "  9.77600120e-04 7.66058441e-05 7.24318102e-02 5.82034400e-05\n",
      "  1.98392602e-05 5.97058003e-04 3.97955123e-04]\n",
      " [1.62135258e-04 4.12762765e-04 1.56360362e-05 1.58119083e-05\n",
      "  1.21140789e-03 7.86767641e-04 6.77661842e-02 5.94925258e-04\n",
      "  7.43009115e-04 4.96035479e-04 1.72551317e-03 3.44216503e-03\n",
      "  6.64184270e-03 2.05481085e-03 1.88076562e-03 8.04262227e-04\n",
      "  1.97834924e-03 7.25297921e-05 6.37459729e-02 5.50614948e-05\n",
      "  3.49182972e-05 5.37184239e-04 7.95910246e-04]\n",
      " [1.18484977e-04 2.11861566e-03 1.05573154e-05 2.87664295e-05\n",
      "  1.82878655e-03 8.83202072e-04 6.78954531e-02 6.69761609e-04\n",
      "  1.17129330e-03 4.35543348e-04 2.63015115e-03 3.94129747e-03\n",
      "  5.72338625e-03 2.36538805e-03 1.92952122e-03 8.04262227e-04\n",
      "  2.97909836e-03 7.67240540e-05 5.66747146e-02 5.83434368e-05\n",
      "  2.56018736e-05 5.81303883e-04 1.19386537e-03]\n",
      " [1.80429755e-04 4.12179766e-04 7.15614624e-06 3.54164123e-05\n",
      "  2.43169566e-03 8.34518315e-04 7.03076600e-02 6.33071886e-04\n",
      "  2.02006125e-03 0.00000000e+00 3.33375846e-03 3.69828276e-03\n",
      "  6.09438837e-03 2.22070499e-03 1.51800465e-03 8.34108929e-04\n",
      "  3.99231233e-03 7.07916690e-05 5.71979579e-02 5.37580812e-05\n",
      "  1.61246468e-05 5.48232879e-04 1.59182049e-03]\n",
      " [3.04485604e-04 8.82076360e-04 2.63521883e-05 4.79051725e-05\n",
      "  3.05436771e-03 7.83244726e-04 6.74734999e-02 5.94487235e-04\n",
      "  1.64100093e-03 2.54066953e-04 4.15463366e-03 3.28982019e-03\n",
      "  4.41130561e-03 1.97416648e-03 7.91507230e-04 8.02133090e-04\n",
      "  5.00908768e-03 6.50271128e-05 5.52096337e-02 4.93017873e-05\n",
      "  9.71100719e-06 4.65582888e-04 1.98977561e-03]\n",
      " [2.85828204e-04 1.07563178e-03 3.19872083e-05 8.54878351e-05\n",
      "  3.73956639e-03 8.07963551e-04 5.45709979e-02 6.14206259e-04\n",
      "  2.01731800e-03 1.93574821e-04 4.94758793e-03 3.63459856e-03\n",
      "  4.69181940e-03 2.19030029e-03 1.37114492e-03 7.06615983e-04\n",
      "  5.98846849e-03 6.65331943e-05 4.32796884e-02 5.04952136e-05\n",
      "  8.91441194e-06 4.27319620e-04 2.35711880e-03]\n",
      " [2.83162974e-04 5.56763334e-04 1.23263547e-04 1.17307882e-04\n",
      "  4.36762457e-03 7.42329835e-04 2.01537568e-02 5.64516366e-04\n",
      "  2.14211743e-03 1.33082690e-04 5.71262128e-03 3.40711524e-03\n",
      "  3.25305511e-03 2.05469682e-03 1.30689033e-03 7.65745621e-04\n",
      "  6.99099831e-03 5.81052672e-05 1.01269986e-01 4.39673051e-05\n",
      "  1.32959969e-05 5.04818536e-04 2.75507393e-03]\n",
      " [2.31372844e-04 6.47711061e-04 2.10739650e-05 1.22643709e-04\n",
      "  4.96444554e-03 6.97683642e-04 1.15366416e-03 5.30930234e-04\n",
      "  2.07595777e-03 1.45181116e-04 6.48323882e-03 3.49074797e-03\n",
      "  4.41130561e-03 2.11026891e-03 1.68308199e-03 6.23038866e-04\n",
      "  7.94723012e-03 5.24268145e-05 1.63109859e-01 3.95751347e-05\n",
      "  1.54645479e-05 4.71176608e-04 3.15302905e-03]\n",
      " [1.82171692e-04 6.89686936e-04 2.55306338e-05 1.49596282e-04\n",
      "  5.58383045e-03 6.83998482e-04 7.92369719e-02 5.21163219e-04\n",
      "  3.04686653e-03 2.54066953e-04 7.30411402e-03 3.55854769e-03\n",
      "  7.49243291e-03 2.15652235e-03 2.13695752e-03 8.05719665e-04\n",
      "  8.98893516e-03 5.47238807e-05 5.68316876e-02 4.13811244e-05\n",
      "  4.91559951e-06 4.61858475e-04 3.52037224e-03]\n",
      " [1.38063387e-04 6.79192967e-04 1.31224054e-05 1.58700801e-04\n",
      "  6.16012788e-03 8.80734168e-05 7.20296197e-02 6.38647404e-05\n",
      "  3.42217532e-03 1.81476395e-04 8.09148410e-03 1.95890304e-03\n",
      "  6.03104654e-03 1.17484246e-03 1.51916359e-03 8.81296788e-04\n",
      "  1.00609120e-02 1.66427845e-05 5.84462667e-02 1.17930449e-05\n",
      "  9.50886304e-06 6.30066290e-04 3.91832736e-03]] => [0.00017045]\n",
      "[[1.62135258e-04 4.12762765e-04 1.56360362e-05 1.58119083e-05\n",
      "  1.21140789e-03 7.86767641e-04 6.77661842e-02 5.94925258e-04\n",
      "  7.43009115e-04 4.96035479e-04 1.72551317e-03 3.44216503e-03\n",
      "  6.64184270e-03 2.05481085e-03 1.88076562e-03 8.04262227e-04\n",
      "  1.97834924e-03 7.25297921e-05 6.37459729e-02 5.50614948e-05\n",
      "  3.49182972e-05 5.37184239e-04 7.95910246e-04]\n",
      " [1.18484977e-04 2.11861566e-03 1.05573154e-05 2.87664295e-05\n",
      "  1.82878655e-03 8.83202072e-04 6.78954531e-02 6.69761609e-04\n",
      "  1.17129330e-03 4.35543348e-04 2.63015115e-03 3.94129747e-03\n",
      "  5.72338625e-03 2.36538805e-03 1.92952122e-03 8.04262227e-04\n",
      "  2.97909836e-03 7.67240540e-05 5.66747146e-02 5.83434368e-05\n",
      "  2.56018736e-05 5.81303883e-04 1.19386537e-03]\n",
      " [1.80429755e-04 4.12179766e-04 7.15614624e-06 3.54164123e-05\n",
      "  2.43169566e-03 8.34518315e-04 7.03076600e-02 6.33071886e-04\n",
      "  2.02006125e-03 0.00000000e+00 3.33375846e-03 3.69828276e-03\n",
      "  6.09438837e-03 2.22070499e-03 1.51800465e-03 8.34108929e-04\n",
      "  3.99231233e-03 7.07916690e-05 5.71979579e-02 5.37580812e-05\n",
      "  1.61246468e-05 5.48232879e-04 1.59182049e-03]\n",
      " [3.04485604e-04 8.82076360e-04 2.63521883e-05 4.79051725e-05\n",
      "  3.05436771e-03 7.83244726e-04 6.74734999e-02 5.94487235e-04\n",
      "  1.64100093e-03 2.54066953e-04 4.15463366e-03 3.28982019e-03\n",
      "  4.41130561e-03 1.97416648e-03 7.91507230e-04 8.02133090e-04\n",
      "  5.00908768e-03 6.50271128e-05 5.52096337e-02 4.93017873e-05\n",
      "  9.71100719e-06 4.65582888e-04 1.98977561e-03]\n",
      " [2.85828204e-04 1.07563178e-03 3.19872083e-05 8.54878351e-05\n",
      "  3.73956639e-03 8.07963551e-04 5.45709979e-02 6.14206259e-04\n",
      "  2.01731800e-03 1.93574821e-04 4.94758793e-03 3.63459856e-03\n",
      "  4.69181940e-03 2.19030029e-03 1.37114492e-03 7.06615983e-04\n",
      "  5.98846849e-03 6.65331943e-05 4.32796884e-02 5.04952136e-05\n",
      "  8.91441194e-06 4.27319620e-04 2.35711880e-03]\n",
      " [2.83162974e-04 5.56763334e-04 1.23263547e-04 1.17307882e-04\n",
      "  4.36762457e-03 7.42329835e-04 2.01537568e-02 5.64516366e-04\n",
      "  2.14211743e-03 1.33082690e-04 5.71262128e-03 3.40711524e-03\n",
      "  3.25305511e-03 2.05469682e-03 1.30689033e-03 7.65745621e-04\n",
      "  6.99099831e-03 5.81052672e-05 1.01269986e-01 4.39673051e-05\n",
      "  1.32959969e-05 5.04818536e-04 2.75507393e-03]\n",
      " [2.31372844e-04 6.47711061e-04 2.10739650e-05 1.22643709e-04\n",
      "  4.96444554e-03 6.97683642e-04 1.15366416e-03 5.30930234e-04\n",
      "  2.07595777e-03 1.45181116e-04 6.48323882e-03 3.49074797e-03\n",
      "  4.41130561e-03 2.11026891e-03 1.68308199e-03 6.23038866e-04\n",
      "  7.94723012e-03 5.24268145e-05 1.63109859e-01 3.95751347e-05\n",
      "  1.54645479e-05 4.71176608e-04 3.15302905e-03]\n",
      " [1.82171692e-04 6.89686936e-04 2.55306338e-05 1.49596282e-04\n",
      "  5.58383045e-03 6.83998482e-04 7.92369719e-02 5.21163219e-04\n",
      "  3.04686653e-03 2.54066953e-04 7.30411402e-03 3.55854769e-03\n",
      "  7.49243291e-03 2.15652235e-03 2.13695752e-03 8.05719665e-04\n",
      "  8.98893516e-03 5.47238807e-05 5.68316876e-02 4.13811244e-05\n",
      "  4.91559951e-06 4.61858475e-04 3.52037224e-03]\n",
      " [1.38063387e-04 6.79192967e-04 1.31224054e-05 1.58700801e-04\n",
      "  6.16012788e-03 8.80734168e-05 7.20296197e-02 6.38647404e-05\n",
      "  3.42217532e-03 1.81476395e-04 8.09148410e-03 1.95890304e-03\n",
      "  6.03104654e-03 1.17484246e-03 1.51916359e-03 8.81296788e-04\n",
      "  1.00609120e-02 1.66427845e-05 5.84462667e-02 1.17930449e-05\n",
      "  9.50886304e-06 6.30066290e-04 3.91832736e-03]\n",
      " [1.70452072e-04 1.11760766e-03 1.13985201e-05 1.73923949e-04\n",
      "  6.76107898e-03 2.26680228e-04 6.90174098e-02 1.71091713e-04\n",
      "  1.61743450e-03 3.62952790e-04 8.96261697e-03 2.23732039e-03\n",
      "  7.33860277e-03 1.35052324e-03 2.38723585e-03 8.54923127e-04\n",
      "  1.11222046e-02 2.48445076e-05 4.10820670e-02 1.81892628e-05\n",
      "  1.58021444e-05 5.89619474e-04 4.31628249e-03]] => [0.00022903]\n"
     ]
    }
   ],
   "source": [
    "#explore what a single time series looks likes (at least just the first 3 entries)\n",
    "for i in range(3):\n",
    "    print('{:} => {:}'.format(X_train[i], y_train[i]) )"
   ]
  },
  {
   "cell_type": "markdown",
   "id": "01e420d0-b6a7-4b82-85f7-a89ab3b7feae",
   "metadata": {},
   "source": [
    "## Computing Some Baselines"
   ]
  },
  {
   "cell_type": "markdown",
   "id": "23b25c6a-9ac4-4e60-bfcc-b22fa1afc303",
   "metadata": {},
   "source": [
    "<font color=blue>Naive Forecasting</font>: just use the last observed value in the series to predict the next value in the series"
   ]
  },
  {
   "cell_type": "code",
   "execution_count": 111,
   "id": "b0103524-9175-4791-a644-86cc80dd7738",
   "metadata": {},
   "outputs": [
    {
     "name": "stdout",
     "output_type": "stream",
     "text": [
      "Naive ERROR: 133.8220\n"
     ]
    }
   ],
   "source": [
    "#predcition is based on last observed value\n",
    "pred= yScaler.inverse_transform( y_test[:-1] )\n",
    "actual= yScaler.inverse_transform( y_test[1:] )\n",
    "\n",
    "#calculate the Mean Squared Error between the prediction and the actual\n",
    "naive = mean_squared_error(pred, actual, squared=False)\n",
    "print( 'Naive ERROR: {:.4f}'.format(naive) )"
   ]
  },
  {
   "cell_type": "code",
   "execution_count": 112,
   "id": "628711a6-99c0-4fd1-9c8c-d398e194c429",
   "metadata": {},
   "outputs": [
    {
     "data": {
      "image/png": "[encoded data removed]",
      "text/plain": [
       "<Figure size 432x288 with 1 Axes>"
      ]
     },
     "metadata": {
      "needs_background": "light"
     },
     "output_type": "display_data"
    }
   ],
   "source": [
    "#plot the last 48 instances in the series to see the \"predicted\" shift in temperatures \n",
    "plot_actual_pred (actual[-48:], pred[-48:])"
   ]
  },
  {
   "cell_type": "markdown",
   "id": "1ef0d9fa-fa4b-4cf6-947b-5f8ea1994b8b",
   "metadata": {
    "tags": []
   },
   "source": [
    "## Linear predictions using a Neural Network"
   ]
  },
  {
   "cell_type": "code",
   "execution_count": 113,
   "id": "fac13888-65ab-48fb-90d2-a65828bba4c3",
   "metadata": {},
   "outputs": [],
   "source": [
    "#starting by setting random seeds and restarting keras blackend session\n",
    "np.random.seed(42)\n",
    "tf.random.set_seed(42)\n",
    "\n",
    "#resets the Keras global state - helps avoid clutter from old models and layers, especially when memory is limited\n",
    "keras.backend.clear_session()"
   ]
  },
  {
   "cell_type": "code",
   "execution_count": 114,
   "id": "f6b41c32-e26b-4102-92c4-24efffb8e3e0",
   "metadata": {},
   "outputs": [],
   "source": [
    "#define early stopping\n",
    "#this is not necessary BUT helps models run faster\n",
    "#define what early stopping means - in this case, when the validation loss after 2 iterations hasn't changed\n",
    "#after defining, it can be added to any model fitting using the parameter callbacks\n",
    "early_stopping = keras.callbacks.EarlyStopping(monitor=\"val_loss\", \n",
    "                                               patience=40,\n",
    "                                              # verbose =1,\n",
    "                                              # baseline = .05,\n",
    "                                               mode='min')"
   ]
  },
  {
   "cell_type": "code",
   "execution_count": 1009,
   "id": "ed075d88-e7d7-4d43-b139-318bb9066338",
   "metadata": {},
   "outputs": [],
   "source": [
    "#create a simple linear neural network\n",
    "model = keras.models.Sequential([\n",
    "   # keras.layers.LSTM(50, return_sequences=True, input_shape=[None, FEATURES]),\n",
    "    keras.layers.LSTM(50, return_sequences=True, input_shape=[None, FEATURES]),\n",
    "    keras.layers.Dropout(.2),\n",
    "    keras.layers.LSTM(50),  #before it was just 20\n",
    "    keras.layers.Dense(FUTURE)\n",
    "])"
   ]
  },
  {
   "cell_type": "code",
   "execution_count": 1010,
   "id": "391b04f4-fbca-4ab2-bec2-993720360278",
   "metadata": {},
   "outputs": [],
   "source": [
    "#compile and fit the model\n",
    "#note we are using the metric Mean Squared Error for tempertatures\n",
    "model.compile(loss=\"mean_squared_error\", \n",
    "              optimizer=keras.optimizers.Adam(learning_rate=0.00033), \n",
    "             )"
   ]
  },
  {
   "cell_type": "code",
   "execution_count": 1011,
   "id": "20c408be-9b31-4b87-9149-149f4bdbba42",
   "metadata": {
    "tags": []
   },
   "outputs": [
    {
     "name": "stdout",
     "output_type": "stream",
     "text": [
      "Epoch 1/500\n",
      "152/152 [==============================] - 10s 26ms/step - loss: 0.0014 - val_loss: 4.9458e-04\n",
      "Epoch 2/500\n",
      "152/152 [==============================] - 2s 16ms/step - loss: 8.9087e-04 - val_loss: 0.0018\n",
      "Epoch 3/500\n",
      "152/152 [==============================] - 2s 15ms/step - loss: 8.4523e-04 - val_loss: 0.0029\n",
      "Epoch 4/500\n",
      "152/152 [==============================] - 2s 14ms/step - loss: 9.4017e-04 - val_loss: 0.0024\n",
      "Epoch 5/500\n",
      "152/152 [==============================] - 2s 14ms/step - loss: 6.8747e-04 - val_loss: 0.0011\n",
      "Epoch 6/500\n",
      "152/152 [==============================] - 2s 15ms/step - loss: 4.2742e-04 - val_loss: 3.3105e-04\n",
      "Epoch 7/500\n",
      "152/152 [==============================] - 2s 14ms/step - loss: 3.0874e-04 - val_loss: 1.5979e-04\n",
      "Epoch 8/500\n",
      "152/152 [==============================] - 2s 14ms/step - loss: 2.3439e-04 - val_loss: 2.0755e-04\n",
      "Epoch 9/500\n",
      "152/152 [==============================] - 2s 15ms/step - loss: 2.0958e-04 - val_loss: 1.6944e-04\n",
      "Epoch 10/500\n",
      "152/152 [==============================] - 2s 13ms/step - loss: 2.0484e-04 - val_loss: 8.0707e-05\n",
      "Epoch 11/500\n",
      "152/152 [==============================] - 2s 14ms/step - loss: 2.1920e-04 - val_loss: 8.4661e-05\n",
      "Epoch 12/500\n",
      "152/152 [==============================] - 2s 13ms/step - loss: 2.1124e-04 - val_loss: 7.3786e-05\n",
      "Epoch 13/500\n",
      "152/152 [==============================] - 2s 14ms/step - loss: 1.8275e-04 - val_loss: 5.3684e-05\n",
      "Epoch 14/500\n",
      "152/152 [==============================] - 2s 15ms/step - loss: 1.6956e-04 - val_loss: 5.0630e-05\n",
      "Epoch 15/500\n",
      "152/152 [==============================] - 2s 14ms/step - loss: 1.7311e-04 - val_loss: 6.7529e-05\n",
      "Epoch 16/500\n",
      "152/152 [==============================] - 2s 14ms/step - loss: 1.8808e-04 - val_loss: 9.5498e-05\n",
      "Epoch 17/500\n",
      "152/152 [==============================] - 2s 14ms/step - loss: 1.5334e-04 - val_loss: 8.9833e-05\n",
      "Epoch 18/500\n",
      "152/152 [==============================] - 2s 16ms/step - loss: 1.4568e-04 - val_loss: 9.8859e-05\n",
      "Epoch 19/500\n",
      "152/152 [==============================] - 2s 15ms/step - loss: 1.4185e-04 - val_loss: 1.0182e-04\n",
      "Epoch 20/500\n",
      "152/152 [==============================] - 2s 13ms/step - loss: 1.4632e-04 - val_loss: 8.2746e-05\n",
      "Epoch 21/500\n",
      "152/152 [==============================] - 2s 15ms/step - loss: 1.3488e-04 - val_loss: 7.2630e-05\n",
      "Epoch 22/500\n",
      "152/152 [==============================] - 2s 14ms/step - loss: 1.5845e-04 - val_loss: 7.9852e-05\n",
      "Epoch 23/500\n",
      "152/152 [==============================] - 2s 13ms/step - loss: 1.5330e-04 - val_loss: 4.6917e-05\n",
      "Epoch 24/500\n",
      "152/152 [==============================] - 2s 13ms/step - loss: 1.4784e-04 - val_loss: 2.0614e-04\n",
      "Epoch 25/500\n",
      "152/152 [==============================] - 2s 13ms/step - loss: 1.6745e-04 - val_loss: 2.3788e-04\n",
      "Epoch 26/500\n",
      "152/152 [==============================] - 2s 13ms/step - loss: 1.5301e-04 - val_loss: 1.0416e-04\n",
      "Epoch 27/500\n",
      "152/152 [==============================] - 2s 14ms/step - loss: 1.7710e-04 - val_loss: 1.9145e-04\n",
      "Epoch 28/500\n",
      "152/152 [==============================] - 2s 14ms/step - loss: 1.7258e-04 - val_loss: 3.4029e-04\n",
      "Epoch 29/500\n",
      "152/152 [==============================] - 2s 15ms/step - loss: 1.7883e-04 - val_loss: 2.6114e-04\n",
      "Epoch 30/500\n",
      "152/152 [==============================] - 2s 13ms/step - loss: 1.9365e-04 - val_loss: 2.0509e-04\n",
      "Epoch 31/500\n",
      "152/152 [==============================] - 2s 13ms/step - loss: 3.1772e-04 - val_loss: 6.0530e-04\n",
      "Epoch 32/500\n",
      "152/152 [==============================] - 2s 14ms/step - loss: 2.0967e-04 - val_loss: 3.3755e-04\n",
      "Epoch 33/500\n",
      "152/152 [==============================] - 2s 15ms/step - loss: 1.5232e-04 - val_loss: 6.1389e-05\n",
      "Epoch 34/500\n",
      "152/152 [==============================] - 2s 15ms/step - loss: 1.4165e-04 - val_loss: 1.0792e-04\n",
      "Epoch 35/500\n",
      "152/152 [==============================] - 2s 14ms/step - loss: 1.7074e-04 - val_loss: 4.2232e-04\n",
      "Epoch 36/500\n",
      "152/152 [==============================] - 2s 15ms/step - loss: 1.6683e-04 - val_loss: 4.5063e-04\n",
      "Epoch 37/500\n",
      "152/152 [==============================] - 2s 15ms/step - loss: 1.5063e-04 - val_loss: 4.3649e-04\n",
      "Epoch 38/500\n",
      "152/152 [==============================] - 2s 14ms/step - loss: 1.6968e-04 - val_loss: 6.0497e-04\n",
      "Epoch 39/500\n",
      "152/152 [==============================] - 2s 13ms/step - loss: 1.9960e-04 - val_loss: 9.1921e-04\n",
      "Epoch 40/500\n",
      "152/152 [==============================] - 2s 13ms/step - loss: 1.8032e-04 - val_loss: 9.6464e-04\n",
      "Epoch 41/500\n",
      "152/152 [==============================] - 2s 13ms/step - loss: 1.5394e-04 - val_loss: 9.1909e-04\n",
      "Epoch 42/500\n",
      "152/152 [==============================] - 2s 14ms/step - loss: 1.6385e-04 - val_loss: 0.0011\n",
      "Epoch 43/500\n",
      "152/152 [==============================] - 2s 13ms/step - loss: 1.4739e-04 - val_loss: 8.2701e-04\n",
      "Epoch 44/500\n",
      "152/152 [==============================] - 2s 14ms/step - loss: 1.7503e-04 - val_loss: 0.0010\n",
      "Epoch 45/500\n",
      "152/152 [==============================] - 2s 14ms/step - loss: 2.0600e-04 - val_loss: 0.0011\n",
      "Epoch 46/500\n",
      "152/152 [==============================] - 2s 15ms/step - loss: 2.2514e-04 - val_loss: 0.0012\n",
      "Epoch 47/500\n",
      "152/152 [==============================] - 2s 14ms/step - loss: 1.6467e-04 - val_loss: 9.9153e-04\n",
      "Epoch 48/500\n",
      "152/152 [==============================] - 2s 14ms/step - loss: 1.4679e-04 - val_loss: 8.1963e-04\n",
      "Epoch 49/500\n",
      "152/152 [==============================] - 2s 14ms/step - loss: 1.4858e-04 - val_loss: 8.7071e-04\n",
      "Epoch 50/500\n",
      "152/152 [==============================] - 2s 14ms/step - loss: 1.9160e-04 - val_loss: 9.0155e-04\n",
      "Epoch 51/500\n",
      "152/152 [==============================] - 2s 16ms/step - loss: 2.0767e-04 - val_loss: 8.8757e-04\n",
      "Epoch 52/500\n",
      "152/152 [==============================] - 2s 14ms/step - loss: 1.9653e-04 - val_loss: 9.0357e-04\n",
      "Epoch 53/500\n",
      "152/152 [==============================] - 2s 13ms/step - loss: 1.6362e-04 - val_loss: 6.4839e-04\n",
      "Epoch 54/500\n",
      "152/152 [==============================] - 2s 14ms/step - loss: 1.4510e-04 - val_loss: 6.8050e-04\n",
      "Epoch 55/500\n",
      "152/152 [==============================] - 2s 14ms/step - loss: 1.4108e-04 - val_loss: 1.2575e-04\n",
      "Epoch 56/500\n",
      "152/152 [==============================] - 2s 13ms/step - loss: 1.4418e-04 - val_loss: 6.3123e-04\n",
      "Epoch 57/500\n",
      "152/152 [==============================] - 2s 13ms/step - loss: 2.0533e-04 - val_loss: 8.8980e-04\n",
      "Epoch 58/500\n",
      "152/152 [==============================] - 2s 13ms/step - loss: 1.9499e-04 - val_loss: 4.7553e-04\n",
      "Epoch 59/500\n",
      "152/152 [==============================] - 2s 14ms/step - loss: 1.4488e-04 - val_loss: 1.8146e-04\n",
      "Epoch 60/500\n",
      "152/152 [==============================] - 2s 13ms/step - loss: 1.3556e-04 - val_loss: 9.9826e-05\n",
      "Epoch 61/500\n",
      "152/152 [==============================] - 2s 13ms/step - loss: 1.1224e-04 - val_loss: 8.6310e-05\n",
      "Epoch 62/500\n",
      "152/152 [==============================] - 2s 13ms/step - loss: 1.0782e-04 - val_loss: 1.7992e-04\n",
      "Epoch 63/500\n",
      "152/152 [==============================] - 2s 13ms/step - loss: 1.0296e-04 - val_loss: 1.3915e-04\n"
     ]
    }
   ],
   "source": [
    "#fit the model \n",
    "#NOTE: Because we are workign with a continuous series, shuffle=False is needed\n",
    "history = model.fit(X_train, y_train, \n",
    "                    epochs=500, \n",
    "                    batch_size=STEPS,\n",
    "                    validation_split=.2, \n",
    "                    shuffle=False, \n",
    "                    #Order matters so it cannot be random\n",
    "                    callbacks=[early_stopping])"
   ]
  },
  {
   "cell_type": "code",
   "execution_count": 1012,
   "id": "de9d0971-4e6a-4456-ae46-03d21c85bc37",
   "metadata": {
    "tags": []
   },
   "outputs": [
    {
     "data": {
      "image/png": "[encoded data removed]",
      "text/plain": [
       "<Figure size 576x360 with 1 Axes>"
      ]
     },
     "metadata": {
      "needs_background": "light"
     },
     "output_type": "display_data"
    }
   ],
   "source": [
    "#see that the learning curve is healthy\n",
    "nn_plot_learning_curve( history )"
   ]
  },
  {
   "cell_type": "code",
   "execution_count": 1013,
   "id": "e8282a49-0904-4570-868d-340c919f133c",
   "metadata": {},
   "outputs": [
    {
     "name": "stdout",
     "output_type": "stream",
     "text": [
      "ERROR: 68.1114\n"
     ]
    }
   ],
   "source": [
    "#predict the training data set\n",
    "y_pred = model.predict(X_train)\n",
    "\n",
    "#scale predicted and actuals\n",
    "pred = yScaler.inverse_transform( y_pred )\n",
    "actual = yScaler.inverse_transform( y_train )\n",
    "\n",
    "#calculate the Mean Squared Error using the scaled values\n",
    "error = mean_squared_error(pred, actual, squared=False)\n",
    "print( 'ERROR: {:.4f}'.format(error) )"
   ]
  },
  {
   "cell_type": "code",
   "execution_count": 1014,
   "id": "70c6ed6d-2f32-452f-b278-458b0cab6214",
   "metadata": {},
   "outputs": [
    {
     "data": {
      "image/png": "[encoded data removed]",
      "text/plain": [
       "<Figure size 432x288 with 1 Axes>"
      ]
     },
     "metadata": {
      "needs_background": "light"
     },
     "output_type": "display_data"
    }
   ],
   "source": [
    "#plot the actuals vs. the predictions\n",
    "plot_actual_pred ( actual[-700:], pred[-700:] )"
   ]
  },
  {
   "cell_type": "code",
   "execution_count": 1015,
   "id": "49279455-9e89-453d-b078-0dcdd7fdeb55",
   "metadata": {},
   "outputs": [
    {
     "name": "stdout",
     "output_type": "stream",
     "text": [
      "ERROR: 373.8306\n"
     ]
    }
   ],
   "source": [
    "#predict the test data\n",
    "y_pred = model.predict(X_test)\n",
    "\n",
    "#scale predicted and actuals\n",
    "pred = yScaler.inverse_transform( y_pred )\n",
    "actual = yScaler.inverse_transform( y_test )\n",
    "\n",
    "#calculate the Mean Squared Error using the scaled values\n",
    "error = mean_squared_error(pred, actual, squared=False)\n",
    "print( 'ERROR: {:.4f}'.format(error) )\n"
   ]
  },
  {
   "cell_type": "code",
   "execution_count": 1016,
   "id": "466d4f99-6a17-4d46-8da7-25edeea9b9ec",
   "metadata": {},
   "outputs": [
    {
     "data": {
      "image/png": "[encoded data removed]",
      "text/plain": [
       "<Figure size 432x288 with 1 Axes>"
      ]
     },
     "metadata": {
      "needs_background": "light"
     },
     "output_type": "display_data"
    }
   ],
   "source": [
    "#plot the actuals vs. the predictions\n",
    "plot_actual_pred ( actual[-500:], pred[-500:] )"
   ]
  },
  {
   "cell_type": "code",
   "execution_count": 1017,
   "id": "7df3b4f4-b16a-45d5-829f-913eb81a06ba",
   "metadata": {
    "tags": []
   },
   "outputs": [
    {
     "data": {
      "image/png": "[encoded data removed]",
      "text/plain": [
       "<Figure size 432x288 with 1 Axes>"
      ]
     },
     "metadata": {
      "needs_background": "light"
     },
     "output_type": "display_data"
    }
   ],
   "source": [
    "#Predict using the model\n",
    "y_prediction = model.predict( toPredict )\n",
    "\n",
    "#scale the y values\n",
    "y_prediction = yScaler.inverse_transform( y_prediction )\n",
    "\n",
    "#plot the actual values as well as future known actuals vs. future predictions\n",
    "#NOTE: if FUTURES is > 1, the ,0 is needed to only plot the 1st value in the prediction\n",
    "plot_series(actual[-500:], prediction, y_prediction[:,0]) "
   ]
  },
  {
   "cell_type": "code",
   "execution_count": 1018,
   "id": "2be6890e-8b86-4354-9eb6-2afc4c63eb0f",
   "metadata": {},
   "outputs": [
    {
     "data": {
      "text/plain": [
       "401.0435368749995"
      ]
     },
     "execution_count": 1018,
     "metadata": {},
     "output_type": "execute_result"
    }
   ],
   "source": [
    "#print the error\n",
    "#lr=.00033 neurons: 50, 50, and LSTM (change random seed back to 42, patience = 10)\n",
    "mean_squared_error( y_prediction[:,0], prediction, squared=False) "
   ]
  },
  {
   "cell_type": "code",
   "execution_count": null,
   "id": "b37cb18a-b8ff-44a4-a713-655c68104e32",
   "metadata": {},
   "outputs": [],
   "source": []
  },
  {
   "cell_type": "code",
   "execution_count": null,
   "id": "029778cb-072a-4132-b555-a44d7650f5e6",
   "metadata": {},
   "outputs": [],
   "source": []
  },
  {
   "cell_type": "code",
   "execution_count": null,
   "id": "5e6a59f7-8f01-4cfd-a613-32204f639986",
   "metadata": {},
   "outputs": [],
   "source": []
  },
  {
   "cell_type": "code",
   "execution_count": 513,
   "id": "49e6e5cb-4734-4487-b1c3-d9a661da79b1",
   "metadata": {},
   "outputs": [
    {
     "data": {
      "text/plain": [
       "623.6871760156255"
      ]
     },
     "execution_count": 513,
     "metadata": {},
     "output_type": "execute_result"
    }
   ],
   "source": [
    "#print the error\n",
    "#lr=.00033 neurons: 65 and LSTM (change random seed back to 42, patience = 15)\n",
    "mean_squared_error( y_prediction[:,0], prediction, squared=False) "
   ]
  },
  {
   "cell_type": "code",
   "execution_count": 488,
   "id": "9a606204-3907-4c5c-8e12-729ce63577de",
   "metadata": {},
   "outputs": [
    {
     "data": {
      "text/plain": [
       "1946.823772695313"
      ]
     },
     "execution_count": 488,
     "metadata": {},
     "output_type": "execute_result"
    }
   ],
   "source": [
    "#print the error\n",
    "#lr=.00033 neurons: 65 and LSTM (change random seed back to 42, patience = 15)\n",
    "mean_squared_error( y_prediction[:,0], prediction, squared=False) "
   ]
  },
  {
   "cell_type": "code",
   "execution_count": 475,
   "id": "700277ab-c47e-479b-89e4-d0c6687c4b59",
   "metadata": {},
   "outputs": [
    {
     "data": {
      "text/plain": [
       "1095.4403498437505"
      ]
     },
     "execution_count": 475,
     "metadata": {},
     "output_type": "execute_result"
    }
   ],
   "source": [
    "#print the error\n",
    "#lr=.00033 neurons: 70 and LSTM (change random seed back to 42, patience = 15)\n",
    "mean_squared_error( y_prediction[:,0], prediction, squared=False) "
   ]
  },
  {
   "cell_type": "code",
   "execution_count": 463,
   "id": "5c38e3f8-a81d-436f-83a8-97465d925fb3",
   "metadata": {},
   "outputs": [
    {
     "data": {
      "text/plain": [
       "104.49039867187548"
      ]
     },
     "execution_count": 463,
     "metadata": {},
     "output_type": "execute_result"
    }
   ],
   "source": [
    "#print the error\n",
    "#lr=.00033 neurons: 60 and LSTM (change random seed back to 42, patience = 15)\n",
    "mean_squared_error( y_prediction[:,0], prediction, squared=False) "
   ]
  },
  {
   "cell_type": "code",
   "execution_count": 451,
   "id": "bfe1e567-24bf-42c5-9548-866cfd5bb0b2",
   "metadata": {},
   "outputs": [
    {
     "data": {
      "text/plain": [
       "137.03336742187548"
      ]
     },
     "execution_count": 451,
     "metadata": {},
     "output_type": "execute_result"
    }
   ],
   "source": [
    "#print the error\n",
    "#lr=.00033 neurons: 50 and LSTM (change random seed back to 42, patience = 25)\n",
    "mean_squared_error( y_prediction[:,0], prediction, squared=False) "
   ]
  },
  {
   "cell_type": "code",
   "execution_count": 439,
   "id": "d450da7f-c797-4946-beeb-40f7727a145b",
   "metadata": {},
   "outputs": [
    {
     "data": {
      "text/plain": [
       "248.13029125000048"
      ]
     },
     "execution_count": 439,
     "metadata": {},
     "output_type": "execute_result"
    }
   ],
   "source": [
    "#print the error\n",
    "#lr=.00033 neurons: 50 and LSTM (change random seed back to 42, patience = 35)\n",
    "mean_squared_error( y_prediction[:,0], prediction, squared=False) "
   ]
  },
  {
   "cell_type": "code",
   "execution_count": 427,
   "id": "3cfe12c3-87cf-4742-82d4-c7f6fc0e816d",
   "metadata": {},
   "outputs": [
    {
     "data": {
      "text/plain": [
       "599.8168146875005"
      ]
     },
     "execution_count": 427,
     "metadata": {},
     "output_type": "execute_result"
    }
   ],
   "source": [
    "#print the error\n",
    "#lr=.00033 neurons: 45 and LSTM (change random seed back to 42, patience = 200)\n",
    "mean_squared_error( y_prediction[:,0], prediction, squared=False) "
   ]
  },
  {
   "cell_type": "code",
   "execution_count": 415,
   "id": "07d89bb6-75ea-4985-8434-259d4145745c",
   "metadata": {},
   "outputs": [
    {
     "data": {
      "text/plain": [
       "1088.333050039063"
      ]
     },
     "execution_count": 415,
     "metadata": {},
     "output_type": "execute_result"
    }
   ],
   "source": [
    "#print the error\n",
    "#lr=.00033 neurons: 50, 45, 45 and LSTM (change random seed back to 42, patience = 200)\n",
    "mean_squared_error( y_prediction[:,0], prediction, squared=False) "
   ]
  },
  {
   "cell_type": "code",
   "execution_count": 392,
   "id": "56238664-e263-4ea3-8908-a910e0365eb1",
   "metadata": {},
   "outputs": [
    {
     "data": {
      "text/plain": [
       "599.8382990625005"
      ]
     },
     "execution_count": 392,
     "metadata": {},
     "output_type": "execute_result"
    }
   ],
   "source": [
    "#print the error\n",
    "#lr=.00033 neurons: 45, 40, 35 and LSTM (change random seed back to 42, patience = 200)\n",
    "mean_squared_error( y_prediction[:,0], prediction, squared=False) "
   ]
  },
  {
   "cell_type": "code",
   "execution_count": 392,
   "id": "baec6b30-3e19-419c-8609-71b3b1b026c1",
   "metadata": {},
   "outputs": [
    {
     "data": {
      "text/plain": [
       "599.8382990625005"
      ]
     },
     "execution_count": 392,
     "metadata": {},
     "output_type": "execute_result"
    }
   ],
   "source": [
    "#print the error\n",
    "#lr=.00033 neurons: 40,40 and LSTM (change random seed back to 42, patience = 200)\n",
    "mean_squared_error( y_prediction[:,0], prediction, squared=False) "
   ]
  },
  {
   "cell_type": "code",
   "execution_count": 349,
   "id": "078a9ef4-ce46-4144-8727-e2986a560d26",
   "metadata": {},
   "outputs": [
    {
     "data": {
      "text/plain": [
       "781.2025568750005"
      ]
     },
     "execution_count": 349,
     "metadata": {},
     "output_type": "execute_result"
    }
   ],
   "source": [
    "#print the error\n",
    "#lr=.00033 neurons: 50, 50, 35 and LSTM (change random seed back to 42, patience = 200)\n",
    "mean_squared_error( y_prediction[:,0], prediction, squared=False) "
   ]
  },
  {
   "cell_type": "code",
   "execution_count": 313,
   "id": "b1681b83-b5f1-45ce-9172-83b20ff36858",
   "metadata": {},
   "outputs": [
    {
     "data": {
      "text/plain": [
       "791.2457697656255"
      ]
     },
     "execution_count": 313,
     "metadata": {},
     "output_type": "execute_result"
    }
   ],
   "source": [
    "#print the error\n",
    "#lr=.00033 neurons: 50, 50, 25 and LSTM (change random seed back to 42, patience = 200)\n",
    "mean_squared_error( y_prediction[:,0], prediction, squared=False) "
   ]
  },
  {
   "cell_type": "code",
   "execution_count": 301,
   "id": "d859447b-d8b7-42af-a849-1bbb1b22375f",
   "metadata": {},
   "outputs": [
    {
     "data": {
      "text/plain": [
       "1337.246380117188"
      ]
     },
     "execution_count": 301,
     "metadata": {},
     "output_type": "execute_result"
    }
   ],
   "source": [
    "#print the error\n",
    "#lr=.00033 neurons: 50, 50, and LSTM (change random seed back to 42, patience = 100)\n",
    "mean_squared_error( y_prediction[:,0], prediction, squared=False) "
   ]
  },
  {
   "cell_type": "code",
   "execution_count": 289,
   "id": "da93904d-e0e2-444e-852e-cb91c192a938",
   "metadata": {},
   "outputs": [
    {
     "data": {
      "text/plain": [
       "779.0358088281255"
      ]
     },
     "execution_count": 289,
     "metadata": {},
     "output_type": "execute_result"
    }
   ],
   "source": [
    "#print the error\n",
    "#lr=.00033 neurons: 50, 50 and LSTM (change random seed to 2, patience = 50)\n",
    "mean_squared_error( y_prediction[:,0], prediction, squared=False) "
   ]
  },
  {
   "cell_type": "code",
   "execution_count": 277,
   "id": "b713393d-6d67-43ad-9623-542fd2d9bfe1",
   "metadata": {},
   "outputs": [
    {
     "data": {
      "text/plain": [
       "2615.197277333985"
      ]
     },
     "execution_count": 277,
     "metadata": {},
     "output_type": "execute_result"
    }
   ],
   "source": [
    "#print the error\n",
    "#lr=.00033 neurons: 150, 100, and LSTM (change random seed back to 42, patience = 10)\n",
    "mean_squared_error( y_prediction[:,0], prediction, squared=False) "
   ]
  },
  {
   "cell_type": "code",
   "execution_count": 173,
   "id": "2be89964-0f2c-46d7-85a6-3ac5dd856baf",
   "metadata": {},
   "outputs": [
    {
     "data": {
      "text/plain": [
       "1206.5089533593755"
      ]
     },
     "execution_count": 173,
     "metadata": {},
     "output_type": "execute_result"
    }
   ],
   "source": [
    "#print the error\n",
    "#lr=.00033 neurons: 100, 50, and LSTM (change random seed back to 42, patience = 10)\n",
    "mean_squared_error( y_prediction[:,0], prediction, squared=False) "
   ]
  },
  {
   "cell_type": "code",
   "execution_count": 161,
   "id": "8a008412-ea10-4e34-8703-71b97ed13dd6",
   "metadata": {},
   "outputs": [
    {
     "data": {
      "text/plain": [
       "1459.0760920312505"
      ]
     },
     "execution_count": 161,
     "metadata": {},
     "output_type": "execute_result"
    }
   ],
   "source": [
    "#print the error\n",
    "#lr=.00033 neurons: 100, 100, and LSTM (change random seed back to 42, patience = 10)\n",
    "mean_squared_error( y_prediction[:,0], prediction, squared=False) "
   ]
  },
  {
   "cell_type": "code",
   "execution_count": 149,
   "id": "9ba00218-403d-47d8-8d53-3ef0869f78c3",
   "metadata": {},
   "outputs": [
    {
     "data": {
      "text/plain": [
       "749.7843439843755"
      ]
     },
     "execution_count": 149,
     "metadata": {},
     "output_type": "execute_result"
    }
   ],
   "source": [
    "#print the error\n",
    "#lr=.00033 neurons: 50, 50, and LSTM (change random seed back to 45, patience = 10)\n",
    "mean_squared_error( y_prediction[:,0], prediction, squared=False) "
   ]
  },
  {
   "cell_type": "code",
   "execution_count": 136,
   "id": "4a3d335f-7b32-4bac-9c66-5320853f3640",
   "metadata": {},
   "outputs": [
    {
     "data": {
      "text/plain": [
       "515.2340510156255"
      ]
     },
     "execution_count": 136,
     "metadata": {},
     "output_type": "execute_result"
    }
   ],
   "source": [
    "#print the error\n",
    "#lr=.00033 neurons: 50, 50, and LSTM (change random seed back to 42, patience = 7)\n",
    "mean_squared_error( y_prediction[:,0], prediction, squared=False) "
   ]
  },
  {
   "cell_type": "code",
   "execution_count": 123,
   "id": "a1077514-d2aa-44b9-ad00-92684c7b2fd7",
   "metadata": {},
   "outputs": [
    {
     "data": {
      "text/plain": [
       "75.88615062500048"
      ]
     },
     "execution_count": 123,
     "metadata": {},
     "output_type": "execute_result"
    }
   ],
   "source": [
    "#print the error\n",
    "#lr=.00033 neurons: 50, 50, and LSTM (change random seed back to 42, patience = 25)\n",
    "mean_squared_error( y_prediction[:,0], prediction, squared=False) "
   ]
  },
  {
   "cell_type": "code",
   "execution_count": null,
   "id": "0dcf592a-5952-4a08-8b85-b0f480c8ed27",
   "metadata": {},
   "outputs": [
    {
     "data": {
      "text/plain": [
       "742.5253107812505"
      ]
     },
     "execution_count": 111,
     "metadata": {},
     "output_type": "execute_result"
    }
   ],
   "source": [
    "#print the error\n",
    "#lr=.00033 neurons: 50, 50, and LSTM (patience = 15) (change random seed back to 42, patience = 45)\n",
    "mean_squared_error( y_prediction[:,0], prediction, squared=False) "
   ]
  },
  {
   "cell_type": "code",
   "execution_count": 99,
   "id": "11566d15-43f3-465d-a411-d66e83a843c1",
   "metadata": {
    "tags": []
   },
   "outputs": [
    {
     "data": {
      "text/plain": [
       "35.56388500000048"
      ]
     },
     "execution_count": 99,
     "metadata": {},
     "output_type": "execute_result"
    }
   ],
   "source": [
    "#print the error\n",
    "#lr=.00033 neurons: 50, 50, and LSTM (patience = 15) (change random seed back to 42, patience = 25)\n",
    "mean_squared_error( y_prediction[:,0], prediction, squared=False) "
   ]
  },
  {
   "cell_type": "code",
   "execution_count": 87,
   "id": "f7b19950-9dd6-47ff-b303-7863e603c155",
   "metadata": {
    "tags": []
   },
   "outputs": [
    {
     "data": {
      "text/plain": [
       "210.68717601562548"
      ]
     },
     "execution_count": 87,
     "metadata": {},
     "output_type": "execute_result"
    }
   ],
   "source": [
    "#print the error\n",
    "#lr=.00033 neurons: 50, 50, and LSTM (patience = 15) (change random seed back to 42)\n",
    "mean_squared_error( y_prediction[:,0], prediction, squared=False) "
   ]
  },
  {
   "cell_type": "code",
   "execution_count": 75,
   "id": "8e79f79d-3e5a-42fe-85fe-1135cbb35db4",
   "metadata": {
    "tags": []
   },
   "outputs": [
    {
     "data": {
      "text/plain": [
       "1539.860637929688"
      ]
     },
     "execution_count": 75,
     "metadata": {},
     "output_type": "execute_result"
    }
   ],
   "source": [
    "#print the error\n",
    "#lr=.00033 neurons: 50, 50, and LSTM (patience = 15) (change random seed to 43)\n",
    "mean_squared_error( y_prediction[:,0], prediction, squared=False) "
   ]
  },
  {
   "cell_type": "code",
   "execution_count": 701,
   "id": "873631d7-064f-4a11-8fbd-b174e83b2990",
   "metadata": {
    "tags": []
   },
   "outputs": [
    {
     "data": {
      "text/plain": [
       "210.68717601562548"
      ]
     },
     "execution_count": 701,
     "metadata": {},
     "output_type": "execute_result"
    }
   ],
   "source": [
    "#print the error\n",
    "#lr=.00033 neurons: 50, 50, and LSTM (patience = 15) (change random seed back to 42)\n",
    "mean_squared_error( y_prediction[:,0], prediction, squared=False) "
   ]
  },
  {
   "cell_type": "code",
   "execution_count": 676,
   "id": "b1c49c10-4c50-4273-abb3-b4998cf30e2e",
   "metadata": {
    "tags": []
   },
   "outputs": [
    {
     "data": {
      "text/plain": [
       "884.8146174218755"
      ]
     },
     "execution_count": 676,
     "metadata": {},
     "output_type": "execute_result"
    }
   ],
   "source": [
    "#print the error\n",
    "#lr=.00033 neurons: 53, 53, and LSTM (patience = 15) (change random seed back to 42)\n",
    "mean_squared_error( y_prediction[:,0], prediction, squared=False) "
   ]
  },
  {
   "cell_type": "code",
   "execution_count": 664,
   "id": "3d52f546-8cc1-4fd3-8b54-aed175f4cec5",
   "metadata": {
    "tags": []
   },
   "outputs": [
    {
     "data": {
      "text/plain": [
       "876.4464533593755"
      ]
     },
     "execution_count": 664,
     "metadata": {},
     "output_type": "execute_result"
    }
   ],
   "source": [
    "#print the error\n",
    "#lr=.00033 neurons: 56, 56, and LSTM (patience = 15) (change random seed back to 42)\n",
    "mean_squared_error( y_prediction[:,0], prediction, squared=False) "
   ]
  },
  {
   "cell_type": "code",
   "execution_count": 652,
   "id": "213da463-b259-4496-984b-eed6a86fbc38",
   "metadata": {
    "tags": []
   },
   "outputs": [
    {
     "data": {
      "text/plain": [
       "532.3680842187505"
      ]
     },
     "execution_count": 652,
     "metadata": {},
     "output_type": "execute_result"
    }
   ],
   "source": [
    "#print the error\n",
    "#lr=.00033 neurons: 57, 57, and LSTM (patience = 15) (change random seed back to 42)\n",
    "mean_squared_error( y_prediction[:,0], prediction, squared=False) "
   ]
  },
  {
   "cell_type": "code",
   "execution_count": 640,
   "id": "06e8396c-564e-4032-9c2a-65f25c9cd84b",
   "metadata": {
    "tags": []
   },
   "outputs": [
    {
     "data": {
      "text/plain": [
       "503.5094416406255"
      ]
     },
     "execution_count": 640,
     "metadata": {},
     "output_type": "execute_result"
    }
   ],
   "source": [
    "#print the error\n",
    "#lr=.00033 neurons: 55, 55, and LSTM (patience = 15) (change random seed back to 42)\n",
    "mean_squared_error( y_prediction[:,0], prediction, squared=False) "
   ]
  },
  {
   "cell_type": "code",
   "execution_count": 616,
   "id": "0835bc3c-e98f-48be-a8d4-a4b173658dd6",
   "metadata": {
    "tags": []
   },
   "outputs": [
    {
     "data": {
      "text/plain": [
       "1213.9515803125005"
      ]
     },
     "execution_count": 616,
     "metadata": {},
     "output_type": "execute_result"
    }
   ],
   "source": [
    "#print the error\n",
    "#lr=.00033 neurons: 70, 70, and LSTM (patience = 15) (change random seed back to 42)\n",
    "mean_squared_error( y_prediction[:,0], prediction, squared=False) "
   ]
  },
  {
   "cell_type": "code",
   "execution_count": 592,
   "id": "c82ae3e9-b236-432a-a60d-bfcf68a7d891",
   "metadata": {
    "tags": []
   },
   "outputs": [
    {
     "data": {
      "text/plain": [
       "771.6407892968755"
      ]
     },
     "execution_count": 592,
     "metadata": {},
     "output_type": "execute_result"
    }
   ],
   "source": [
    "#print the error\n",
    "#lr=.00033 neurons: 80, 80, and LSTM (patience = 15) (change random seed back to 42)\n",
    "mean_squared_error( y_prediction[:,0], prediction, squared=False) "
   ]
  },
  {
   "cell_type": "code",
   "execution_count": 567,
   "id": "64c7fa68-7ba6-46ce-af46-69f84a7040ef",
   "metadata": {
    "tags": []
   },
   "outputs": [
    {
     "data": {
      "text/plain": [
       "505.8824885156255"
      ]
     },
     "execution_count": 567,
     "metadata": {},
     "output_type": "execute_result"
    }
   ],
   "source": [
    "#print the error\n",
    "#lr=.00033 neurons: 60, 60, and LSTM (patience = 15) (change random seed back to 42)\n",
    "mean_squared_error( y_prediction[:,0], prediction, squared=False) "
   ]
  },
  {
   "cell_type": "code",
   "execution_count": 542,
   "id": "147bcb07-6eb1-4972-a04e-b97adf3d3d9c",
   "metadata": {},
   "outputs": [
    {
     "data": {
      "text/plain": [
       "1178.7889826562505"
      ]
     },
     "execution_count": 542,
     "metadata": {},
     "output_type": "execute_result"
    }
   ],
   "source": [
    "#print the error\n",
    "#lr=.00033 neurons: 45, 45, and LSTM (patience = 15) (change random seed back to 42)\n",
    "mean_squared_error( y_prediction[:,0], prediction, squared=False) "
   ]
  },
  {
   "cell_type": "code",
   "execution_count": 555,
   "id": "1d3066fc-bff0-43d7-8750-077ead48c265",
   "metadata": {},
   "outputs": [
    {
     "data": {
      "text/plain": [
       "871.9025080468755"
      ]
     },
     "execution_count": 555,
     "metadata": {},
     "output_type": "execute_result"
    }
   ],
   "source": [
    "#print the error\n",
    "#lr=.00033 neurons: 45, 45, 45, and LSTM (patience = 15) (change random seed back to 42)\n",
    "mean_squared_error( y_prediction[:,0], prediction, squared=False) "
   ]
  },
  {
   "cell_type": "code",
   "execution_count": 518,
   "id": "5ef7419c-1324-430e-8400-b3154d988afa",
   "metadata": {},
   "outputs": [
    {
     "data": {
      "text/plain": [
       "75.88615062500048"
      ]
     },
     "execution_count": 518,
     "metadata": {},
     "output_type": "execute_result"
    }
   ],
   "source": [
    "#print the error\n",
    "#lr=.00033 neurons: 50, 50, and LSTM (patience = 15) (change random seed back to 42)\n",
    "mean_squared_error( y_prediction[:,0], prediction, squared=False) "
   ]
  },
  {
   "cell_type": "code",
   "execution_count": 506,
   "id": "bbe7f40e-e5f1-40b8-aa65-a334687f76aa",
   "metadata": {},
   "outputs": [
    {
     "data": {
      "text/plain": [
       "455.9847834375005"
      ]
     },
     "execution_count": 506,
     "metadata": {},
     "output_type": "execute_result"
    }
   ],
   "source": [
    "#print the error\n",
    "#lr=.00033 neurons: 40, 40, and LSTM (patience = 15) (change random seed back to 42)\n",
    "mean_squared_error( y_prediction[:,0], prediction, squared=False) "
   ]
  },
  {
   "cell_type": "code",
   "execution_count": 494,
   "id": "bfed4a39-31a6-4bc5-9f02-dda87f092c6a",
   "metadata": {},
   "outputs": [
    {
     "data": {
      "text/plain": [
       "738.0941584375005"
      ]
     },
     "execution_count": 494,
     "metadata": {},
     "output_type": "execute_result"
    }
   ],
   "source": [
    "#print the error\n",
    "#lr=.00033 neurons: 30, 30, and LSTM (patience = 15) (change random seed back to 42)\n",
    "mean_squared_error( y_prediction[:,0], prediction, squared=False) "
   ]
  },
  {
   "cell_type": "code",
   "execution_count": 482,
   "id": "58358b87-f3c3-4169-847b-cf5f91db2d19",
   "metadata": {},
   "outputs": [
    {
     "data": {
      "text/plain": [
       "886.6027033593755"
      ]
     },
     "execution_count": 482,
     "metadata": {},
     "output_type": "execute_result"
    }
   ],
   "source": [
    "#print the error\n",
    "#lr=.00033 neurons: 20, 20, and LSTM (patience = 15) (change random seed back to 42)\n",
    "mean_squared_error( y_prediction[:,0], prediction, squared=False) "
   ]
  },
  {
   "cell_type": "code",
   "execution_count": 470,
   "id": "fd287e6d-7451-40e3-8fa7-cfcecd50ffa1",
   "metadata": {},
   "outputs": [
    {
     "data": {
      "text/plain": [
       "967.950725820313"
      ]
     },
     "execution_count": 470,
     "metadata": {},
     "output_type": "execute_result"
    }
   ],
   "source": [
    "#print the error\n",
    "#lr=.00033 neurons: 23, 20, 20, and LSTM (patience = 15) (change random seed back to 42)\n",
    "mean_squared_error( y_prediction[:,0], prediction, squared=False) "
   ]
  },
  {
   "cell_type": "code",
   "execution_count": 458,
   "id": "31f9eca7-e51c-451c-a09f-437460074509",
   "metadata": {},
   "outputs": [
    {
     "data": {
      "text/plain": [
       "1426.539593007813"
      ]
     },
     "execution_count": 458,
     "metadata": {},
     "output_type": "execute_result"
    }
   ],
   "source": [
    "#print the error\n",
    "#lr=.00033 neurons: 23, 20, 10, and LSTM (patience = 15) (change random seed back to 42)\n",
    "mean_squared_error( y_prediction[:,0], prediction, squared=False) "
   ]
  },
  {
   "cell_type": "code",
   "execution_count": 446,
   "id": "83367345-4f49-413c-b63e-deecef1434a0",
   "metadata": {},
   "outputs": [
    {
     "data": {
      "text/plain": [
       "765.2672541406255"
      ]
     },
     "execution_count": 446,
     "metadata": {},
     "output_type": "execute_result"
    }
   ],
   "source": [
    "#print the error\n",
    "#lr=.00033 neurons: 20, 20, 20, and LSTM (patience = 15) (change random seed to 35)\n",
    "mean_squared_error( y_prediction[:,0], prediction, squared=False) "
   ]
  },
  {
   "cell_type": "code",
   "execution_count": 434,
   "id": "066de8a3-c682-469c-b5dc-9010dd4ed4ee",
   "metadata": {},
   "outputs": [
    {
     "data": {
      "text/plain": [
       "659.0863459375005"
      ]
     },
     "execution_count": 434,
     "metadata": {},
     "output_type": "execute_result"
    }
   ],
   "source": [
    "#print the error\n",
    "#lr=.00033 neurons: 20, 20, 20, and LSTM (patience = 15) (change random seed to 41)\n",
    "mean_squared_error( y_prediction[:,0], prediction, squared=False) "
   ]
  },
  {
   "cell_type": "code",
   "execution_count": 422,
   "id": "4b0ab264-8e0e-407c-866a-9b16d2276838",
   "metadata": {},
   "outputs": [
    {
     "data": {
      "text/plain": [
       "801.7076838281255"
      ]
     },
     "execution_count": 422,
     "metadata": {},
     "output_type": "execute_result"
    }
   ],
   "source": [
    "#print the error\n",
    "#lr=.00033 neurons: 20, 20, 20, and LSTM (patience = 15) (change random seed back to 42)\n",
    "mean_squared_error( y_prediction[:,0], prediction, squared=False) "
   ]
  },
  {
   "cell_type": "code",
   "execution_count": 410,
   "id": "dffd0cc7-531b-4688-af22-22e561857efe",
   "metadata": {},
   "outputs": [
    {
     "data": {
      "text/plain": [
       "1785.147991445313"
      ]
     },
     "execution_count": 410,
     "metadata": {},
     "output_type": "execute_result"
    }
   ],
   "source": [
    "#print the error\n",
    "#lr=.00033 neurons: 20, 20, 20, and LSTM (patience = 15) (change random seed to 4)\n",
    "mean_squared_error( y_prediction[:,0], prediction, squared=False) "
   ]
  },
  {
   "cell_type": "code",
   "execution_count": 398,
   "id": "7a070cbf-e3e0-47a2-aa60-23a0d1f975f8",
   "metadata": {},
   "outputs": [
    {
     "data": {
      "text/plain": [
       "1773.8578303125005"
      ]
     },
     "execution_count": 398,
     "metadata": {},
     "output_type": "execute_result"
    }
   ],
   "source": [
    "#print the error\n",
    "#lr=.00033 neurons: 20, 20, 20, and GRU (patience = 15)\n",
    "mean_squared_error( y_prediction[:,0], prediction, squared=False) "
   ]
  },
  {
   "cell_type": "code",
   "execution_count": 386,
   "id": "8fceb693-7119-40e9-9e49-9f38fd0fac65",
   "metadata": {},
   "outputs": [
    {
     "data": {
      "text/plain": [
       "1978.356731679688"
      ]
     },
     "execution_count": 386,
     "metadata": {},
     "output_type": "execute_result"
    }
   ],
   "source": [
    "#print the error\n",
    "#lr=.00033 neurons: 20, 20, 20, 20 and LSTM (patience = 15)\n",
    "mean_squared_error( y_prediction[:,0], prediction, squared=False) "
   ]
  },
  {
   "cell_type": "code",
   "execution_count": 374,
   "id": "33e282bd-4c17-4d42-af4d-e9c84ef45726",
   "metadata": {},
   "outputs": [
    {
     "data": {
      "text/plain": [
       "801.7076838281255"
      ]
     },
     "execution_count": 374,
     "metadata": {},
     "output_type": "execute_result"
    }
   ],
   "source": [
    "#print the error\n",
    "#lr=.00033 neurons: 20, 20, 20 and LSTM (patience = 15)\n",
    "mean_squared_error( y_prediction[:,0], prediction, squared=False) "
   ]
  },
  {
   "cell_type": "code",
   "execution_count": 362,
   "id": "58c58599-1e07-40ff-a9fe-a26d76da31ed",
   "metadata": {},
   "outputs": [
    {
     "data": {
      "text/plain": [
       "1738.8541682031255"
      ]
     },
     "execution_count": 362,
     "metadata": {},
     "output_type": "execute_result"
    }
   ],
   "source": [
    "#print the error\n",
    "#lr=.00033 neurons: 10, 10, 10 and LSTM (patience = 15)\n",
    "mean_squared_error( y_prediction[:,0], prediction, squared=False) "
   ]
  },
  {
   "cell_type": "code",
   "execution_count": 350,
   "id": "19584798-8264-4d46-9bcd-f33b8ca126c8",
   "metadata": {},
   "outputs": [
    {
     "data": {
      "text/plain": [
       "1678.3419611718755"
      ]
     },
     "execution_count": 350,
     "metadata": {},
     "output_type": "execute_result"
    }
   ],
   "source": [
    "#print the error\n",
    "#lr=.00033 neurons: 20, 20, 20, 10 and LSTM (patience = 15)\n",
    "mean_squared_error( y_prediction[:,0], prediction, squared=False) "
   ]
  },
  {
   "cell_type": "code",
   "execution_count": 338,
   "id": "931a6884-293e-467e-a9fa-38ccb2e2aae7",
   "metadata": {},
   "outputs": [
    {
     "data": {
      "text/plain": [
       "1658.996380117188"
      ]
     },
     "execution_count": 338,
     "metadata": {},
     "output_type": "execute_result"
    }
   ],
   "source": [
    "#print the error\n",
    "#lr=.00033 neurons: 20, 20, 20, 10 and LSTM (patience = 25)\n",
    "mean_squared_error( y_prediction[:,0], prediction, squared=False) "
   ]
  },
  {
   "cell_type": "code",
   "execution_count": null,
   "id": "117bb5cd-2ae4-4d7a-a53f-5e2d51d81e20",
   "metadata": {},
   "outputs": [
    {
     "data": {
      "text/plain": [
       "962.8087580468755"
      ]
     },
     "execution_count": 326,
     "metadata": {},
     "output_type": "execute_result"
    }
   ],
   "source": [
    "#print the error\n",
    "#lr=.00033 neurons: 20, 20, 10 and LSTM (patience = 15)\n",
    "mean_squared_error( y_prediction[:,0], prediction, squared=False) "
   ]
  },
  {
   "cell_type": "code",
   "execution_count": null,
   "id": "c2314c55-b14a-4d97-8ab1-5c36271c96b0",
   "metadata": {},
   "outputs": [
    {
     "data": {
      "text/plain": [
       "1672.240520742188"
      ]
     },
     "execution_count": 314,
     "metadata": {},
     "output_type": "execute_result"
    }
   ],
   "source": [
    "#print the error\n",
    "#lr=.00033 neurons: 20, 10 and LSTM (patience = 5 for all previous runs)\n",
    "mean_squared_error( y_prediction[:,0], prediction, squared=False) "
   ]
  },
  {
   "cell_type": "code",
   "execution_count": null,
   "id": "cee0d518-c865-489f-93be-0480f2d4cb7b",
   "metadata": {},
   "outputs": [
    {
     "data": {
      "text/plain": [
       "1660.0836603906255"
      ]
     },
     "execution_count": 302,
     "metadata": {},
     "output_type": "execute_result"
    }
   ],
   "source": [
    "#print the error\n",
    "#lr=.00033 neurons: 20, 10 and GRU\n",
    "mean_squared_error( y_prediction[:,0], prediction, squared=False) "
   ]
  },
  {
   "cell_type": "code",
   "execution_count": null,
   "id": "3adc1905-b0da-4b5e-832a-709493e53358",
   "metadata": {},
   "outputs": [
    {
     "data": {
      "text/plain": [
       "1864.920696523438"
      ]
     },
     "execution_count": 290,
     "metadata": {},
     "output_type": "execute_result"
    }
   ],
   "source": [
    "#print the error\n",
    "#lr=.00033 neurons: 30, 4\n",
    "mean_squared_error( y_prediction[:,0], prediction, squared=False) "
   ]
  },
  {
   "cell_type": "code",
   "execution_count": null,
   "id": "5b25bdc3-8a32-4a86-bd63-c4729ec7737d",
   "metadata": {},
   "outputs": [
    {
     "data": {
      "text/plain": [
       "1935.566936757813"
      ]
     },
     "execution_count": 278,
     "metadata": {},
     "output_type": "execute_result"
    }
   ],
   "source": [
    "#print the error\n",
    "#lr=.00033 neurons: 23, 17, 4\n",
    "mean_squared_error( y_prediction[:,0], prediction, squared=False) "
   ]
  },
  {
   "cell_type": "code",
   "execution_count": null,
   "id": "3814c2de-bdfe-4050-ba3a-1197308df97c",
   "metadata": {},
   "outputs": [
    {
     "data": {
      "text/plain": [
       "1574.828899648438"
      ]
     },
     "execution_count": 266,
     "metadata": {},
     "output_type": "execute_result"
    }
   ],
   "source": [
    "#print the error\n",
    "#lr=.00033 neurons: 17 and 10\n",
    "mean_squared_error( y_prediction[:,0], prediction, squared=False) "
   ]
  },
  {
   "cell_type": "code",
   "execution_count": null,
   "id": "f1edb00e-2558-4320-9e81-ea1f6d764145",
   "metadata": {},
   "outputs": [
    {
     "data": {
      "text/plain": [
       "1152.142376210938"
      ]
     },
     "execution_count": 254,
     "metadata": {},
     "output_type": "execute_result"
    }
   ],
   "source": [
    "#print the error\n",
    "#lr=.00033 neurons: 20\n",
    "mean_squared_error( y_prediction[:,0], prediction, squared=False) "
   ]
  },
  {
   "cell_type": "code",
   "execution_count": null,
   "id": "a2b57a2f-20d0-4fac-893d-2b568d6eae3b",
   "metadata": {},
   "outputs": [
    {
     "data": {
      "text/plain": [
       "1841.555462148438"
      ]
     },
     "execution_count": 242,
     "metadata": {},
     "output_type": "execute_result"
    }
   ],
   "source": [
    "#print the error\n",
    "#lr=.00032\n",
    "mean_squared_error( y_prediction[:,0], prediction, squared=False) "
   ]
  },
  {
   "cell_type": "code",
   "execution_count": null,
   "id": "a2dc3e29-18b9-4f6a-961c-93b9dbc83f39",
   "metadata": {},
   "outputs": [
    {
     "data": {
      "text/plain": [
       "1158.312298085938"
      ]
     },
     "execution_count": 230,
     "metadata": {},
     "output_type": "execute_result"
    }
   ],
   "source": [
    "#print the error\n",
    "#lr=.00034\n",
    "mean_squared_error( y_prediction[:,0], prediction, squared=False) "
   ]
  },
  {
   "cell_type": "code",
   "execution_count": null,
   "id": "726423a9-cc68-4fb2-8cb2-6d838c14303d",
   "metadata": {},
   "outputs": [
    {
     "data": {
      "text/plain": [
       "1172.9293635156255"
      ]
     },
     "execution_count": 218,
     "metadata": {},
     "output_type": "execute_result"
    }
   ],
   "source": [
    "#print the error\n",
    "#lr=.00036\n",
    "mean_squared_error( y_prediction[:,0], prediction, squared=False) "
   ]
  },
  {
   "cell_type": "code",
   "execution_count": null,
   "id": "0835cd95-d675-4f7a-ba56-89db14ecb319",
   "metadata": {},
   "outputs": [
    {
     "data": {
      "text/plain": [
       "1191.555706289063"
      ]
     },
     "execution_count": 206,
     "metadata": {},
     "output_type": "execute_result"
    }
   ],
   "source": [
    "#print the error\n",
    "#lr=.00038\n",
    "mean_squared_error( y_prediction[:,0], prediction, squared=False) "
   ]
  },
  {
   "cell_type": "code",
   "execution_count": null,
   "id": "282c9688-c2a0-4204-a290-380486c176ea",
   "metadata": {},
   "outputs": [
    {
     "data": {
      "text/plain": [
       "1290.710491445313"
      ]
     },
     "execution_count": 194,
     "metadata": {},
     "output_type": "execute_result"
    }
   ],
   "source": [
    "#print the error\n",
    "#lr=.00047\n",
    "mean_squared_error( y_prediction[:,0], prediction, squared=False) "
   ]
  },
  {
   "cell_type": "code",
   "execution_count": null,
   "id": "58fb0e5f-fa28-444e-b96c-4cc04f1c2a2c",
   "metadata": {},
   "outputs": [
    {
     "data": {
      "text/plain": [
       "1272.2255060937505"
      ]
     },
     "execution_count": 182,
     "metadata": {},
     "output_type": "execute_result"
    }
   ],
   "source": [
    "#print the error\n",
    "#lr =.00045\n",
    "mean_squared_error( y_prediction[:,0], prediction, squared=False) "
   ]
  },
  {
   "cell_type": "code",
   "execution_count": null,
   "id": "e8b4430d-05a9-427f-b194-bcfc6f3c1c84",
   "metadata": {},
   "outputs": [
    {
     "data": {
      "text/plain": [
       "1215.568889882813"
      ]
     },
     "execution_count": 170,
     "metadata": {},
     "output_type": "execute_result"
    }
   ],
   "source": [
    "#print the error\n",
    "#lr =.0004\n",
    "mean_squared_error( y_prediction[:,0], prediction, squared=False) "
   ]
  },
  {
   "cell_type": "code",
   "execution_count": null,
   "id": "a695bc7f-585f-4e0e-975e-4000c5f12bd2",
   "metadata": {},
   "outputs": [
    {
     "data": {
      "text/plain": [
       "1382.1302912500005"
      ]
     },
     "execution_count": 153,
     "metadata": {},
     "output_type": "execute_result"
    }
   ],
   "source": [
    "#print the error\n",
    "#lr=.0005\n",
    "mean_squared_error( y_prediction[:,0], prediction, squared=False) "
   ]
  },
  {
   "cell_type": "markdown",
   "id": "554ad58e-5b0a-443c-ab6d-2123e4c4e466",
   "metadata": {
    "tags": []
   },
   "source": [
    "# 5 Day Prediction"
   ]
  },
  {
   "cell_type": "code",
   "execution_count": 115,
   "id": "7407c49d-4632-438e-aeee-bcc4ea9c0e5b",
   "metadata": {},
   "outputs": [],
   "source": [
    "#As required for LSTM networks, we require to reshape an input data into n_samples x timesteps x n_features. \n",
    "#The samples are the number of rows. Timestep is how many previous predictions are to be used to calculate future predictions.\n",
    "#Features is simply the number of columns/features in the training dataset.\n",
    "\n",
    "FEATURES = scaled_data.shape[1]  #the number of features/dimensions in the data set\n",
    "STEPS =  10        #Should be 10               #the timestep used to predict   #use the past 5 days to predict 1 day in the future\n",
    "FUTURE = 5       #Should be 5               #how many days in the future to predict\n",
    "\n",
    "#steps should be greater than or equal to future"
   ]
  },
  {
   "cell_type": "code",
   "execution_count": 116,
   "id": "5e5bf4c9-a0fd-4882-b27a-7ff470a8c33f",
   "metadata": {},
   "outputs": [
    {
     "data": {
      "text/plain": [
       "((2363, 10, 23), (2363, 1))"
      ]
     },
     "execution_count": 116,
     "metadata": {},
     "output_type": "execute_result"
    }
   ],
   "source": [
    "#Empty lists to be populated using formatted training data\n",
    "trainX = []\n",
    "trainY = []\n",
    "\n",
    "#Reformat input data into a shape: (n_samples x timesteps x features)\n",
    "for i in range(STEPS, len(scaled_data) - FUTURE + 1):\n",
    "    trainX.append(scaled_data[i - STEPS     :i         , 0:scaled_data.shape[1] ] )\n",
    "    trainY.append(scaled_data[i + FUTURE - 1:i + FUTURE, 0])\n",
    "\n",
    "trainX, trainY = np.array(trainX), np.array(trainY)\n",
    "\n",
    "trainX.shape, trainY.shape"
   ]
  },
  {
   "cell_type": "code",
   "execution_count": 117,
   "id": "d43e18ac-d0fd-4a40-aecc-c667f7f109c7",
   "metadata": {
    "collapsed": true,
    "jupyter": {
     "outputs_hidden": true
    },
    "tags": []
   },
   "outputs": [
    {
     "data": {
      "text/plain": [
       "array([[1.62135258e-04, 9.04813292e-04, 1.47542221e-04, 0.00000000e+00,\n",
       "        0.00000000e+00, 7.35103302e-04, 3.12342987e-02, 5.53706524e-04,\n",
       "        1.17849650e-03, 4.17154653e-04, 0.00000000e+00, 3.25432718e-03,\n",
       "        6.09891278e-03, 1.93130855e-03, 1.78617803e-03, 9.43724194e-04,\n",
       "        0.00000000e+00, 6.54649272e-05, 5.72129077e-02, 4.95270382e-05,\n",
       "        2.20105708e-05, 7.32102261e-04, 0.00000000e+00],\n",
       "       [1.62135258e-04, 0.00000000e+00, 1.09556161e-05, 5.01599918e-06,\n",
       "        5.98665543e-04, 8.07756792e-04, 0.00000000e+00, 6.10150640e-04,\n",
       "        3.82356222e-03, 1.93574821e-04, 7.92954274e-04, 3.38430764e-03,\n",
       "        4.95875995e-03, 2.01507152e-03, 2.12547762e-03, 7.64415062e-04,\n",
       "        9.77600120e-04, 7.66058441e-05, 7.24318102e-02, 5.82034400e-05,\n",
       "        1.98392602e-05, 5.97058003e-04, 3.97955123e-04],\n",
       "       [1.62135258e-04, 4.12762765e-04, 1.56360362e-05, 1.58119083e-05,\n",
       "        1.21140789e-03, 7.86767641e-04, 6.77661842e-02, 5.94925258e-04,\n",
       "        7.43009115e-04, 4.96035479e-04, 1.72551317e-03, 3.44216503e-03,\n",
       "        6.64184270e-03, 2.05481085e-03, 1.88076562e-03, 8.04262227e-04,\n",
       "        1.97834924e-03, 7.25297921e-05, 6.37459729e-02, 5.50614948e-05,\n",
       "        3.49182972e-05, 5.37184239e-04, 7.95910246e-04],\n",
       "       [1.18484977e-04, 2.11861566e-03, 1.05573154e-05, 2.87664295e-05,\n",
       "        1.82878655e-03, 8.83202072e-04, 6.78954531e-02, 6.69761609e-04,\n",
       "        1.17129330e-03, 4.35543348e-04, 2.63015115e-03, 3.94129747e-03,\n",
       "        5.72338625e-03, 2.36538805e-03, 1.92952122e-03, 8.04262227e-04,\n",
       "        2.97909836e-03, 7.67240540e-05, 5.66747146e-02, 5.83434368e-05,\n",
       "        2.56018736e-05, 5.81303883e-04, 1.19386537e-03],\n",
       "       [1.80429755e-04, 4.12179766e-04, 7.15614624e-06, 3.54164123e-05,\n",
       "        2.43169566e-03, 8.34518315e-04, 7.03076600e-02, 6.33071886e-04,\n",
       "        2.02006125e-03, 0.00000000e+00, 3.33375846e-03, 3.69828276e-03,\n",
       "        6.09438837e-03, 2.22070499e-03, 1.51800465e-03, 8.34108929e-04,\n",
       "        3.99231233e-03, 7.07916690e-05, 5.71979579e-02, 5.37580812e-05,\n",
       "        1.61246468e-05, 5.48232879e-04, 1.59182049e-03],\n",
       "       [3.04485604e-04, 8.82076360e-04, 2.63521883e-05, 4.79051725e-05,\n",
       "        3.05436771e-03, 7.83244726e-04, 6.74734999e-02, 5.94487235e-04,\n",
       "        1.64100093e-03, 2.54066953e-04, 4.15463366e-03, 3.28982019e-03,\n",
       "        4.41130561e-03, 1.97416648e-03, 7.91507230e-04, 8.02133090e-04,\n",
       "        5.00908768e-03, 6.50271128e-05, 5.52096337e-02, 4.93017873e-05,\n",
       "        9.71100719e-06, 4.65582888e-04, 1.98977561e-03],\n",
       "       [2.85828204e-04, 1.07563178e-03, 3.19872083e-05, 8.54878351e-05,\n",
       "        3.73956639e-03, 8.07963551e-04, 5.45709979e-02, 6.14206259e-04,\n",
       "        2.01731800e-03, 1.93574821e-04, 4.94758793e-03, 3.63459856e-03,\n",
       "        4.69181940e-03, 2.19030029e-03, 1.37114492e-03, 7.06615983e-04,\n",
       "        5.98846849e-03, 6.65331943e-05, 4.32796884e-02, 5.04952136e-05,\n",
       "        8.91441194e-06, 4.27319620e-04, 2.35711880e-03],\n",
       "       [2.83162974e-04, 5.56763334e-04, 1.23263547e-04, 1.17307882e-04,\n",
       "        4.36762457e-03, 7.42329835e-04, 2.01537568e-02, 5.64516366e-04,\n",
       "        2.14211743e-03, 1.33082690e-04, 5.71262128e-03, 3.40711524e-03,\n",
       "        3.25305511e-03, 2.05469682e-03, 1.30689033e-03, 7.65745621e-04,\n",
       "        6.99099831e-03, 5.81052672e-05, 1.01269986e-01, 4.39673051e-05,\n",
       "        1.32959969e-05, 5.04818536e-04, 2.75507393e-03],\n",
       "       [2.31372844e-04, 6.47711061e-04, 2.10739650e-05, 1.22643709e-04,\n",
       "        4.96444554e-03, 6.97683642e-04, 1.15366416e-03, 5.30930234e-04,\n",
       "        2.07595777e-03, 1.45181116e-04, 6.48323882e-03, 3.49074797e-03,\n",
       "        4.41130561e-03, 2.11026891e-03, 1.68308199e-03, 6.23038866e-04,\n",
       "        7.94723012e-03, 5.24268145e-05, 1.63109859e-01, 3.95751347e-05,\n",
       "        1.54645479e-05, 4.71176608e-04, 3.15302905e-03],\n",
       "       [1.82171692e-04, 6.89686936e-04, 2.55306338e-05, 1.49596282e-04,\n",
       "        5.58383045e-03, 6.83998482e-04, 7.92369719e-02, 5.21163219e-04,\n",
       "        3.04686653e-03, 2.54066953e-04, 7.30411402e-03, 3.55854769e-03,\n",
       "        7.49243291e-03, 2.15652235e-03, 2.13695752e-03, 8.05719665e-04,\n",
       "        8.98893516e-03, 5.47238807e-05, 5.68316876e-02, 4.13811244e-05,\n",
       "        4.91559951e-06, 4.61858475e-04, 3.52037224e-03]])"
      ]
     },
     "execution_count": 117,
     "metadata": {},
     "output_type": "execute_result"
    }
   ],
   "source": [
    "#added from class\n",
    "trainX[0]"
   ]
  },
  {
   "cell_type": "code",
   "execution_count": 118,
   "id": "ad36892e-3fec-4417-a382-69230636448f",
   "metadata": {},
   "outputs": [
    {
     "data": {
      "text/plain": [
       "array([0.00020371])"
      ]
     },
     "execution_count": 118,
     "metadata": {},
     "output_type": "execute_result"
    }
   ],
   "source": [
    "#added from class\n",
    "trainY[0]"
   ]
  },
  {
   "cell_type": "markdown",
   "id": "8bad0c72-14eb-4ff2-98d8-54af906d1dbd",
   "metadata": {
    "tags": []
   },
   "source": [
    "### Save FUTURE data points to predict"
   ]
  },
  {
   "cell_type": "code",
   "execution_count": 119,
   "id": "c59096be-0834-4251-908e-dadcb8633f5f",
   "metadata": {
    "tags": []
   },
   "outputs": [
    {
     "data": {
      "text/plain": [
       "((2358, 10, 23), (2358, 1), (5, 10, 23), (5, 1))"
      ]
     },
     "execution_count": 119,
     "metadata": {},
     "output_type": "execute_result"
    }
   ],
   "source": [
    "#For demonstrations purposes, keep the predictions aside so you can evaluate the results\n",
    "toPredict = trainX[-FUTURE:].copy()\n",
    "prediction = trainY[-FUTURE:].copy()\n",
    "prediction = yScaler.inverse_transform( prediction )\n",
    "\n",
    "#remove future predictions from dataset\n",
    "trainX = trainX[:-FUTURE].copy()\n",
    "trainY = trainY[:-FUTURE].copy()\n",
    "\n",
    "trainX.shape, trainY.shape, toPredict.shape, prediction.shape\n",
    "#726 rows, 5 by 6 (its going to learn from 5 sets of 6 features, 5 sequential examples that has 6 features)"
   ]
  },
  {
   "cell_type": "markdown",
   "id": "c64d7e05-5ce1-4e1e-8d3f-781ebbaf86b7",
   "metadata": {},
   "source": [
    "#### Create Test by splitting the training data sets"
   ]
  },
  {
   "cell_type": "code",
   "execution_count": 120,
   "id": "6510f3dc-5b74-436d-9c9c-6d273c879e3c",
   "metadata": {
    "tags": []
   },
   "outputs": [
    {
     "data": {
      "text/plain": [
       "((1886, 10, 23), (1886, 1), (472, 10, 23), (472, 1))"
      ]
     },
     "execution_count": 120,
     "metadata": {},
     "output_type": "execute_result"
    }
   ],
   "source": [
    "#split into train and test sets\n",
    "X_train, X_test, y_train, y_test = train_test_split(trainX, \n",
    "                                                    trainY, \n",
    "                                                    test_size=0.2, \n",
    "                                                    shuffle = False)\n",
    "X_train.shape,  y_train.shape, X_test.shape,  y_test.shape"
   ]
  },
  {
   "cell_type": "code",
   "execution_count": 121,
   "id": "b0dcb5c2-48b6-4e2f-b7b2-f0e3d2c9b707",
   "metadata": {
    "collapsed": true,
    "jupyter": {
     "outputs_hidden": true
    },
    "tags": []
   },
   "outputs": [
    {
     "name": "stdout",
     "output_type": "stream",
     "text": [
      "[[1.62135258e-04 9.04813292e-04 1.47542221e-04 0.00000000e+00\n",
      "  0.00000000e+00 7.35103302e-04 3.12342987e-02 5.53706524e-04\n",
      "  1.17849650e-03 4.17154653e-04 0.00000000e+00 3.25432718e-03\n",
      "  6.09891278e-03 1.93130855e-03 1.78617803e-03 9.43724194e-04\n",
      "  0.00000000e+00 6.54649272e-05 5.72129077e-02 4.95270382e-05\n",
      "  2.20105708e-05 7.32102261e-04 0.00000000e+00]\n",
      " [1.62135258e-04 0.00000000e+00 1.09556161e-05 5.01599918e-06\n",
      "  5.98665543e-04 8.07756792e-04 0.00000000e+00 6.10150640e-04\n",
      "  3.82356222e-03 1.93574821e-04 7.92954274e-04 3.38430764e-03\n",
      "  4.95875995e-03 2.01507152e-03 2.12547762e-03 7.64415062e-04\n",
      "  9.77600120e-04 7.66058441e-05 7.24318102e-02 5.82034400e-05\n",
      "  1.98392602e-05 5.97058003e-04 3.97955123e-04]\n",
      " [1.62135258e-04 4.12762765e-04 1.56360362e-05 1.58119083e-05\n",
      "  1.21140789e-03 7.86767641e-04 6.77661842e-02 5.94925258e-04\n",
      "  7.43009115e-04 4.96035479e-04 1.72551317e-03 3.44216503e-03\n",
      "  6.64184270e-03 2.05481085e-03 1.88076562e-03 8.04262227e-04\n",
      "  1.97834924e-03 7.25297921e-05 6.37459729e-02 5.50614948e-05\n",
      "  3.49182972e-05 5.37184239e-04 7.95910246e-04]\n",
      " [1.18484977e-04 2.11861566e-03 1.05573154e-05 2.87664295e-05\n",
      "  1.82878655e-03 8.83202072e-04 6.78954531e-02 6.69761609e-04\n",
      "  1.17129330e-03 4.35543348e-04 2.63015115e-03 3.94129747e-03\n",
      "  5.72338625e-03 2.36538805e-03 1.92952122e-03 8.04262227e-04\n",
      "  2.97909836e-03 7.67240540e-05 5.66747146e-02 5.83434368e-05\n",
      "  2.56018736e-05 5.81303883e-04 1.19386537e-03]\n",
      " [1.80429755e-04 4.12179766e-04 7.15614624e-06 3.54164123e-05\n",
      "  2.43169566e-03 8.34518315e-04 7.03076600e-02 6.33071886e-04\n",
      "  2.02006125e-03 0.00000000e+00 3.33375846e-03 3.69828276e-03\n",
      "  6.09438837e-03 2.22070499e-03 1.51800465e-03 8.34108929e-04\n",
      "  3.99231233e-03 7.07916690e-05 5.71979579e-02 5.37580812e-05\n",
      "  1.61246468e-05 5.48232879e-04 1.59182049e-03]\n",
      " [3.04485604e-04 8.82076360e-04 2.63521883e-05 4.79051725e-05\n",
      "  3.05436771e-03 7.83244726e-04 6.74734999e-02 5.94487235e-04\n",
      "  1.64100093e-03 2.54066953e-04 4.15463366e-03 3.28982019e-03\n",
      "  4.41130561e-03 1.97416648e-03 7.91507230e-04 8.02133090e-04\n",
      "  5.00908768e-03 6.50271128e-05 5.52096337e-02 4.93017873e-05\n",
      "  9.71100719e-06 4.65582888e-04 1.98977561e-03]\n",
      " [2.85828204e-04 1.07563178e-03 3.19872083e-05 8.54878351e-05\n",
      "  3.73956639e-03 8.07963551e-04 5.45709979e-02 6.14206259e-04\n",
      "  2.01731800e-03 1.93574821e-04 4.94758793e-03 3.63459856e-03\n",
      "  4.69181940e-03 2.19030029e-03 1.37114492e-03 7.06615983e-04\n",
      "  5.98846849e-03 6.65331943e-05 4.32796884e-02 5.04952136e-05\n",
      "  8.91441194e-06 4.27319620e-04 2.35711880e-03]\n",
      " [2.83162974e-04 5.56763334e-04 1.23263547e-04 1.17307882e-04\n",
      "  4.36762457e-03 7.42329835e-04 2.01537568e-02 5.64516366e-04\n",
      "  2.14211743e-03 1.33082690e-04 5.71262128e-03 3.40711524e-03\n",
      "  3.25305511e-03 2.05469682e-03 1.30689033e-03 7.65745621e-04\n",
      "  6.99099831e-03 5.81052672e-05 1.01269986e-01 4.39673051e-05\n",
      "  1.32959969e-05 5.04818536e-04 2.75507393e-03]\n",
      " [2.31372844e-04 6.47711061e-04 2.10739650e-05 1.22643709e-04\n",
      "  4.96444554e-03 6.97683642e-04 1.15366416e-03 5.30930234e-04\n",
      "  2.07595777e-03 1.45181116e-04 6.48323882e-03 3.49074797e-03\n",
      "  4.41130561e-03 2.11026891e-03 1.68308199e-03 6.23038866e-04\n",
      "  7.94723012e-03 5.24268145e-05 1.63109859e-01 3.95751347e-05\n",
      "  1.54645479e-05 4.71176608e-04 3.15302905e-03]\n",
      " [1.82171692e-04 6.89686936e-04 2.55306338e-05 1.49596282e-04\n",
      "  5.58383045e-03 6.83998482e-04 7.92369719e-02 5.21163219e-04\n",
      "  3.04686653e-03 2.54066953e-04 7.30411402e-03 3.55854769e-03\n",
      "  7.49243291e-03 2.15652235e-03 2.13695752e-03 8.05719665e-04\n",
      "  8.98893516e-03 5.47238807e-05 5.68316876e-02 4.13811244e-05\n",
      "  4.91559951e-06 4.61858475e-04 3.52037224e-03]] => [0.00020371]\n",
      "[[1.62135258e-04 0.00000000e+00 1.09556161e-05 5.01599918e-06\n",
      "  5.98665543e-04 8.07756792e-04 0.00000000e+00 6.10150640e-04\n",
      "  3.82356222e-03 1.93574821e-04 7.92954274e-04 3.38430764e-03\n",
      "  4.95875995e-03 2.01507152e-03 2.12547762e-03 7.64415062e-04\n",
      "  9.77600120e-04 7.66058441e-05 7.24318102e-02 5.82034400e-05\n",
      "  1.98392602e-05 5.97058003e-04 3.97955123e-04]\n",
      " [1.62135258e-04 4.12762765e-04 1.56360362e-05 1.58119083e-05\n",
      "  1.21140789e-03 7.86767641e-04 6.77661842e-02 5.94925258e-04\n",
      "  7.43009115e-04 4.96035479e-04 1.72551317e-03 3.44216503e-03\n",
      "  6.64184270e-03 2.05481085e-03 1.88076562e-03 8.04262227e-04\n",
      "  1.97834924e-03 7.25297921e-05 6.37459729e-02 5.50614948e-05\n",
      "  3.49182972e-05 5.37184239e-04 7.95910246e-04]\n",
      " [1.18484977e-04 2.11861566e-03 1.05573154e-05 2.87664295e-05\n",
      "  1.82878655e-03 8.83202072e-04 6.78954531e-02 6.69761609e-04\n",
      "  1.17129330e-03 4.35543348e-04 2.63015115e-03 3.94129747e-03\n",
      "  5.72338625e-03 2.36538805e-03 1.92952122e-03 8.04262227e-04\n",
      "  2.97909836e-03 7.67240540e-05 5.66747146e-02 5.83434368e-05\n",
      "  2.56018736e-05 5.81303883e-04 1.19386537e-03]\n",
      " [1.80429755e-04 4.12179766e-04 7.15614624e-06 3.54164123e-05\n",
      "  2.43169566e-03 8.34518315e-04 7.03076600e-02 6.33071886e-04\n",
      "  2.02006125e-03 0.00000000e+00 3.33375846e-03 3.69828276e-03\n",
      "  6.09438837e-03 2.22070499e-03 1.51800465e-03 8.34108929e-04\n",
      "  3.99231233e-03 7.07916690e-05 5.71979579e-02 5.37580812e-05\n",
      "  1.61246468e-05 5.48232879e-04 1.59182049e-03]\n",
      " [3.04485604e-04 8.82076360e-04 2.63521883e-05 4.79051725e-05\n",
      "  3.05436771e-03 7.83244726e-04 6.74734999e-02 5.94487235e-04\n",
      "  1.64100093e-03 2.54066953e-04 4.15463366e-03 3.28982019e-03\n",
      "  4.41130561e-03 1.97416648e-03 7.91507230e-04 8.02133090e-04\n",
      "  5.00908768e-03 6.50271128e-05 5.52096337e-02 4.93017873e-05\n",
      "  9.71100719e-06 4.65582888e-04 1.98977561e-03]\n",
      " [2.85828204e-04 1.07563178e-03 3.19872083e-05 8.54878351e-05\n",
      "  3.73956639e-03 8.07963551e-04 5.45709979e-02 6.14206259e-04\n",
      "  2.01731800e-03 1.93574821e-04 4.94758793e-03 3.63459856e-03\n",
      "  4.69181940e-03 2.19030029e-03 1.37114492e-03 7.06615983e-04\n",
      "  5.98846849e-03 6.65331943e-05 4.32796884e-02 5.04952136e-05\n",
      "  8.91441194e-06 4.27319620e-04 2.35711880e-03]\n",
      " [2.83162974e-04 5.56763334e-04 1.23263547e-04 1.17307882e-04\n",
      "  4.36762457e-03 7.42329835e-04 2.01537568e-02 5.64516366e-04\n",
      "  2.14211743e-03 1.33082690e-04 5.71262128e-03 3.40711524e-03\n",
      "  3.25305511e-03 2.05469682e-03 1.30689033e-03 7.65745621e-04\n",
      "  6.99099831e-03 5.81052672e-05 1.01269986e-01 4.39673051e-05\n",
      "  1.32959969e-05 5.04818536e-04 2.75507393e-03]\n",
      " [2.31372844e-04 6.47711061e-04 2.10739650e-05 1.22643709e-04\n",
      "  4.96444554e-03 6.97683642e-04 1.15366416e-03 5.30930234e-04\n",
      "  2.07595777e-03 1.45181116e-04 6.48323882e-03 3.49074797e-03\n",
      "  4.41130561e-03 2.11026891e-03 1.68308199e-03 6.23038866e-04\n",
      "  7.94723012e-03 5.24268145e-05 1.63109859e-01 3.95751347e-05\n",
      "  1.54645479e-05 4.71176608e-04 3.15302905e-03]\n",
      " [1.82171692e-04 6.89686936e-04 2.55306338e-05 1.49596282e-04\n",
      "  5.58383045e-03 6.83998482e-04 7.92369719e-02 5.21163219e-04\n",
      "  3.04686653e-03 2.54066953e-04 7.30411402e-03 3.55854769e-03\n",
      "  7.49243291e-03 2.15652235e-03 2.13695752e-03 8.05719665e-04\n",
      "  8.98893516e-03 5.47238807e-05 5.68316876e-02 4.13811244e-05\n",
      "  4.91559951e-06 4.61858475e-04 3.52037224e-03]\n",
      " [1.38063387e-04 6.79192967e-04 1.31224054e-05 1.58700801e-04\n",
      "  6.16012788e-03 8.80734168e-05 7.20296197e-02 6.38647404e-05\n",
      "  3.42217532e-03 1.81476395e-04 8.09148410e-03 1.95890304e-03\n",
      "  6.03104654e-03 1.17484246e-03 1.51916359e-03 8.81296788e-04\n",
      "  1.00609120e-02 1.66427845e-05 5.84462667e-02 1.17930449e-05\n",
      "  9.50886304e-06 6.30066290e-04 3.91832736e-03]] => [0.00019332]\n",
      "[[1.62135258e-04 4.12762765e-04 1.56360362e-05 1.58119083e-05\n",
      "  1.21140789e-03 7.86767641e-04 6.77661842e-02 5.94925258e-04\n",
      "  7.43009115e-04 4.96035479e-04 1.72551317e-03 3.44216503e-03\n",
      "  6.64184270e-03 2.05481085e-03 1.88076562e-03 8.04262227e-04\n",
      "  1.97834924e-03 7.25297921e-05 6.37459729e-02 5.50614948e-05\n",
      "  3.49182972e-05 5.37184239e-04 7.95910246e-04]\n",
      " [1.18484977e-04 2.11861566e-03 1.05573154e-05 2.87664295e-05\n",
      "  1.82878655e-03 8.83202072e-04 6.78954531e-02 6.69761609e-04\n",
      "  1.17129330e-03 4.35543348e-04 2.63015115e-03 3.94129747e-03\n",
      "  5.72338625e-03 2.36538805e-03 1.92952122e-03 8.04262227e-04\n",
      "  2.97909836e-03 7.67240540e-05 5.66747146e-02 5.83434368e-05\n",
      "  2.56018736e-05 5.81303883e-04 1.19386537e-03]\n",
      " [1.80429755e-04 4.12179766e-04 7.15614624e-06 3.54164123e-05\n",
      "  2.43169566e-03 8.34518315e-04 7.03076600e-02 6.33071886e-04\n",
      "  2.02006125e-03 0.00000000e+00 3.33375846e-03 3.69828276e-03\n",
      "  6.09438837e-03 2.22070499e-03 1.51800465e-03 8.34108929e-04\n",
      "  3.99231233e-03 7.07916690e-05 5.71979579e-02 5.37580812e-05\n",
      "  1.61246468e-05 5.48232879e-04 1.59182049e-03]\n",
      " [3.04485604e-04 8.82076360e-04 2.63521883e-05 4.79051725e-05\n",
      "  3.05436771e-03 7.83244726e-04 6.74734999e-02 5.94487235e-04\n",
      "  1.64100093e-03 2.54066953e-04 4.15463366e-03 3.28982019e-03\n",
      "  4.41130561e-03 1.97416648e-03 7.91507230e-04 8.02133090e-04\n",
      "  5.00908768e-03 6.50271128e-05 5.52096337e-02 4.93017873e-05\n",
      "  9.71100719e-06 4.65582888e-04 1.98977561e-03]\n",
      " [2.85828204e-04 1.07563178e-03 3.19872083e-05 8.54878351e-05\n",
      "  3.73956639e-03 8.07963551e-04 5.45709979e-02 6.14206259e-04\n",
      "  2.01731800e-03 1.93574821e-04 4.94758793e-03 3.63459856e-03\n",
      "  4.69181940e-03 2.19030029e-03 1.37114492e-03 7.06615983e-04\n",
      "  5.98846849e-03 6.65331943e-05 4.32796884e-02 5.04952136e-05\n",
      "  8.91441194e-06 4.27319620e-04 2.35711880e-03]\n",
      " [2.83162974e-04 5.56763334e-04 1.23263547e-04 1.17307882e-04\n",
      "  4.36762457e-03 7.42329835e-04 2.01537568e-02 5.64516366e-04\n",
      "  2.14211743e-03 1.33082690e-04 5.71262128e-03 3.40711524e-03\n",
      "  3.25305511e-03 2.05469682e-03 1.30689033e-03 7.65745621e-04\n",
      "  6.99099831e-03 5.81052672e-05 1.01269986e-01 4.39673051e-05\n",
      "  1.32959969e-05 5.04818536e-04 2.75507393e-03]\n",
      " [2.31372844e-04 6.47711061e-04 2.10739650e-05 1.22643709e-04\n",
      "  4.96444554e-03 6.97683642e-04 1.15366416e-03 5.30930234e-04\n",
      "  2.07595777e-03 1.45181116e-04 6.48323882e-03 3.49074797e-03\n",
      "  4.41130561e-03 2.11026891e-03 1.68308199e-03 6.23038866e-04\n",
      "  7.94723012e-03 5.24268145e-05 1.63109859e-01 3.95751347e-05\n",
      "  1.54645479e-05 4.71176608e-04 3.15302905e-03]\n",
      " [1.82171692e-04 6.89686936e-04 2.55306338e-05 1.49596282e-04\n",
      "  5.58383045e-03 6.83998482e-04 7.92369719e-02 5.21163219e-04\n",
      "  3.04686653e-03 2.54066953e-04 7.30411402e-03 3.55854769e-03\n",
      "  7.49243291e-03 2.15652235e-03 2.13695752e-03 8.05719665e-04\n",
      "  8.98893516e-03 5.47238807e-05 5.68316876e-02 4.13811244e-05\n",
      "  4.91559951e-06 4.61858475e-04 3.52037224e-03]\n",
      " [1.38063387e-04 6.79192967e-04 1.31224054e-05 1.58700801e-04\n",
      "  6.16012788e-03 8.80734168e-05 7.20296197e-02 6.38647404e-05\n",
      "  3.42217532e-03 1.81476395e-04 8.09148410e-03 1.95890304e-03\n",
      "  6.03104654e-03 1.17484246e-03 1.51916359e-03 8.81296788e-04\n",
      "  1.00609120e-02 1.66427845e-05 5.84462667e-02 1.17930449e-05\n",
      "  9.50886304e-06 6.30066290e-04 3.91832736e-03]\n",
      " [1.70452072e-04 1.11760766e-03 1.13985201e-05 1.73923949e-04\n",
      "  6.76107898e-03 2.26680228e-04 6.90174098e-02 1.71091713e-04\n",
      "  1.61743450e-03 3.62952790e-04 8.96261697e-03 2.23732039e-03\n",
      "  7.33860277e-03 1.35052324e-03 2.38723585e-03 8.54923127e-04\n",
      "  1.11222046e-02 2.48445076e-05 4.10820670e-02 1.81892628e-05\n",
      "  1.58021444e-05 5.89619474e-04 4.31628249e-03]] => [0.00017004]\n"
     ]
    }
   ],
   "source": [
    "#explore what a single time series looks likes (at least just the first 3 entries)\n",
    "for i in range(3):\n",
    "    print('{:} => {:}'.format(X_train[i], y_train[i]) )"
   ]
  },
  {
   "cell_type": "markdown",
   "id": "4a206686-19f2-463e-b1f0-8da1fffbdf23",
   "metadata": {},
   "source": [
    "## Computing Some Baselines"
   ]
  },
  {
   "cell_type": "markdown",
   "id": "2621cac9-f9c6-4f0a-aad2-879e2cc0e8eb",
   "metadata": {},
   "source": [
    "<font color=blue>Naive Forecasting</font>: just use the last observed value in the series to predict the next value in the series"
   ]
  },
  {
   "cell_type": "code",
   "execution_count": 122,
   "id": "a040c8ed-be47-412a-991d-ff5a20d79bee",
   "metadata": {},
   "outputs": [
    {
     "name": "stdout",
     "output_type": "stream",
     "text": [
      "Naive ERROR: 133.3037\n"
     ]
    }
   ],
   "source": [
    "#predcition is based on last observed value\n",
    "pred= yScaler.inverse_transform( y_test[:-1] )\n",
    "actual= yScaler.inverse_transform( y_test[1:] )\n",
    "\n",
    "#calculate the Mean Squared Error between the prediction and the actual\n",
    "naive = mean_squared_error(pred, actual, squared=False)\n",
    "print( 'Naive ERROR: {:.4f}'.format(naive) )"
   ]
  },
  {
   "cell_type": "code",
   "execution_count": 123,
   "id": "5bb73b78-45b9-4e88-a280-65f6e7c60911",
   "metadata": {},
   "outputs": [
    {
     "data": {
      "image/png": "[encoded data removed]",
      "text/plain": [
       "<Figure size 432x288 with 1 Axes>"
      ]
     },
     "metadata": {
      "needs_background": "light"
     },
     "output_type": "display_data"
    }
   ],
   "source": [
    "#plot the last 48 instances in the series to see the \"predicted\" shift in temperatures \n",
    "plot_actual_pred (actual[-48:], pred[-48:])"
   ]
  },
  {
   "cell_type": "markdown",
   "id": "9c9dc1d9-47a5-4073-a04a-82cfa222eada",
   "metadata": {},
   "source": [
    "## Run 5 Day Prediction Model"
   ]
  },
  {
   "cell_type": "code",
   "execution_count": 163,
   "id": "6b651e4d-4a26-4ab1-b3cd-1eef1bfe7ae3",
   "metadata": {},
   "outputs": [],
   "source": [
    "#starting by setting random seeds and restarting keras blackend session\n",
    "np.random.seed(42)\n",
    "tf.random.set_seed(42)\n",
    "\n",
    "#resets the Keras global state - helps avoid clutter from old models and layers, especially when memory is limited\n",
    "keras.backend.clear_session()"
   ]
  },
  {
   "cell_type": "code",
   "execution_count": 164,
   "id": "8e2f9c39-196e-42cc-b874-f438328a7b6c",
   "metadata": {},
   "outputs": [
    {
     "data": {
      "text/plain": [
       "(1886, 10, 23)"
      ]
     },
     "execution_count": 164,
     "metadata": {},
     "output_type": "execute_result"
    }
   ],
   "source": [
    "X_train.shape"
   ]
  },
  {
   "cell_type": "code",
   "execution_count": 165,
   "id": "982e403f-d386-497c-a426-c1f8bfa4c3c2",
   "metadata": {
    "scrolled": true
   },
   "outputs": [],
   "source": [
    "#now let's try this using LSTMs which by its nature takes into consideration \n",
    "#long-term trends as well as learning from newer data\n",
    "#we just changed our RNN layers to LSTM layers\n",
    "\n",
    "model = keras.models.Sequential([\n",
    "    #dont want to flatten because we need to keep the data in sequence\n",
    "    #we already have the data in the right order, for RNN\n",
    "    keras.layers.LSTM(50, return_sequences=True, input_shape=[None, FEATURES] ),\n",
    "    keras.layers.Dropout(.2),\n",
    "    keras.layers.LSTM(50),\n",
    "    #return_sequences should be set to true for every layer except the layer before the last\n",
    "    keras.layers.Dense(FUTURE)  #future\n",
    "])"
   ]
  },
  {
   "cell_type": "code",
   "execution_count": 166,
   "id": "40837223-c642-4462-a70f-3c1f27d6c547",
   "metadata": {},
   "outputs": [
    {
     "name": "stdout",
     "output_type": "stream",
     "text": [
      "Model: \"sequential\"\n",
      "_________________________________________________________________\n",
      " Layer (type)                Output Shape              Param #   \n",
      "=================================================================\n",
      " lstm (LSTM)                 (None, None, 50)          14800     \n",
      "                                                                 \n",
      " dropout (Dropout)           (None, None, 50)          0         \n",
      "                                                                 \n",
      " lstm_1 (LSTM)               (None, 50)                20200     \n",
      "                                                                 \n",
      " dense (Dense)               (None, 5)                 255       \n",
      "                                                                 \n",
      "=================================================================\n",
      "Total params: 35,255\n",
      "Trainable params: 35,255\n",
      "Non-trainable params: 0\n",
      "_________________________________________________________________\n"
     ]
    }
   ],
   "source": [
    "model.summary()"
   ]
  },
  {
   "cell_type": "code",
   "execution_count": 167,
   "id": "0d6b212e-be76-4964-9122-702f46c3e8a5",
   "metadata": {},
   "outputs": [
    {
     "name": "stdout",
     "output_type": "stream",
     "text": [
      "Epoch 1/65\n",
      "151/151 [==============================] - 8s 20ms/step - loss: 8.8396e-04 - val_loss: 0.0012\n",
      "Epoch 2/65\n",
      "151/151 [==============================] - 2s 12ms/step - loss: 8.5521e-04 - val_loss: 0.0030\n",
      "Epoch 3/65\n",
      "151/151 [==============================] - 2s 13ms/step - loss: 8.4567e-04 - val_loss: 0.0047\n",
      "Epoch 4/65\n",
      "151/151 [==============================] - 2s 13ms/step - loss: 9.7116e-04 - val_loss: 0.0025\n",
      "Epoch 5/65\n",
      "151/151 [==============================] - 2s 14ms/step - loss: 7.2880e-04 - val_loss: 9.7805e-04\n",
      "Epoch 6/65\n",
      "151/151 [==============================] - 2s 13ms/step - loss: 5.2906e-04 - val_loss: 3.7132e-04\n",
      "Epoch 7/65\n",
      "151/151 [==============================] - 2s 12ms/step - loss: 4.1039e-04 - val_loss: 2.5143e-04\n",
      "Epoch 8/65\n",
      "151/151 [==============================] - 2s 12ms/step - loss: 3.4383e-04 - val_loss: 3.2683e-04\n",
      "Epoch 9/65\n",
      "151/151 [==============================] - 2s 14ms/step - loss: 3.2107e-04 - val_loss: 3.7981e-04\n",
      "Epoch 10/65\n",
      "151/151 [==============================] - 2s 14ms/step - loss: 2.6953e-04 - val_loss: 4.3416e-04\n",
      "Epoch 11/65\n",
      "151/151 [==============================] - 2s 14ms/step - loss: 2.6403e-04 - val_loss: 5.0299e-04\n",
      "Epoch 12/65\n",
      "151/151 [==============================] - 2s 14ms/step - loss: 2.5123e-04 - val_loss: 4.9276e-04\n",
      "Epoch 13/65\n",
      "151/151 [==============================] - 2s 15ms/step - loss: 2.4483e-04 - val_loss: 5.2742e-04\n",
      "Epoch 14/65\n",
      "151/151 [==============================] - 2s 13ms/step - loss: 2.3498e-04 - val_loss: 5.4996e-04\n",
      "Epoch 15/65\n",
      "151/151 [==============================] - 2s 13ms/step - loss: 2.3135e-04 - val_loss: 5.2031e-04\n",
      "Epoch 16/65\n",
      "151/151 [==============================] - 2s 12ms/step - loss: 2.2474e-04 - val_loss: 4.6950e-04\n",
      "Epoch 17/65\n",
      "151/151 [==============================] - 2s 13ms/step - loss: 2.2301e-04 - val_loss: 4.9936e-04\n",
      "Epoch 18/65\n",
      "151/151 [==============================] - 2s 13ms/step - loss: 2.0496e-04 - val_loss: 5.0362e-04\n",
      "Epoch 19/65\n",
      "151/151 [==============================] - 2s 13ms/step - loss: 1.9919e-04 - val_loss: 5.4542e-04\n",
      "Epoch 20/65\n",
      "151/151 [==============================] - 2s 12ms/step - loss: 2.0694e-04 - val_loss: 4.4850e-04\n",
      "Epoch 21/65\n",
      "151/151 [==============================] - 2s 14ms/step - loss: 2.0150e-04 - val_loss: 4.8969e-04\n",
      "Epoch 22/65\n",
      "151/151 [==============================] - 2s 13ms/step - loss: 1.9965e-04 - val_loss: 5.0963e-04\n",
      "Epoch 23/65\n",
      "151/151 [==============================] - 2s 13ms/step - loss: 2.0313e-04 - val_loss: 6.1731e-04\n",
      "Epoch 24/65\n",
      "151/151 [==============================] - 2s 12ms/step - loss: 2.0379e-04 - val_loss: 7.8296e-04\n",
      "Epoch 25/65\n",
      "151/151 [==============================] - 2s 12ms/step - loss: 2.0749e-04 - val_loss: 8.5239e-04\n",
      "Epoch 26/65\n",
      "151/151 [==============================] - 2s 12ms/step - loss: 1.8464e-04 - val_loss: 8.5643e-04\n",
      "Epoch 27/65\n",
      "151/151 [==============================] - 2s 13ms/step - loss: 2.0880e-04 - val_loss: 0.0010\n",
      "Epoch 28/65\n",
      "151/151 [==============================] - 2s 14ms/step - loss: 2.0550e-04 - val_loss: 0.0012\n",
      "Epoch 29/65\n",
      "151/151 [==============================] - 2s 13ms/step - loss: 2.0729e-04 - val_loss: 0.0011\n",
      "Epoch 30/65\n",
      "151/151 [==============================] - 2s 12ms/step - loss: 1.9765e-04 - val_loss: 0.0013\n",
      "Epoch 31/65\n",
      "151/151 [==============================] - 2s 13ms/step - loss: 2.0824e-04 - val_loss: 0.0014\n",
      "Epoch 32/65\n",
      "151/151 [==============================] - 2s 12ms/step - loss: 1.8449e-04 - val_loss: 0.0013\n",
      "Epoch 33/65\n",
      "151/151 [==============================] - 2s 12ms/step - loss: 1.9258e-04 - val_loss: 0.0014\n",
      "Epoch 34/65\n",
      "151/151 [==============================] - 2s 12ms/step - loss: 1.8591e-04 - val_loss: 0.0015\n",
      "Epoch 35/65\n",
      "151/151 [==============================] - 2s 12ms/step - loss: 2.1486e-04 - val_loss: 0.0015\n",
      "Epoch 36/65\n",
      "151/151 [==============================] - 2s 12ms/step - loss: 2.1513e-04 - val_loss: 0.0016\n",
      "Epoch 37/65\n",
      "151/151 [==============================] - 2s 13ms/step - loss: 1.7807e-04 - val_loss: 0.0014\n",
      "Epoch 38/65\n",
      "151/151 [==============================] - 2s 13ms/step - loss: 1.7415e-04 - val_loss: 0.0014\n",
      "Epoch 39/65\n",
      "151/151 [==============================] - 2s 12ms/step - loss: 1.8914e-04 - val_loss: 0.0015\n",
      "Epoch 40/65\n",
      "151/151 [==============================] - 2s 12ms/step - loss: 1.9086e-04 - val_loss: 0.0014\n",
      "Epoch 41/65\n",
      "151/151 [==============================] - 2s 12ms/step - loss: 2.0735e-04 - val_loss: 0.0015\n",
      "Epoch 42/65\n",
      "151/151 [==============================] - 2s 12ms/step - loss: 1.7569e-04 - val_loss: 0.0013\n",
      "Epoch 43/65\n",
      "151/151 [==============================] - 2s 12ms/step - loss: 1.6397e-04 - val_loss: 0.0011\n",
      "Epoch 44/65\n",
      "151/151 [==============================] - 2s 12ms/step - loss: 1.6939e-04 - val_loss: 0.0012\n",
      "Epoch 45/65\n",
      "151/151 [==============================] - 2s 12ms/step - loss: 1.8183e-04 - val_loss: 0.0014\n",
      "Epoch 46/65\n",
      "151/151 [==============================] - 2s 13ms/step - loss: 1.6287e-04 - val_loss: 7.6987e-04\n",
      "Epoch 47/65\n",
      "151/151 [==============================] - 2s 13ms/step - loss: 1.4899e-04 - val_loss: 6.3804e-04\n",
      "Epoch 48/65\n",
      "151/151 [==============================] - 2s 12ms/step - loss: 1.8038e-04 - val_loss: 0.0013\n",
      "Epoch 49/65\n",
      "151/151 [==============================] - 2s 12ms/step - loss: 1.7036e-04 - val_loss: 5.6721e-04\n",
      "Epoch 50/65\n",
      "151/151 [==============================] - 2s 12ms/step - loss: 1.5222e-04 - val_loss: 1.1950e-04\n",
      "Epoch 51/65\n",
      "151/151 [==============================] - 2s 12ms/step - loss: 1.2635e-04 - val_loss: 2.6232e-04\n",
      "Epoch 52/65\n",
      "151/151 [==============================] - 2s 12ms/step - loss: 1.2916e-04 - val_loss: 2.2038e-04\n",
      "Epoch 53/65\n",
      "151/151 [==============================] - 2s 12ms/step - loss: 1.4468e-04 - val_loss: 1.3021e-04\n",
      "Epoch 54/65\n",
      "151/151 [==============================] - 2s 12ms/step - loss: 1.1868e-04 - val_loss: 1.8542e-04\n",
      "Epoch 55/65\n",
      "151/151 [==============================] - 2s 13ms/step - loss: 1.4261e-04 - val_loss: 1.1415e-04\n",
      "Epoch 56/65\n",
      "151/151 [==============================] - 2s 12ms/step - loss: 1.1739e-04 - val_loss: 1.0449e-04\n",
      "Epoch 57/65\n",
      "151/151 [==============================] - 2s 12ms/step - loss: 1.2913e-04 - val_loss: 1.2905e-04\n",
      "Epoch 58/65\n",
      "151/151 [==============================] - 2s 12ms/step - loss: 1.0886e-04 - val_loss: 9.6570e-05\n",
      "Epoch 59/65\n",
      "151/151 [==============================] - 2s 12ms/step - loss: 1.1789e-04 - val_loss: 5.6782e-05\n",
      "Epoch 60/65\n",
      "151/151 [==============================] - 2s 12ms/step - loss: 1.2543e-04 - val_loss: 2.6304e-04\n",
      "Epoch 61/65\n",
      "151/151 [==============================] - 2s 13ms/step - loss: 1.2773e-04 - val_loss: 1.3086e-04\n",
      "Epoch 62/65\n",
      "151/151 [==============================] - 2s 12ms/step - loss: 1.1035e-04 - val_loss: 7.8707e-05\n",
      "Epoch 63/65\n",
      "151/151 [==============================] - 2s 13ms/step - loss: 1.0855e-04 - val_loss: 6.7196e-05\n",
      "Epoch 64/65\n",
      "151/151 [==============================] - 2s 13ms/step - loss: 1.0711e-04 - val_loss: 1.3889e-04\n",
      "Epoch 65/65\n",
      "151/151 [==============================] - 2s 12ms/step - loss: 1.1655e-04 - val_loss: 8.8932e-05\n"
     ]
    }
   ],
   "source": [
    "#compile the model\n",
    "model.compile(loss=\"mean_squared_error\", \n",
    "              optimizer=keras.optimizers.Adam(learning_rate=0.00033), \n",
    "             )\n",
    "#fit the model, using a callback defined earlier\n",
    "history = model.fit(X_train,y_train, \n",
    "                    epochs=65,\n",
    "                    batch_size=STEPS,\n",
    "                    shuffle=False, \n",
    "                    validation_split=.2)\n",
    "                   # callbacks=[early_stopping])"
   ]
  },
  {
   "cell_type": "code",
   "execution_count": 168,
   "id": "e63b84b5-dcfb-46fc-b5c7-9c55dd8c47e0",
   "metadata": {},
   "outputs": [
    {
     "data": {
      "image/png": "[encoded data removed]",
      "text/plain": [
       "<Figure size 576x360 with 1 Axes>"
      ]
     },
     "metadata": {
      "needs_background": "light"
     },
     "output_type": "display_data"
    }
   ],
   "source": [
    "#plot the learning curve of the model\n",
    "nn_plot_learning_curve(history)\n",
    "plt.show()"
   ]
  },
  {
   "cell_type": "code",
   "execution_count": 169,
   "id": "33fefbb5-b33e-4a7c-8ee8-f3ff5edab8f5",
   "metadata": {
    "tags": []
   },
   "outputs": [
    {
     "data": {
      "text/plain": [
       "(1886, 5)"
      ]
     },
     "execution_count": 169,
     "metadata": {},
     "output_type": "execute_result"
    }
   ],
   "source": [
    "y_pred=model.predict(X_train)\n",
    "y_pred.shape"
   ]
  },
  {
   "cell_type": "code",
   "execution_count": 170,
   "id": "1e521602-9a21-46f3-b72d-05470b7d6463",
   "metadata": {
    "tags": []
   },
   "outputs": [
    {
     "name": "stdout",
     "output_type": "stream",
     "text": [
      "ERROR: 60.8565\n"
     ]
    }
   ],
   "source": [
    "#predict the validation data set\n",
    "y_pred = model.predict(X_train)\n",
    "\n",
    "#scale predictiond and actuals\n",
    "pred = yScaler.inverse_transform( y_pred[:,[0]]) \n",
    "actual = yScaler.inverse_transform( y_train )\n",
    "\n",
    "#calculate the Mean Squared Error using the scaled values\n",
    "error = mean_squared_error(pred, actual, squared=False)\n",
    "print( 'ERROR: {:.4f}'.format(error) )"
   ]
  },
  {
   "cell_type": "code",
   "execution_count": 171,
   "id": "973ceef9-2efd-4e7e-8208-68c1c4e752a6",
   "metadata": {},
   "outputs": [
    {
     "data": {
      "image/png": "[encoded data removed]",
      "text/plain": [
       "<Figure size 432x288 with 1 Axes>"
      ]
     },
     "metadata": {
      "needs_background": "light"
     },
     "output_type": "display_data"
    }
   ],
   "source": [
    "#plot the predictions vs. the actuals\n",
    "plot_actual_pred( actual[-500:], pred[-500:] )"
   ]
  },
  {
   "cell_type": "code",
   "execution_count": 172,
   "id": "45d5b1e5-d577-4b1a-90f4-fe1ee2293609",
   "metadata": {},
   "outputs": [
    {
     "name": "stdout",
     "output_type": "stream",
     "text": [
      "ERROR: 996.9468\n"
     ]
    }
   ],
   "source": [
    "#predict the validation data set\n",
    "y_pred = model.predict(X_test)\n",
    "\n",
    "#scale predictiond and actuals\n",
    "pred = yScaler.inverse_transform( y_pred[:,[0]])\n",
    "actual = yScaler.inverse_transform( y_test )\n",
    "\n",
    "#calculate the Mean Squared Error using the scaled values\n",
    "error = mean_squared_error(pred, actual, squared=False)\n",
    "print( 'ERROR: {:.4f}'.format(error) )"
   ]
  },
  {
   "cell_type": "code",
   "execution_count": 173,
   "id": "ce9ce6af-1aa7-4a9d-9920-0e2c900d0703",
   "metadata": {},
   "outputs": [
    {
     "data": {
      "image/png": "[encoded data removed]",
      "text/plain": [
       "<Figure size 432x288 with 1 Axes>"
      ]
     },
     "metadata": {
      "needs_background": "light"
     },
     "output_type": "display_data"
    }
   ],
   "source": [
    "#plot the predictions vs. the actuals\n",
    "plot_actual_pred( actual[-500:], pred[-500:] )"
   ]
  },
  {
   "cell_type": "code",
   "execution_count": 174,
   "id": "5c92f49d-e250-4831-a47a-8d29c88a568b",
   "metadata": {},
   "outputs": [
    {
     "data": {
      "image/png": "[encoded data removed]",
      "text/plain": [
       "<Figure size 432x288 with 1 Axes>"
      ]
     },
     "metadata": {
      "needs_background": "light"
     },
     "output_type": "display_data"
    }
   ],
   "source": [
    "#Predict using the model\n",
    "y_prediction = model.predict( toPredict )\n",
    "\n",
    "#scale the y values\n",
    "y_prediction = yScaler.inverse_transform( y_prediction )\n",
    "\n",
    "#plot the actual values as well as future known actuals vs. future predictions\n",
    "#NOTE: if FUTURES is > 1, the ,0 is needed to only plot the 1st value in the prediction\n",
    "plot_series(actual[-20:], prediction, y_prediction[:,0]) "
   ]
  },
  {
   "cell_type": "code",
   "execution_count": 175,
   "id": "a251f7dc-7cbb-4259-9925-fab449f9432f",
   "metadata": {},
   "outputs": [
    {
     "data": {
      "text/plain": [
       "1078.9882342799406"
      ]
     },
     "execution_count": 175,
     "metadata": {},
     "output_type": "execute_result"
    }
   ],
   "source": [
    "#print the error\n",
    "mean_squared_error( y_prediction[:,0], prediction, squared=False) "
   ]
  },
  {
   "cell_type": "code",
   "execution_count": 176,
   "id": "bfcc9ad7-81ae-4540-a7b6-2d6e73503299",
   "metadata": {},
   "outputs": [],
   "source": [
    "#1207"
   ]
  },
  {
   "cell_type": "code",
   "execution_count": null,
   "id": "1adfb20e-442b-430f-b9f4-915bea6b49c2",
   "metadata": {},
   "outputs": [],
   "source": [
    "#996"
   ]
  }
 ],
 "metadata": {
  "kernelspec": {
   "display_name": "Python 3 (ipykernel)",
   "language": "python",
   "name": "python3"
  },
  "language_info": {
   "codemirror_mode": {
    "name": "ipython",
    "version": 3
   },
   "file_extension": ".py",
   "mimetype": "text/x-python",
   "name": "python",
   "nbconvert_exporter": "python",
   "pygments_lexer": "ipython3",
   "version": "3.9.7"
  }
 },
 "nbformat": 4,
 "nbformat_minor": 5
}
