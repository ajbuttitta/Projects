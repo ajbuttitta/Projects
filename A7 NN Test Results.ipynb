{
 "cells": [
  {
   "cell_type": "markdown",
   "id": "0d464cd0-1b17-49b5-8c4b-fe76fd961a12",
   "metadata": {
    "tags": []
   },
   "source": [
    "## A7 NN Test Results"
   ]
  },
  {
   "cell_type": "code",
   "execution_count": 513,
   "id": "1ba6e6db-2e78-4f8d-badb-2e00ca27507d",
   "metadata": {},
   "outputs": [
    {
     "data": {
      "text/plain": [
       "623.6871760156255"
      ]
     },
     "execution_count": 513,
     "metadata": {},
     "output_type": "execute_result"
    }
   ],
   "source": [
    "#print the error\n",
    "#lr=.00033 neurons: 65 and LSTM (change random seed back to 42, patience = 15)\n",
    "mean_squared_error( y_prediction[:,0], prediction, squared=False) "
   ]
  },
  {
   "cell_type": "code",
   "execution_count": 488,
   "id": "aa24c933-37fa-4c96-abab-b493b2651795",
   "metadata": {},
   "outputs": [
    {
     "data": {
      "text/plain": [
       "1946.823772695313"
      ]
     },
     "execution_count": 488,
     "metadata": {},
     "output_type": "execute_result"
    }
   ],
   "source": [
    "#print the error\n",
    "#lr=.00033 neurons: 65 and LSTM (change random seed back to 42, patience = 15)\n",
    "mean_squared_error( y_prediction[:,0], prediction, squared=False) "
   ]
  },
  {
   "cell_type": "code",
   "execution_count": 475,
   "id": "d080a8e7-1247-47bc-a6d8-ba9c07b540ef",
   "metadata": {},
   "outputs": [
    {
     "data": {
      "text/plain": [
       "1095.4403498437505"
      ]
     },
     "execution_count": 475,
     "metadata": {},
     "output_type": "execute_result"
    }
   ],
   "source": [
    "#print the error\n",
    "#lr=.00033 neurons: 70 and LSTM (change random seed back to 42, patience = 15)\n",
    "mean_squared_error( y_prediction[:,0], prediction, squared=False) "
   ]
  },
  {
   "cell_type": "code",
   "execution_count": 463,
   "id": "0440c8c0-390f-4ffe-be46-fe583b7166de",
   "metadata": {},
   "outputs": [
    {
     "data": {
      "text/plain": [
       "104.49039867187548"
      ]
     },
     "execution_count": 463,
     "metadata": {},
     "output_type": "execute_result"
    }
   ],
   "source": [
    "#print the error\n",
    "#lr=.00033 neurons: 60 and LSTM (change random seed back to 42, patience = 15)\n",
    "mean_squared_error( y_prediction[:,0], prediction, squared=False) "
   ]
  },
  {
   "cell_type": "code",
   "execution_count": 451,
   "id": "d42c2d69-1911-453f-be1e-4a33816e0fff",
   "metadata": {},
   "outputs": [
    {
     "data": {
      "text/plain": [
       "137.03336742187548"
      ]
     },
     "execution_count": 451,
     "metadata": {},
     "output_type": "execute_result"
    }
   ],
   "source": [
    "#print the error\n",
    "#lr=.00033 neurons: 50 and LSTM (change random seed back to 42, patience = 25)\n",
    "mean_squared_error( y_prediction[:,0], prediction, squared=False) "
   ]
  },
  {
   "cell_type": "code",
   "execution_count": 439,
   "id": "4b16aebe-b208-479c-a7c1-2a4a16f83578",
   "metadata": {},
   "outputs": [
    {
     "data": {
      "text/plain": [
       "248.13029125000048"
      ]
     },
     "execution_count": 439,
     "metadata": {},
     "output_type": "execute_result"
    }
   ],
   "source": [
    "#print the error\n",
    "#lr=.00033 neurons: 50 and LSTM (change random seed back to 42, patience = 35)\n",
    "mean_squared_error( y_prediction[:,0], prediction, squared=False) "
   ]
  },
  {
   "cell_type": "code",
   "execution_count": 427,
   "id": "93a7ada9-d024-46b7-9238-2d4133bcf1dd",
   "metadata": {},
   "outputs": [
    {
     "data": {
      "text/plain": [
       "599.8168146875005"
      ]
     },
     "execution_count": 427,
     "metadata": {},
     "output_type": "execute_result"
    }
   ],
   "source": [
    "#print the error\n",
    "#lr=.00033 neurons: 45 and LSTM (change random seed back to 42, patience = 200)\n",
    "mean_squared_error( y_prediction[:,0], prediction, squared=False) "
   ]
  },
  {
   "cell_type": "code",
   "execution_count": 415,
   "id": "7ebe0627-9956-4b4a-a5dc-f786a6fb51bf",
   "metadata": {},
   "outputs": [
    {
     "data": {
      "text/plain": [
       "1088.333050039063"
      ]
     },
     "execution_count": 415,
     "metadata": {},
     "output_type": "execute_result"
    }
   ],
   "source": [
    "#print the error\n",
    "#lr=.00033 neurons: 50, 45, 45 and LSTM (change random seed back to 42, patience = 200)\n",
    "mean_squared_error( y_prediction[:,0], prediction, squared=False) "
   ]
  },
  {
   "cell_type": "code",
   "execution_count": 392,
   "id": "3927f272-1d15-467a-bbce-7b3672656203",
   "metadata": {},
   "outputs": [
    {
     "data": {
      "text/plain": [
       "599.8382990625005"
      ]
     },
     "execution_count": 392,
     "metadata": {},
     "output_type": "execute_result"
    }
   ],
   "source": [
    "#print the error\n",
    "#lr=.00033 neurons: 45, 40, 35 and LSTM (change random seed back to 42, patience = 200)\n",
    "mean_squared_error( y_prediction[:,0], prediction, squared=False) "
   ]
  },
  {
   "cell_type": "code",
   "execution_count": 392,
   "id": "9f992d26-11a7-4e06-9e4b-4d633c3e396d",
   "metadata": {},
   "outputs": [
    {
     "data": {
      "text/plain": [
       "599.8382990625005"
      ]
     },
     "execution_count": 392,
     "metadata": {},
     "output_type": "execute_result"
    }
   ],
   "source": [
    "#print the error\n",
    "#lr=.00033 neurons: 40,40 and LSTM (change random seed back to 42, patience = 200)\n",
    "mean_squared_error( y_prediction[:,0], prediction, squared=False) "
   ]
  },
  {
   "cell_type": "code",
   "execution_count": 349,
   "id": "85a5df4b-3cc3-43c1-8d80-2b7767e1c412",
   "metadata": {},
   "outputs": [
    {
     "data": {
      "text/plain": [
       "781.2025568750005"
      ]
     },
     "execution_count": 349,
     "metadata": {},
     "output_type": "execute_result"
    }
   ],
   "source": [
    "#print the error\n",
    "#lr=.00033 neurons: 50, 50, 35 and LSTM (change random seed back to 42, patience = 200)\n",
    "mean_squared_error( y_prediction[:,0], prediction, squared=False) "
   ]
  },
  {
   "cell_type": "code",
   "execution_count": 313,
   "id": "c5a54d1e-7302-4d47-ba10-5bf2d7acfe35",
   "metadata": {},
   "outputs": [
    {
     "data": {
      "text/plain": [
       "791.2457697656255"
      ]
     },
     "execution_count": 313,
     "metadata": {},
     "output_type": "execute_result"
    }
   ],
   "source": [
    "#print the error\n",
    "#lr=.00033 neurons: 50, 50, 25 and LSTM (change random seed back to 42, patience = 200)\n",
    "mean_squared_error( y_prediction[:,0], prediction, squared=False) "
   ]
  },
  {
   "cell_type": "code",
   "execution_count": 301,
   "id": "febf1065-5c89-4a37-885e-6bb0f22046c2",
   "metadata": {},
   "outputs": [
    {
     "data": {
      "text/plain": [
       "1337.246380117188"
      ]
     },
     "execution_count": 301,
     "metadata": {},
     "output_type": "execute_result"
    }
   ],
   "source": [
    "#print the error\n",
    "#lr=.00033 neurons: 50, 50, and LSTM (change random seed back to 42, patience = 100)\n",
    "mean_squared_error( y_prediction[:,0], prediction, squared=False) "
   ]
  },
  {
   "cell_type": "code",
   "execution_count": 289,
   "id": "981259f0-fc2a-44c7-ada2-9d9aaac67ea0",
   "metadata": {},
   "outputs": [
    {
     "data": {
      "text/plain": [
       "779.0358088281255"
      ]
     },
     "execution_count": 289,
     "metadata": {},
     "output_type": "execute_result"
    }
   ],
   "source": [
    "#print the error\n",
    "#lr=.00033 neurons: 50, 50 and LSTM (change random seed to 2, patience = 50)\n",
    "mean_squared_error( y_prediction[:,0], prediction, squared=False) "
   ]
  },
  {
   "cell_type": "code",
   "execution_count": 185,
   "id": "5c3c5bb9-2f04-4c6b-ae19-1049735500e4",
   "metadata": {},
   "outputs": [
    {
     "data": {
      "text/plain": [
       "1355.8751642968755"
      ]
     },
     "execution_count": 185,
     "metadata": {},
     "output_type": "execute_result"
    }
   ],
   "source": [
    "#print the error\n",
    "#lr=.00033 neurons: 150, 100, and LSTM (change random seed back to 42, patience = 10)\n",
    "mean_squared_error( y_prediction[:,0], prediction, squared=False) "
   ]
  },
  {
   "cell_type": "code",
   "execution_count": 173,
   "id": "627cf29c-2665-465b-8567-c6563d69418c",
   "metadata": {},
   "outputs": [
    {
     "data": {
      "text/plain": [
       "1206.5089533593755"
      ]
     },
     "execution_count": 173,
     "metadata": {},
     "output_type": "execute_result"
    }
   ],
   "source": [
    "#print the error\n",
    "#lr=.00033 neurons: 100, 50, and LSTM (change random seed back to 42, patience = 10)\n",
    "mean_squared_error( y_prediction[:,0], prediction, squared=False) "
   ]
  },
  {
   "cell_type": "code",
   "execution_count": 161,
   "id": "8085b7cb-d984-4819-84ff-3391384293fa",
   "metadata": {},
   "outputs": [
    {
     "data": {
      "text/plain": [
       "1459.0760920312505"
      ]
     },
     "execution_count": 161,
     "metadata": {},
     "output_type": "execute_result"
    }
   ],
   "source": [
    "#print the error\n",
    "#lr=.00033 neurons: 100, 100, and LSTM (change random seed back to 42, patience = 10)\n",
    "mean_squared_error( y_prediction[:,0], prediction, squared=False) "
   ]
  },
  {
   "cell_type": "code",
   "execution_count": 149,
   "id": "ad2efde7-e8de-4213-bd7b-c64062aa1a0d",
   "metadata": {},
   "outputs": [
    {
     "data": {
      "text/plain": [
       "749.7843439843755"
      ]
     },
     "execution_count": 149,
     "metadata": {},
     "output_type": "execute_result"
    }
   ],
   "source": [
    "#print the error\n",
    "#lr=.00033 neurons: 50, 50, and LSTM (change random seed back to 45, patience = 10)\n",
    "mean_squared_error( y_prediction[:,0], prediction, squared=False) "
   ]
  },
  {
   "cell_type": "code",
   "execution_count": 136,
   "id": "74c4a35b-e86f-4a7e-9dbb-fee9e58e000c",
   "metadata": {},
   "outputs": [
    {
     "data": {
      "text/plain": [
       "515.2340510156255"
      ]
     },
     "execution_count": 136,
     "metadata": {},
     "output_type": "execute_result"
    }
   ],
   "source": [
    "#print the error\n",
    "#lr=.00033 neurons: 50, 50, and LSTM (change random seed back to 42, patience = 7)\n",
    "mean_squared_error( y_prediction[:,0], prediction, squared=False) "
   ]
  },
  {
   "cell_type": "code",
   "execution_count": 123,
   "id": "19409a1c-9a39-44da-9312-deff3369440c",
   "metadata": {},
   "outputs": [
    {
     "data": {
      "text/plain": [
       "75.88615062500048"
      ]
     },
     "execution_count": 123,
     "metadata": {},
     "output_type": "execute_result"
    }
   ],
   "source": [
    "#print the error\n",
    "#lr=.00033 neurons: 50, 50, and LSTM (change random seed back to 42, patience = 25)\n",
    "mean_squared_error( y_prediction[:,0], prediction, squared=False) "
   ]
  },
  {
   "cell_type": "code",
   "execution_count": null,
   "id": "c9cee491-8366-44ce-a122-c0ff25b853e2",
   "metadata": {},
   "outputs": [
    {
     "data": {
      "text/plain": [
       "742.5253107812505"
      ]
     },
     "execution_count": 111,
     "metadata": {},
     "output_type": "execute_result"
    }
   ],
   "source": [
    "#print the error\n",
    "#lr=.00033 neurons: 50, 50, and LSTM (change random seed back to 42, patience = 45)\n",
    "mean_squared_error( y_prediction[:,0], prediction, squared=False) "
   ]
  },
  {
   "cell_type": "code",
   "execution_count": 99,
   "id": "cc4cb4d1-0111-447e-b0a5-b42fbfd4312c",
   "metadata": {
    "tags": []
   },
   "outputs": [
    {
     "data": {
      "text/plain": [
       "35.56388500000048"
      ]
     },
     "execution_count": 99,
     "metadata": {},
     "output_type": "execute_result"
    }
   ],
   "source": [
    "#print the error\n",
    "#lr=.00033 neurons: 50, 50, and LSTM (change random seed back to 42, patience = 25)\n",
    "mean_squared_error( y_prediction[:,0], prediction, squared=False) "
   ]
  },
  {
   "cell_type": "code",
   "execution_count": 87,
   "id": "4dd305b6-df3d-44b4-8691-22b43edc9c8a",
   "metadata": {
    "tags": []
   },
   "outputs": [
    {
     "data": {
      "text/plain": [
       "210.68717601562548"
      ]
     },
     "execution_count": 87,
     "metadata": {},
     "output_type": "execute_result"
    }
   ],
   "source": [
    "#print the error\n",
    "#lr=.00033 neurons: 50, 50, and LSTM (patience = 15) (change random seed back to 42)\n",
    "mean_squared_error( y_prediction[:,0], prediction, squared=False) "
   ]
  },
  {
   "cell_type": "code",
   "execution_count": 75,
   "id": "d9fa8bae-33f6-4885-b398-020d6e040ab4",
   "metadata": {
    "tags": []
   },
   "outputs": [
    {
     "data": {
      "text/plain": [
       "1539.860637929688"
      ]
     },
     "execution_count": 75,
     "metadata": {},
     "output_type": "execute_result"
    }
   ],
   "source": [
    "#print the error\n",
    "#lr=.00033 neurons: 50, 50, and LSTM (patience = 15) (change random seed to 43)\n",
    "mean_squared_error( y_prediction[:,0], prediction, squared=False) "
   ]
  },
  {
   "cell_type": "code",
   "execution_count": 701,
   "id": "65db5dad-6d12-428a-91de-a83279933954",
   "metadata": {
    "tags": []
   },
   "outputs": [
    {
     "data": {
      "text/plain": [
       "210.68717601562548"
      ]
     },
     "execution_count": 701,
     "metadata": {},
     "output_type": "execute_result"
    }
   ],
   "source": [
    "#print the error\n",
    "#lr=.00033 neurons: 50, 50, and LSTM (patience = 15) (change random seed back to 42)\n",
    "mean_squared_error( y_prediction[:,0], prediction, squared=False) "
   ]
  },
  {
   "cell_type": "code",
   "execution_count": 676,
   "id": "cec15618-d165-42e6-890c-89a99cf743f9",
   "metadata": {
    "tags": []
   },
   "outputs": [
    {
     "data": {
      "text/plain": [
       "884.8146174218755"
      ]
     },
     "execution_count": 676,
     "metadata": {},
     "output_type": "execute_result"
    }
   ],
   "source": [
    "#print the error\n",
    "#lr=.00033 neurons: 53, 53, and LSTM (patience = 15) (change random seed back to 42)\n",
    "mean_squared_error( y_prediction[:,0], prediction, squared=False) "
   ]
  },
  {
   "cell_type": "code",
   "execution_count": 664,
   "id": "06f9d890-0847-4dd2-a621-61f0eee35369",
   "metadata": {
    "tags": []
   },
   "outputs": [
    {
     "data": {
      "text/plain": [
       "876.4464533593755"
      ]
     },
     "execution_count": 664,
     "metadata": {},
     "output_type": "execute_result"
    }
   ],
   "source": [
    "#print the error\n",
    "#lr=.00033 neurons: 56, 56, and LSTM (patience = 15) (change random seed back to 42)\n",
    "mean_squared_error( y_prediction[:,0], prediction, squared=False) "
   ]
  },
  {
   "cell_type": "code",
   "execution_count": 652,
   "id": "53853acc-e225-4a47-96e6-4ea313c5b858",
   "metadata": {
    "tags": []
   },
   "outputs": [
    {
     "data": {
      "text/plain": [
       "532.3680842187505"
      ]
     },
     "execution_count": 652,
     "metadata": {},
     "output_type": "execute_result"
    }
   ],
   "source": [
    "#print the error\n",
    "#lr=.00033 neurons: 57, 57, and LSTM (patience = 15) (change random seed back to 42)\n",
    "mean_squared_error( y_prediction[:,0], prediction, squared=False) "
   ]
  },
  {
   "cell_type": "code",
   "execution_count": 640,
   "id": "ff182d76-a7ce-4e3b-8a7e-4fcde14633bb",
   "metadata": {
    "tags": []
   },
   "outputs": [
    {
     "data": {
      "text/plain": [
       "503.5094416406255"
      ]
     },
     "execution_count": 640,
     "metadata": {},
     "output_type": "execute_result"
    }
   ],
   "source": [
    "#print the error\n",
    "#lr=.00033 neurons: 55, 55, and LSTM (patience = 15) (change random seed back to 42)\n",
    "mean_squared_error( y_prediction[:,0], prediction, squared=False) "
   ]
  },
  {
   "cell_type": "code",
   "execution_count": 616,
   "id": "bbb6c0e2-79b2-4c5a-a575-32c9f39e0f4c",
   "metadata": {
    "tags": []
   },
   "outputs": [
    {
     "data": {
      "text/plain": [
       "1213.9515803125005"
      ]
     },
     "execution_count": 616,
     "metadata": {},
     "output_type": "execute_result"
    }
   ],
   "source": [
    "#print the error\n",
    "#lr=.00033 neurons: 70, 70, and LSTM (patience = 15) (change random seed back to 42)\n",
    "mean_squared_error( y_prediction[:,0], prediction, squared=False) "
   ]
  },
  {
   "cell_type": "code",
   "execution_count": 592,
   "id": "ba5ca93f-d454-4329-9717-300ade5e7434",
   "metadata": {
    "tags": []
   },
   "outputs": [
    {
     "data": {
      "text/plain": [
       "771.6407892968755"
      ]
     },
     "execution_count": 592,
     "metadata": {},
     "output_type": "execute_result"
    }
   ],
   "source": [
    "#print the error\n",
    "#lr=.00033 neurons: 80, 80, and LSTM (patience = 15) (change random seed back to 42)\n",
    "mean_squared_error( y_prediction[:,0], prediction, squared=False) "
   ]
  },
  {
   "cell_type": "code",
   "execution_count": 567,
   "id": "a157cfd4-ce90-449a-b1c1-f6a9939feedf",
   "metadata": {
    "tags": []
   },
   "outputs": [
    {
     "data": {
      "text/plain": [
       "505.8824885156255"
      ]
     },
     "execution_count": 567,
     "metadata": {},
     "output_type": "execute_result"
    }
   ],
   "source": [
    "#print the error\n",
    "#lr=.00033 neurons: 60, 60, and LSTM (patience = 15) (change random seed back to 42)\n",
    "mean_squared_error( y_prediction[:,0], prediction, squared=False) "
   ]
  },
  {
   "cell_type": "code",
   "execution_count": 542,
   "id": "cb59ff55-5341-424f-8faa-d12f897ef17d",
   "metadata": {},
   "outputs": [
    {
     "data": {
      "text/plain": [
       "1178.7889826562505"
      ]
     },
     "execution_count": 542,
     "metadata": {},
     "output_type": "execute_result"
    }
   ],
   "source": [
    "#print the error\n",
    "#lr=.00033 neurons: 45, 45, and LSTM (patience = 15) (change random seed back to 42)\n",
    "mean_squared_error( y_prediction[:,0], prediction, squared=False) "
   ]
  },
  {
   "cell_type": "code",
   "execution_count": 555,
   "id": "5aff9e16-3257-4f4e-8f0b-2be546b30e2e",
   "metadata": {},
   "outputs": [
    {
     "data": {
      "text/plain": [
       "871.9025080468755"
      ]
     },
     "execution_count": 555,
     "metadata": {},
     "output_type": "execute_result"
    }
   ],
   "source": [
    "#print the error\n",
    "#lr=.00033 neurons: 45, 45, 45, and LSTM (patience = 15) (change random seed back to 42)\n",
    "mean_squared_error( y_prediction[:,0], prediction, squared=False) "
   ]
  },
  {
   "cell_type": "code",
   "execution_count": 518,
   "id": "84feba3b-b919-4ef1-b73c-5973b0d93b92",
   "metadata": {},
   "outputs": [
    {
     "data": {
      "text/plain": [
       "75.88615062500048"
      ]
     },
     "execution_count": 518,
     "metadata": {},
     "output_type": "execute_result"
    }
   ],
   "source": [
    "#print the error\n",
    "#lr=.00033 neurons: 50, 50, and LSTM (patience = 15) (change random seed back to 42)\n",
    "mean_squared_error( y_prediction[:,0], prediction, squared=False) "
   ]
  },
  {
   "cell_type": "code",
   "execution_count": 506,
   "id": "f63d128f-5463-4826-9b5b-a60bc66b0237",
   "metadata": {},
   "outputs": [
    {
     "data": {
      "text/plain": [
       "455.9847834375005"
      ]
     },
     "execution_count": 506,
     "metadata": {},
     "output_type": "execute_result"
    }
   ],
   "source": [
    "#print the error\n",
    "#lr=.00033 neurons: 40, 40, and LSTM (patience = 15) (change random seed back to 42)\n",
    "mean_squared_error( y_prediction[:,0], prediction, squared=False) "
   ]
  },
  {
   "cell_type": "code",
   "execution_count": 494,
   "id": "6bd8b931-50a8-4346-8743-d7c6129c865e",
   "metadata": {},
   "outputs": [
    {
     "data": {
      "text/plain": [
       "738.0941584375005"
      ]
     },
     "execution_count": 494,
     "metadata": {},
     "output_type": "execute_result"
    }
   ],
   "source": [
    "#print the error\n",
    "#lr=.00033 neurons: 30, 30, and LSTM (patience = 15) (change random seed back to 42)\n",
    "mean_squared_error( y_prediction[:,0], prediction, squared=False) "
   ]
  },
  {
   "cell_type": "code",
   "execution_count": 482,
   "id": "8454dba3-0670-4412-b727-44ae29ac3ad2",
   "metadata": {},
   "outputs": [
    {
     "data": {
      "text/plain": [
       "886.6027033593755"
      ]
     },
     "execution_count": 482,
     "metadata": {},
     "output_type": "execute_result"
    }
   ],
   "source": [
    "#print the error\n",
    "#lr=.00033 neurons: 20, 20, and LSTM (patience = 15) (change random seed back to 42)\n",
    "mean_squared_error( y_prediction[:,0], prediction, squared=False) "
   ]
  },
  {
   "cell_type": "code",
   "execution_count": 470,
   "id": "5ea89218-095f-4ab0-9747-1562607c386d",
   "metadata": {},
   "outputs": [
    {
     "data": {
      "text/plain": [
       "967.950725820313"
      ]
     },
     "execution_count": 470,
     "metadata": {},
     "output_type": "execute_result"
    }
   ],
   "source": [
    "#print the error\n",
    "#lr=.00033 neurons: 23, 20, 20, and LSTM (patience = 15) (change random seed back to 42)\n",
    "mean_squared_error( y_prediction[:,0], prediction, squared=False) "
   ]
  },
  {
   "cell_type": "code",
   "execution_count": 458,
   "id": "e5fda3d4-bf99-486a-8cb6-a91873bf9456",
   "metadata": {},
   "outputs": [
    {
     "data": {
      "text/plain": [
       "1426.539593007813"
      ]
     },
     "execution_count": 458,
     "metadata": {},
     "output_type": "execute_result"
    }
   ],
   "source": [
    "#print the error\n",
    "#lr=.00033 neurons: 23, 20, 10, and LSTM (patience = 15) (change random seed back to 42)\n",
    "mean_squared_error( y_prediction[:,0], prediction, squared=False) "
   ]
  },
  {
   "cell_type": "code",
   "execution_count": 446,
   "id": "de72ef92-86c1-4cfb-96e0-db29da093d0c",
   "metadata": {},
   "outputs": [
    {
     "data": {
      "text/plain": [
       "765.2672541406255"
      ]
     },
     "execution_count": 446,
     "metadata": {},
     "output_type": "execute_result"
    }
   ],
   "source": [
    "#print the error\n",
    "#lr=.00033 neurons: 20, 20, 20, and LSTM (patience = 15) (change random seed to 35)\n",
    "mean_squared_error( y_prediction[:,0], prediction, squared=False) "
   ]
  },
  {
   "cell_type": "code",
   "execution_count": 434,
   "id": "b9976ba5-95d0-432d-b84a-1704895e5aeb",
   "metadata": {},
   "outputs": [
    {
     "data": {
      "text/plain": [
       "659.0863459375005"
      ]
     },
     "execution_count": 434,
     "metadata": {},
     "output_type": "execute_result"
    }
   ],
   "source": [
    "#print the error\n",
    "#lr=.00033 neurons: 20, 20, 20, and LSTM (patience = 15) (change random seed to 41)\n",
    "mean_squared_error( y_prediction[:,0], prediction, squared=False) "
   ]
  },
  {
   "cell_type": "code",
   "execution_count": 422,
   "id": "f571075e-c7d4-4a1c-9456-1637b54b0290",
   "metadata": {},
   "outputs": [
    {
     "data": {
      "text/plain": [
       "801.7076838281255"
      ]
     },
     "execution_count": 422,
     "metadata": {},
     "output_type": "execute_result"
    }
   ],
   "source": [
    "#print the error\n",
    "#lr=.00033 neurons: 20, 20, 20, and LSTM (patience = 15) (change random seed back to 42)\n",
    "mean_squared_error( y_prediction[:,0], prediction, squared=False) "
   ]
  },
  {
   "cell_type": "code",
   "execution_count": 410,
   "id": "ee003bb9-bb1e-470a-a55a-3a6f42631b0c",
   "metadata": {},
   "outputs": [
    {
     "data": {
      "text/plain": [
       "1785.147991445313"
      ]
     },
     "execution_count": 410,
     "metadata": {},
     "output_type": "execute_result"
    }
   ],
   "source": [
    "#print the error\n",
    "#lr=.00033 neurons: 20, 20, 20, and LSTM (patience = 15) (change random seed to 4)\n",
    "mean_squared_error( y_prediction[:,0], prediction, squared=False) "
   ]
  },
  {
   "cell_type": "code",
   "execution_count": 398,
   "id": "9d021945-c267-4977-82f0-1e5b5b2560cc",
   "metadata": {},
   "outputs": [
    {
     "data": {
      "text/plain": [
       "1773.8578303125005"
      ]
     },
     "execution_count": 398,
     "metadata": {},
     "output_type": "execute_result"
    }
   ],
   "source": [
    "#print the error\n",
    "#lr=.00033 neurons: 20, 20, 20, and GRU (patience = 15)\n",
    "mean_squared_error( y_prediction[:,0], prediction, squared=False) "
   ]
  },
  {
   "cell_type": "code",
   "execution_count": 386,
   "id": "e3b5a0f0-ce7f-493e-a1e5-ec428150ae22",
   "metadata": {},
   "outputs": [
    {
     "data": {
      "text/plain": [
       "1978.356731679688"
      ]
     },
     "execution_count": 386,
     "metadata": {},
     "output_type": "execute_result"
    }
   ],
   "source": [
    "#print the error\n",
    "#lr=.00033 neurons: 20, 20, 20, 20 and LSTM (patience = 15)\n",
    "mean_squared_error( y_prediction[:,0], prediction, squared=False) "
   ]
  },
  {
   "cell_type": "code",
   "execution_count": 374,
   "id": "5ea6a612-e8bb-4970-bc7b-95f7827038f7",
   "metadata": {},
   "outputs": [
    {
     "data": {
      "text/plain": [
       "801.7076838281255"
      ]
     },
     "execution_count": 374,
     "metadata": {},
     "output_type": "execute_result"
    }
   ],
   "source": [
    "#print the error\n",
    "#lr=.00033 neurons: 20, 20, 20 and LSTM (patience = 15)\n",
    "mean_squared_error( y_prediction[:,0], prediction, squared=False) "
   ]
  },
  {
   "cell_type": "code",
   "execution_count": 362,
   "id": "850cbce9-453c-44fe-b99f-0202b753f259",
   "metadata": {},
   "outputs": [
    {
     "data": {
      "text/plain": [
       "1738.8541682031255"
      ]
     },
     "execution_count": 362,
     "metadata": {},
     "output_type": "execute_result"
    }
   ],
   "source": [
    "#print the error\n",
    "#lr=.00033 neurons: 10, 10, 10 and LSTM (patience = 15)\n",
    "mean_squared_error( y_prediction[:,0], prediction, squared=False) "
   ]
  },
  {
   "cell_type": "code",
   "execution_count": 350,
   "id": "792e6045-ea97-4ebc-a0bc-65121d2adfdb",
   "metadata": {},
   "outputs": [
    {
     "data": {
      "text/plain": [
       "1678.3419611718755"
      ]
     },
     "execution_count": 350,
     "metadata": {},
     "output_type": "execute_result"
    }
   ],
   "source": [
    "#print the error\n",
    "#lr=.00033 neurons: 20, 20, 20, 10 and LSTM (patience = 15)\n",
    "mean_squared_error( y_prediction[:,0], prediction, squared=False) "
   ]
  },
  {
   "cell_type": "code",
   "execution_count": 338,
   "id": "bd1c36bd-ed6b-4db2-9ec4-b24b8c529cca",
   "metadata": {},
   "outputs": [
    {
     "data": {
      "text/plain": [
       "1658.996380117188"
      ]
     },
     "execution_count": 338,
     "metadata": {},
     "output_type": "execute_result"
    }
   ],
   "source": [
    "#print the error\n",
    "#lr=.00033 neurons: 20, 20, 20, 10 and LSTM (patience = 25)\n",
    "mean_squared_error( y_prediction[:,0], prediction, squared=False) "
   ]
  },
  {
   "cell_type": "code",
   "execution_count": null,
   "id": "b07dd53a-efd8-427f-a6a1-5567d972f236",
   "metadata": {},
   "outputs": [
    {
     "data": {
      "text/plain": [
       "962.8087580468755"
      ]
     },
     "execution_count": 326,
     "metadata": {},
     "output_type": "execute_result"
    }
   ],
   "source": [
    "#print the error\n",
    "#lr=.00033 neurons: 20, 20, 10 and LSTM (patience = 15)\n",
    "mean_squared_error( y_prediction[:,0], prediction, squared=False) "
   ]
  },
  {
   "cell_type": "code",
   "execution_count": null,
   "id": "281990e7-270c-49b9-94f9-e1cc70a7ba82",
   "metadata": {},
   "outputs": [
    {
     "data": {
      "text/plain": [
       "1672.240520742188"
      ]
     },
     "execution_count": 314,
     "metadata": {},
     "output_type": "execute_result"
    }
   ],
   "source": [
    "#print the error\n",
    "#lr=.00033 neurons: 20, 10 and LSTM (patience = 5 for all previous runs)\n",
    "mean_squared_error( y_prediction[:,0], prediction, squared=False) "
   ]
  },
  {
   "cell_type": "code",
   "execution_count": null,
   "id": "85f108bf-1838-476f-b7e1-edc0ebff53e8",
   "metadata": {},
   "outputs": [
    {
     "data": {
      "text/plain": [
       "1660.0836603906255"
      ]
     },
     "execution_count": 302,
     "metadata": {},
     "output_type": "execute_result"
    }
   ],
   "source": [
    "#print the error\n",
    "#lr=.00033 neurons: 20, 10 and GRU\n",
    "mean_squared_error( y_prediction[:,0], prediction, squared=False) "
   ]
  },
  {
   "cell_type": "code",
   "execution_count": null,
   "id": "5b40c892-1a68-4a27-a9ec-32010c113113",
   "metadata": {},
   "outputs": [
    {
     "data": {
      "text/plain": [
       "1864.920696523438"
      ]
     },
     "execution_count": 290,
     "metadata": {},
     "output_type": "execute_result"
    }
   ],
   "source": [
    "#print the error\n",
    "#lr=.00033 neurons: 30, 4\n",
    "mean_squared_error( y_prediction[:,0], prediction, squared=False) "
   ]
  },
  {
   "cell_type": "code",
   "execution_count": null,
   "id": "6363f72c-f02a-4877-b878-32985e21c7c2",
   "metadata": {},
   "outputs": [
    {
     "data": {
      "text/plain": [
       "1935.566936757813"
      ]
     },
     "execution_count": 278,
     "metadata": {},
     "output_type": "execute_result"
    }
   ],
   "source": [
    "#print the error\n",
    "#lr=.00033 neurons: 23, 17, 4\n",
    "mean_squared_error( y_prediction[:,0], prediction, squared=False) "
   ]
  },
  {
   "cell_type": "code",
   "execution_count": null,
   "id": "462d7076-938d-458d-a8e0-45645676a55f",
   "metadata": {},
   "outputs": [
    {
     "data": {
      "text/plain": [
       "1574.828899648438"
      ]
     },
     "execution_count": 266,
     "metadata": {},
     "output_type": "execute_result"
    }
   ],
   "source": [
    "#print the error\n",
    "#lr=.00033 neurons: 17 and 10\n",
    "mean_squared_error( y_prediction[:,0], prediction, squared=False) "
   ]
  },
  {
   "cell_type": "code",
   "execution_count": null,
   "id": "1d0f7ea7-d5f4-4ad6-86e3-84b0726ef6b9",
   "metadata": {},
   "outputs": [
    {
     "data": {
      "text/plain": [
       "1152.142376210938"
      ]
     },
     "execution_count": 254,
     "metadata": {},
     "output_type": "execute_result"
    }
   ],
   "source": [
    "#print the error\n",
    "#lr=.00033 neurons: 20\n",
    "mean_squared_error( y_prediction[:,0], prediction, squared=False) "
   ]
  },
  {
   "cell_type": "code",
   "execution_count": null,
   "id": "b2f99701-1e26-4fc7-8735-c0c31d6d6c69",
   "metadata": {},
   "outputs": [
    {
     "data": {
      "text/plain": [
       "1841.555462148438"
      ]
     },
     "execution_count": 242,
     "metadata": {},
     "output_type": "execute_result"
    }
   ],
   "source": [
    "#print the error\n",
    "#lr=.00032\n",
    "mean_squared_error( y_prediction[:,0], prediction, squared=False) "
   ]
  },
  {
   "cell_type": "code",
   "execution_count": null,
   "id": "aea41011-ca43-4928-9962-1b8659b2e828",
   "metadata": {},
   "outputs": [
    {
     "data": {
      "text/plain": [
       "1158.312298085938"
      ]
     },
     "execution_count": 230,
     "metadata": {},
     "output_type": "execute_result"
    }
   ],
   "source": [
    "#print the error\n",
    "#lr=.00034\n",
    "mean_squared_error( y_prediction[:,0], prediction, squared=False) "
   ]
  },
  {
   "cell_type": "code",
   "execution_count": null,
   "id": "f7014ca7-2cdf-4457-a612-ff8d5d73e79f",
   "metadata": {},
   "outputs": [
    {
     "data": {
      "text/plain": [
       "1172.9293635156255"
      ]
     },
     "execution_count": 218,
     "metadata": {},
     "output_type": "execute_result"
    }
   ],
   "source": [
    "#print the error\n",
    "#lr=.00036\n",
    "mean_squared_error( y_prediction[:,0], prediction, squared=False) "
   ]
  },
  {
   "cell_type": "code",
   "execution_count": null,
   "id": "d62da31f-01da-4fdb-b5d8-5ce5017bb308",
   "metadata": {},
   "outputs": [
    {
     "data": {
      "text/plain": [
       "1191.555706289063"
      ]
     },
     "execution_count": 206,
     "metadata": {},
     "output_type": "execute_result"
    }
   ],
   "source": [
    "#print the error\n",
    "#lr=.00038\n",
    "mean_squared_error( y_prediction[:,0], prediction, squared=False) "
   ]
  },
  {
   "cell_type": "code",
   "execution_count": null,
   "id": "6c70d9e3-3a8d-48ee-b7ee-a5cecfe96cd6",
   "metadata": {},
   "outputs": [
    {
     "data": {
      "text/plain": [
       "1290.710491445313"
      ]
     },
     "execution_count": 194,
     "metadata": {},
     "output_type": "execute_result"
    }
   ],
   "source": [
    "#print the error\n",
    "#lr=.00047\n",
    "mean_squared_error( y_prediction[:,0], prediction, squared=False) "
   ]
  },
  {
   "cell_type": "code",
   "execution_count": null,
   "id": "86cc2da8-bf77-48dc-bb59-1599a6cb5597",
   "metadata": {},
   "outputs": [
    {
     "data": {
      "text/plain": [
       "1272.2255060937505"
      ]
     },
     "execution_count": 182,
     "metadata": {},
     "output_type": "execute_result"
    }
   ],
   "source": [
    "#print the error\n",
    "#lr =.00045\n",
    "mean_squared_error( y_prediction[:,0], prediction, squared=False) "
   ]
  },
  {
   "cell_type": "code",
   "execution_count": null,
   "id": "b71872c9-9975-49e1-9701-10615e5b78d1",
   "metadata": {},
   "outputs": [
    {
     "data": {
      "text/plain": [
       "1215.568889882813"
      ]
     },
     "execution_count": 170,
     "metadata": {},
     "output_type": "execute_result"
    }
   ],
   "source": [
    "#print the error\n",
    "#lr =.0004\n",
    "mean_squared_error( y_prediction[:,0], prediction, squared=False) "
   ]
  },
  {
   "cell_type": "code",
   "execution_count": null,
   "id": "e9d1ef6b-c7c5-477c-b059-94c460371de6",
   "metadata": {},
   "outputs": [
    {
     "data": {
      "text/plain": [
       "1382.1302912500005"
      ]
     },
     "execution_count": 153,
     "metadata": {},
     "output_type": "execute_result"
    }
   ],
   "source": [
    "#print the error\n",
    "#lr=.0005\n",
    "mean_squared_error( y_prediction[:,0], prediction, squared=False) "
   ]
  }
 ],
 "metadata": {
  "kernelspec": {
   "display_name": "Python 3 (ipykernel)",
   "language": "python",
   "name": "python3"
  },
  "language_info": {
   "codemirror_mode": {
    "name": "ipython",
    "version": 3
   },
   "file_extension": ".py",
   "mimetype": "text/x-python",
   "name": "python",
   "nbconvert_exporter": "python",
   "pygments_lexer": "ipython3",
   "version": "3.9.7"
  }
 },
 "nbformat": 4,
 "nbformat_minor": 5
}
