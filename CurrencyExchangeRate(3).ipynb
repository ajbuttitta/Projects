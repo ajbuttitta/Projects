{
 "cells": [
  {
   "cell_type": "markdown",
   "id": "b8a6be8b-19c5-4519-b7c2-8021988e4e95",
   "metadata": {},
   "source": [
    "# Currency Exchange Rate Application"
   ]
  },
  {
   "cell_type": "markdown",
   "id": "0debece1-dc7f-4aad-aa7f-993d87438e40",
   "metadata": {},
   "source": [
    "### Import Modules"
   ]
  },
  {
   "cell_type": "code",
   "execution_count": 2,
   "id": "6e88c83d-e32e-430d-879e-270b6b6a8d38",
   "metadata": {},
   "outputs": [],
   "source": [
    "import requests"
   ]
  },
  {
   "cell_type": "markdown",
   "id": "50ad756a-26b7-4989-a180-fec7dede1f46",
   "metadata": {},
   "source": [
    "### Function Definitions"
   ]
  },
  {
   "cell_type": "code",
   "execution_count": 3,
   "id": "3c0a28af-faa6-4869-a0d5-b75cf4d08ae3",
   "metadata": {},
   "outputs": [],
   "source": [
    "# get data from a URL (json=False) or an API (json=True), return None if call is not successful\n",
    "def getURLdata(url, options='',json=True):\n",
    "    try:\n",
    "        response = requests.get(url, options)\n",
    "        if not json and response:\n",
    "            response.encoding = 'utf-8'\n",
    "            return response.text\n",
    "        if response.status_code != 200:\n",
    "            raise\n",
    "            #raise = there was an error... raise the red flag\n",
    "            #200 is a success in getting the API\n",
    "        data = response.json()\n",
    "        return data\n",
    "    except:\n",
    "        print(\"API call was not successful.\")\n",
    "        return None"
   ]
  },
  {
   "cell_type": "markdown",
   "id": "e2d007e1-1020-48fa-bda9-1e005f817afa",
   "metadata": {},
   "source": [
    "### Application"
   ]
  },
  {
   "cell_type": "code",
   "execution_count": 4,
   "id": "19691b59-aa83-4662-9f71-5ca88346fe16",
   "metadata": {},
   "outputs": [],
   "source": [
    "#global variables\n",
    "currency = {'Canada': 'CAD', 'Hong Kong': 'HKD', 'Iceland': 'ISK', 'Philippines': 'PHP',\n",
    " 'Denmark': 'DKK', 'Hungary': 'HUF', 'Czechia': 'CZK', 'United Kingdom': 'GBP', 'Romania': 'RON',\n",
    " 'Sweden': 'SEK', 'Indonesia': 'IDR', 'India': 'INR', 'Brazil': 'BRL', 'Russia': 'RUB',\n",
    " 'Croatia': 'HRK', 'Japan': 'JPY', 'Thailand': 'THB', 'Switzerland': 'CHF', 'European Union': 'EUR',\n",
    " 'Malaysia': 'MYR', 'Bulgaria': 'BGN', 'Turkey': 'TRY', 'China': 'CNY', 'Norway': 'NOK',\n",
    " 'New Zealand': 'NZD', 'South Africa': 'ZAR', 'Mexico': 'MXN', 'Singapore': 'SGD', 'Australia': 'AUD',\n",
    " 'Israel': 'ILS', 'South Korea': 'KRW', 'Poland': 'PLN', 'United States': 'USD'}\n",
    "        \n",
    "url = \"https://api.exchangerate.host/latest\""
   ]
  },
  {
   "cell_type": "code",
   "execution_count": 5,
   "id": "40bbb4fa-f388-4d23-95ed-d58f8852c9e8",
   "metadata": {},
   "outputs": [],
   "source": [
    "apiOptions = {'base':'USD'}\n",
    "data = getURLdata(url,apiOptions)"
   ]
  },
  {
   "cell_type": "code",
   "execution_count": 6,
   "id": "fde8914a-b431-44ac-a041-a4c73fa0f69a",
   "metadata": {},
   "outputs": [],
   "source": [
    "#take the user's inputs and check to see if they are a country or currency code\n",
    "def checking(country):\n",
    "    country = country.upper()\n",
    "    if country in currency.values():\n",
    "        print(country)\n",
    "        return(country)\n",
    "    country = country.title()\n",
    "    if country in currency.keys():\n",
    "        country = currency[country]\n",
    "        print(country)\n",
    "        return(country)\n",
    "    else:\n",
    "        x = \"XXX\"\n",
    "        print(x)\n",
    "        return(x)"
   ]
  },
  {
   "cell_type": "code",
   "execution_count": 7,
   "id": "efe99be7-891d-4a37-825c-58f9827efb7e",
   "metadata": {},
   "outputs": [
    {
     "name": "stdout",
     "output_type": "stream",
     "text": [
      "Lets exchange!\n"
     ]
    },
    {
     "name": "stdin",
     "output_type": "stream",
     "text": [
      "Enter the amount:  10\n"
     ]
    },
    {
     "name": "stdout",
     "output_type": "stream",
     "text": [
      "10.0\n"
     ]
    },
    {
     "name": "stdin",
     "output_type": "stream",
     "text": [
      "Enter the desired country or the currency code to convert from:  uSD\n"
     ]
    },
    {
     "name": "stdout",
     "output_type": "stream",
     "text": [
      "USD\n"
     ]
    },
    {
     "name": "stdin",
     "output_type": "stream",
     "text": [
      "Enter the desired country or the currency code to convert to:  CnY\n"
     ]
    },
    {
     "name": "stdout",
     "output_type": "stream",
     "text": [
      "CNY\n",
      "63.91\n"
     ]
    },
    {
     "name": "stdin",
     "output_type": "stream",
     "text": [
      "Would you like to do another currency exchange (yes or no)? yes\n",
      "Enter the amount:  4999999\n"
     ]
    },
    {
     "name": "stdout",
     "output_type": "stream",
     "text": [
      "4999999.0\n"
     ]
    },
    {
     "name": "stdin",
     "output_type": "stream",
     "text": [
      "Enter the desired country or the currency code to convert from:  japAN\n"
     ]
    },
    {
     "name": "stdout",
     "output_type": "stream",
     "text": [
      "JPY\n"
     ]
    },
    {
     "name": "stdin",
     "output_type": "stream",
     "text": [
      "Enter the desired country or the currency code to convert to:  inDIA\n"
     ]
    },
    {
     "name": "stdout",
     "output_type": "stream",
     "text": [
      "INR\n",
      "6.65\n"
     ]
    },
    {
     "name": "stdin",
     "output_type": "stream",
     "text": [
      "Would you like to do another currency exchange (yes or no)? yes\n",
      "Enter the amount:  dvgbd\n"
     ]
    },
    {
     "name": "stdout",
     "output_type": "stream",
     "text": [
      "XXX\n"
     ]
    },
    {
     "name": "stdin",
     "output_type": "stream",
     "text": [
      "Enter the desired country or the currency code to convert from:  fff\n"
     ]
    },
    {
     "name": "stdout",
     "output_type": "stream",
     "text": [
      "XXX\n"
     ]
    },
    {
     "name": "stdin",
     "output_type": "stream",
     "text": [
      "Enter the desired country or the currency code to convert to:  ggg\n"
     ]
    },
    {
     "name": "stdout",
     "output_type": "stream",
     "text": [
      "XXX\n",
      "You did not give a correct currency\n"
     ]
    },
    {
     "name": "stdin",
     "output_type": "stream",
     "text": [
      "Would you like to do another currency exchange (yes or no)? yes\n",
      "Enter the amount:  50\n"
     ]
    },
    {
     "name": "stdout",
     "output_type": "stream",
     "text": [
      "50.0\n"
     ]
    },
    {
     "name": "stdin",
     "output_type": "stream",
     "text": [
      "Enter the desired country or the currency code to convert from:  EuR\n"
     ]
    },
    {
     "name": "stdout",
     "output_type": "stream",
     "text": [
      "EUR\n"
     ]
    },
    {
     "name": "stdin",
     "output_type": "stream",
     "text": [
      "Enter the desired country or the currency code to convert to:  South KOREA\n"
     ]
    },
    {
     "name": "stdout",
     "output_type": "stream",
     "text": [
      "KRW\n",
      "13,683.20\n"
     ]
    },
    {
     "name": "stdin",
     "output_type": "stream",
     "text": [
      "Would you like to do another currency exchange (yes or no)? no\n"
     ]
    },
    {
     "name": "stdout",
     "output_type": "stream",
     "text": [
      "Thanks for exchanging!\n"
     ]
    }
   ],
   "source": [
    "print(\"Lets exchange!\")\n",
    "\n",
    "#Get the user's desired amount and country they want to exchange\n",
    "try:\n",
    "    amount = float(input(\"Enter the amount: \"))\n",
    "except:\n",
    "    print(\"XXX\")\n",
    "print(amount)\n",
    "countryfrom = input(\"Enter the desired country or the currency code to convert from: \")\n",
    "countryfrom = checking(countryfrom)\n",
    "countryto = input(\"Enter the desired country or the currency code to convert to: \")\n",
    "countryto = checking(countryto)\n",
    "\n",
    "#Send the user's input to the function\n",
    "if countryto == \"XXX\" or countryfrom == \"XXX\":\n",
    "    print(\"You did not give a correct currency\")\n",
    "else:\n",
    "    #currencyex(amount, countryfrom, country)\n",
    "    apiOptions = {'base':countryfrom}\n",
    "    data = getURLdata(url,apiOptions)\n",
    "    answer = data['rates'][countryto]*amount\n",
    "    print(\"{:,.2f}\".format(answer))\n",
    "\n",
    "#Allow the user to do as many exchanges as they want\n",
    "while input(\"Would you like to do another currency exchange (yes or no)?\").upper() == \"YES\":\n",
    "    try:\n",
    "        dollar = float(input(\"Enter the amount: \"))\n",
    "    except:\n",
    "        dollar = \"XXX\"\n",
    "    print(dollar)\n",
    "    countryfrom = input(\"Enter the desired country or the currency code to convert from: \")\n",
    "    countryfrom = checking(countryfrom)\n",
    "    countryto = input(\"Enter the desired country or the currency code to convert to: \")\n",
    "    countryto = checking(countryto)\n",
    "    if countryfrom == \"XXX\" or countryto == \"XXX\":\n",
    "        print(\"You did not give a correct currency\")\n",
    "    else:\n",
    "        apiOptions = {'base':countryfrom}\n",
    "        data = getURLdata(url,apiOptions)\n",
    "        answer = data['rates'][countryto]*amount\n",
    "        print(\"{:,.2f}\".format(answer))\n",
    "print(\"Thanks for exchanging!\")"
   ]
  },
  {
   "cell_type": "code",
   "execution_count": null,
   "id": "ad57afe2-04ca-42af-b44b-9088d4de20ec",
   "metadata": {},
   "outputs": [],
   "source": []
  }
 ],
 "metadata": {
  "kernelspec": {
   "display_name": "Python 3",
   "language": "python",
   "name": "python3"
  },
  "language_info": {
   "codemirror_mode": {
    "name": "ipython",
    "version": 3
   },
   "file_extension": ".py",
   "mimetype": "text/x-python",
   "name": "python",
   "nbconvert_exporter": "python",
   "pygments_lexer": "ipython3",
   "version": "3.8.8"
  }
 },
 "nbformat": 4,
 "nbformat_minor": 5
}
