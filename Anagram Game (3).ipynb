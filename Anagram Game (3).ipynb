{
 "cells": [
  {
   "cell_type": "markdown",
   "id": "d52a3e32-88ec-43c4-911b-e72ceee3acd7",
   "metadata": {},
   "source": [
    "## Anagram Game"
   ]
  },
  {
   "cell_type": "markdown",
   "id": "2834866f-5139-40ea-99e8-a5bec7d280c1",
   "metadata": {},
   "source": [
    "##### Anthony Buttitta Section 1"
   ]
  },
  {
   "cell_type": "code",
   "execution_count": 2,
   "id": "51adaf56-9192-44b7-b119-8e1035e12822",
   "metadata": {},
   "outputs": [],
   "source": [
    "import random"
   ]
  },
  {
   "cell_type": "code",
   "execution_count": 3,
   "id": "207ab718-e5db-4a13-8ea4-a2df50c800d4",
   "metadata": {},
   "outputs": [],
   "source": [
    "#a function that returns a randomly selected word from the list of words\n",
    "def getWord():\n",
    "    rannum = random.randint(0, len(wordList)-1)\n",
    "    return wordList[rannum]"
   ]
  },
  {
   "cell_type": "code",
   "execution_count": 4,
   "id": "80d02061-e2f0-46cb-a1ca-c7c55efcca0f",
   "metadata": {},
   "outputs": [],
   "source": [
    "#a function that shuffles the letters in a provided word and returns the shuffled word\n",
    "def shuffle(word):\n",
    "    letters = list(word)\n",
    "    shuffled = word\n",
    "    while shuffled == word:\n",
    "        random.shuffle(letters)\n",
    "        shuffled = ''.join(letters)\n",
    "    return shuffled"
   ]
  },
  {
   "cell_type": "code",
   "execution_count": 5,
   "id": "74759cb7-b057-4104-af3d-8b1fa218bc28",
   "metadata": {},
   "outputs": [],
   "source": [
    "#a list of words (feel free to add more)\n",
    "wordList = ['nova', 'bartley', 'wildcat', 'python', 'mendel', 'business', 'loops', 'functions', 'spring', 'covid']"
   ]
  },
  {
   "cell_type": "code",
   "execution_count": 9,
   "id": "e526b36a-90bb-4b00-a3fd-f50ab918ddfc",
   "metadata": {},
   "outputs": [
    {
     "name": "stdout",
     "output_type": "stream",
     "text": [
      "Let's play The Anagram Game!\n",
      "\n",
      "lmdeen\n"
     ]
    },
    {
     "name": "stdin",
     "output_type": "stream",
     "text": [
      "Guess: MENdel\n"
     ]
    },
    {
     "name": "stdout",
     "output_type": "stream",
     "text": [
      "WINNER\n",
      "\n",
      "otypnh\n"
     ]
    },
    {
     "name": "stdin",
     "output_type": "stream",
     "text": [
      "Guess: PyTHon\n"
     ]
    },
    {
     "name": "stdout",
     "output_type": "stream",
     "text": [
      "WINNER\n",
      "\n",
      "tawcild\n"
     ]
    },
    {
     "name": "stdin",
     "output_type": "stream",
     "text": [
      "Guess: wildcat\n"
     ]
    },
    {
     "name": "stdout",
     "output_type": "stream",
     "text": [
      "WINNER\n",
      "\n",
      "vnao\n"
     ]
    },
    {
     "name": "stdin",
     "output_type": "stream",
     "text": [
      "Guess: nov\n"
     ]
    },
    {
     "name": "stdout",
     "output_type": "stream",
     "text": [
      "Sorry, incorrect. Try again.\n"
     ]
    },
    {
     "name": "stdin",
     "output_type": "stream",
     "text": [
      "Guess: nov\n"
     ]
    },
    {
     "name": "stdout",
     "output_type": "stream",
     "text": [
      "Sorry, incorrect. Try again.\n"
     ]
    },
    {
     "name": "stdin",
     "output_type": "stream",
     "text": [
      "Guess: nov\n"
     ]
    },
    {
     "name": "stdout",
     "output_type": "stream",
     "text": [
      "That's three attempts... you lose!\n",
      "Try another word\n",
      "\n",
      "vcdio\n"
     ]
    },
    {
     "name": "stdin",
     "output_type": "stream",
     "text": [
      "Guess: covIDD\n"
     ]
    },
    {
     "name": "stdout",
     "output_type": "stream",
     "text": [
      "Sorry, incorrect. Try again.\n"
     ]
    },
    {
     "name": "stdin",
     "output_type": "stream",
     "text": [
      "Guess: coviS\n"
     ]
    },
    {
     "name": "stdout",
     "output_type": "stream",
     "text": [
      "Sorry, incorrect. Try again.\n"
     ]
    },
    {
     "name": "stdin",
     "output_type": "stream",
     "text": [
      "Guess: coVID\n"
     ]
    },
    {
     "name": "stdout",
     "output_type": "stream",
     "text": [
      "WINNER\n",
      "\n",
      "mdenel\n"
     ]
    },
    {
     "name": "stdin",
     "output_type": "stream",
     "text": [
      "Guess: mendel\n"
     ]
    },
    {
     "name": "stdout",
     "output_type": "stream",
     "text": [
      "WINNER\n",
      "\n",
      "atlebry\n"
     ]
    },
    {
     "name": "stdin",
     "output_type": "stream",
     "text": [
      "Guess: done\n"
     ]
    },
    {
     "name": "stdout",
     "output_type": "stream",
     "text": [
      "You won a total of 5 out of 6 times.\n"
     ]
    }
   ],
   "source": [
    "wins = 0\n",
    "total = 0\n",
    "print(\"Let's play The Anagram Game!\")\n",
    "print(\"\")\n",
    "#Allow user to play until they enter done\n",
    "while True:\n",
    "    word = getWord()\n",
    "    print(shuffle(word))\n",
    "    x = 0\n",
    "    total +=1\n",
    "    #Allow three attempt per word and take in the user's guess\n",
    "    while x < 3:\n",
    "        guess = input(\"Guess:\")\n",
    "        x += 1\n",
    "        #If the user enters done before they make a single attempt, then that shouldn't count as an attempt\n",
    "        if guess.upper() == \"DONE\" and x == 1:\n",
    "            total -=1\n",
    "            break\n",
    "        #Allow user to end game in the middle of an attempt        \n",
    "        if guess.upper() == \"DONE\":\n",
    "            break\n",
    "        #Check to see if the guess matches the correct word\n",
    "        if guess.upper() == word.upper():\n",
    "            print(\"WINNER\")\n",
    "            print(\"\")\n",
    "            wins +=1\n",
    "            break\n",
    "        #Break out of the while loop\n",
    "        if guess.upper() != word.upper() and x == 3:\n",
    "            print(\"That's three attempts... you lose!\")\n",
    "            print(\"Try another word\")\n",
    "            print(\"\")\n",
    "            break\n",
    "        if guess.upper() != word.upper():\n",
    "            print(\"Sorry, incorrect. Try again.\")\n",
    "    #To break out of the while loop\n",
    "    if guess.upper() == \"DONE\":\n",
    "        break\n",
    "print(\"You won a total of \", wins, \" out of \", total, \" times.\", sep = \"\")"
   ]
  }
 ],
 "metadata": {
  "kernelspec": {
   "display_name": "Python 3.8 (XPython)",
   "language": "python",
   "name": "xpython"
  },
  "language_info": {
   "file_extension": ".py",
   "mimetype": "text/x-python",
   "name": "python",
   "version": "3.8.10"
  }
 },
 "nbformat": 4,
 "nbformat_minor": 5
}
